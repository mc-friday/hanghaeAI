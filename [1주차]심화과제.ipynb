{
  "nbformat": 4,
  "nbformat_minor": 0,
  "metadata": {
    "colab": {
      "provenance": [],
      "gpuType": "T4",
      "authorship_tag": "ABX9TyNJDnCIOQzb/lA6RzZibjxS",
      "include_colab_link": true
    },
    "kernelspec": {
      "name": "python3",
      "display_name": "Python 3"
    },
    "language_info": {
      "name": "python"
    },
    "accelerator": "GPU"
  },
  "cells": [
    {
      "cell_type": "markdown",
      "metadata": {
        "id": "view-in-github",
        "colab_type": "text"
      },
      "source": [
        "<a href=\"https://colab.research.google.com/github/mc-friday/hanghaeAI/blob/main/%5B1%EC%A3%BC%EC%B0%A8%5D%EC%8B%AC%ED%99%94%EA%B3%BC%EC%A0%9C.ipynb\" target=\"_parent\"><img src=\"https://colab.research.google.com/assets/colab-badge.svg\" alt=\"Open In Colab\"/></a>"
      ]
    },
    {
      "cell_type": "markdown",
      "source": [
        "#[심화과제] # MNIST 예측 모델에 deep learning techniques 적용하기"
      ],
      "metadata": {
        "id": "ti24EnpavmFR"
      }
    },
    {
      "cell_type": "code",
      "execution_count": 86,
      "metadata": {
        "id": "WAl1ekZgvSTg"
      },
      "outputs": [],
      "source": [
        "import torch\n",
        "import torchvision\n",
        "import torchvision.transforms as transforms\n",
        "import torch.nn as nn\n",
        "import torch.optim as optim\n",
        "import matplotlib.pyplot as plt\n",
        "import numpy as np"
      ]
    },
    {
      "cell_type": "markdown",
      "source": [
        "## 1. 데이터셋"
      ],
      "metadata": {
        "id": "jMFged_R8reZ"
      }
    },
    {
      "cell_type": "code",
      "source": [
        "# 데이터셋 전처리\n",
        "transform = transforms.Compose([\n",
        "    transforms.ToTensor(),\n",
        "    transforms.Normalize((0.5, 0.5, 0.5), (0.5, 0.5, 0.5))\n",
        "])"
      ],
      "metadata": {
        "id": "nYHeSLZzvvhY"
      },
      "execution_count": 87,
      "outputs": []
    },
    {
      "cell_type": "markdown",
      "source": [
        "### 1.1. Train 데이터셋\n",
        "[과제] Dataset을 MNIST에서 CIFAR10으로 변경해줍니다."
      ],
      "metadata": {
        "id": "1CFN1Jcj1P8Z"
      }
    },
    {
      "cell_type": "code",
      "source": [
        "# CIFAR10 데이터셋 다운로드\n",
        "trainset = torchvision.datasets.CIFAR10(\n",
        "    root='./data',\n",
        "    train=True,\n",
        "    download=True,\n",
        "    transform=transform\n",
        ")"
      ],
      "metadata": {
        "colab": {
          "base_uri": "https://localhost:8080/"
        },
        "id": "_LlJbtbMwARU",
        "outputId": "7c86cac4-a289-4337-d702-b1bbb4c6ff99"
      },
      "execution_count": 88,
      "outputs": [
        {
          "output_type": "stream",
          "name": "stdout",
          "text": [
            "Files already downloaded and verified\n"
          ]
        }
      ]
    },
    {
      "cell_type": "code",
      "source": [
        "trainloader = torch.utils.data.DataLoader(\n",
        "    trainset,\n",
        "    batch_size=256,\n",
        "    shuffle=True\n",
        ")"
      ],
      "metadata": {
        "id": "FuISwZObxApc"
      },
      "execution_count": 89,
      "outputs": []
    },
    {
      "cell_type": "code",
      "source": [
        "# WARNING:matplotlib.image:Clipping input data to the valid range for imshow with RGB data ([0..1] for floats or [0..255] for integers).\n",
        "# 이미지 데이터를 시각화 하면서 위 경고가 떠서 [-1, 1] 범위를 [0, 1]로 다시 변환하는 함수를 만듬\n",
        "# 역정규화 함수 정의\n",
        "def denormalize(img, mean=(0.5, 0.5, 0.5), std=(0.5, 0.5, 0.5)):\n",
        "    img = img.clone()  # 원본 데이터를 보존\n",
        "    for t, m, s in zip(img, mean, std):\n",
        "        t.mul_(s).add_(m)  # std를 곱하고 mean을 더함\n",
        "    return img"
      ],
      "metadata": {
        "id": "kqEuuksZ320A"
      },
      "execution_count": 90,
      "outputs": []
    },
    {
      "cell_type": "markdown",
      "source": [
        "### 1.1.1. 데이터셋 입력 shape 확인\n",
        "[과제] CIFAR10의 입력 shape 확인"
      ],
      "metadata": {
        "id": "6a1Z_GcI40FX"
      }
    },
    {
      "cell_type": "code",
      "source": [
        "print(\"[LOG]\",len(trainset))\n",
        "print(\"[LOG]\",trainset[0][0].shape, trainset[0][1])"
      ],
      "metadata": {
        "colab": {
          "base_uri": "https://localhost:8080/"
        },
        "id": "yXX2tOq5w01B",
        "outputId": "e77a084c-bbf0-4937-8069-465ff4799797"
      },
      "execution_count": 91,
      "outputs": [
        {
          "output_type": "stream",
          "name": "stdout",
          "text": [
            "[LOG] 50000\n",
            "[LOG] torch.Size([3, 32, 32]) 6\n"
          ]
        }
      ]
    },
    {
      "cell_type": "markdown",
      "source": [
        "### 1.1.2. Train 데이터셋 첫 번째 이미지 확인"
      ],
      "metadata": {
        "id": "-IEYhoDi5BXO"
      }
    },
    {
      "cell_type": "code",
      "source": [
        "train_image, train_label = trainset[0]\n",
        "train_image = denormalize(train_image)  # 역정규화\n",
        "print(\"[LOG] Train 첫 번째 이미지 Label:\", train_label)\n",
        "\n",
        "plt.figure(figsize=(4, 4))\n",
        "plt.subplot(1, 2, 1)\n",
        "plt.imshow(train_image.permute(1, 2, 0))  # [C, H, W] -> [H, W, C]\n",
        "plt.title(f\"Train Label: {train_label}\")\n",
        "plt.axis('off')"
      ],
      "metadata": {
        "colab": {
          "base_uri": "https://localhost:8080/",
          "height": 235
        },
        "id": "Gq8g41XTwYpH",
        "outputId": "df569aee-7f3f-4489-8d27-4c076c1da83a"
      },
      "execution_count": 92,
      "outputs": [
        {
          "output_type": "stream",
          "name": "stdout",
          "text": [
            "[LOG] Train 첫 번째 이미지 Label: 6\n"
          ]
        },
        {
          "output_type": "execute_result",
          "data": {
            "text/plain": [
              "(-0.5, 31.5, 31.5, -0.5)"
            ]
          },
          "metadata": {},
          "execution_count": 92
        },
        {
          "output_type": "display_data",
          "data": {
            "text/plain": [
              "<Figure size 400x400 with 1 Axes>"
            ],
            "image/png": "[encoded data removed]"
          },
          "metadata": {}
        }
      ]
    },
    {
      "cell_type": "markdown",
      "source": [
        "### 1.2. Test 데이터셋\n",
        "[과제] batch_size = 256로 설정"
      ],
      "metadata": {
        "id": "6x4I60DQ1Td6"
      }
    },
    {
      "cell_type": "code",
      "source": [
        "testset = torchvision.datasets.CIFAR10(\n",
        "    root='./data',\n",
        "    train=False,\n",
        "    download=True,\n",
        "    transform=transform\n",
        ")"
      ],
      "metadata": {
        "colab": {
          "base_uri": "https://localhost:8080/"
        },
        "id": "t_TdtLFr1YWU",
        "outputId": "60946f03-df25-40a5-ff69-509052ae37e9"
      },
      "execution_count": 93,
      "outputs": [
        {
          "output_type": "stream",
          "name": "stdout",
          "text": [
            "Files already downloaded and verified\n"
          ]
        }
      ]
    },
    {
      "cell_type": "code",
      "source": [
        "testloader = torch.utils.data.DataLoader(\n",
        "    testset,\n",
        "    batch_size=256,\n",
        "    shuffle=False\n",
        ")"
      ],
      "metadata": {
        "id": "LUvqHz4M1iRi"
      },
      "execution_count": 94,
      "outputs": []
    },
    {
      "cell_type": "markdown",
      "source": [
        "### 1.2.1. Test 데이터셋의 첫 번째 이미지 확인"
      ],
      "metadata": {
        "id": "0M9IFeXF1wvr"
      }
    },
    {
      "cell_type": "code",
      "source": [
        "test_image, test_label = testset[0]\n",
        "test_image = denormalize(test_image)  # 역정규화\n",
        "print(\"[LOG] Test 첫 번째 이미지 Label:\", test_label)\n",
        "\n",
        "plt.figure(figsize=(4, 4))\n",
        "plt.subplot(1, 2, 2)\n",
        "plt.imshow(test_image.permute(1, 2, 0))  # [C, H, W] -> [H, W, C]\n",
        "plt.title(f\"Test Label: {test_label}\")\n",
        "plt.axis('off')\n",
        "plt.show()"
      ],
      "metadata": {
        "colab": {
          "base_uri": "https://localhost:8080/",
          "height": 217
        },
        "id": "pE5rOTWA2V1A",
        "outputId": "0158ab74-f310-46ff-f1f2-448f85eeebf1"
      },
      "execution_count": 95,
      "outputs": [
        {
          "output_type": "stream",
          "name": "stdout",
          "text": [
            "[LOG] Test 첫 번째 이미지 Label: 3\n"
          ]
        },
        {
          "output_type": "display_data",
          "data": {
            "text/plain": [
              "<Figure size 400x400 with 1 Axes>"
            ],
            "image/png": "[encoded data removed]"
          },
          "metadata": {}
        }
      ]
    },
    {
      "cell_type": "markdown",
      "source": [
        "## 2. Model 정의\n",
        "[과제] Activation 함수를 nn.ReLU에서 nn.LeakyReLU로 변경해줍니다."
      ],
      "metadata": {
        "id": "iGbz4w7N5Iin"
      }
    },
    {
      "cell_type": "markdown",
      "source": [
        "### 2.1.1. LeakyReLUModel"
      ],
      "metadata": {
        "id": "fJL-4B6uIrBl"
      }
    },
    {
      "cell_type": "code",
      "source": [
        "class LeakyReLUModel(nn.Module):\n",
        "    def __init__(self, input_dim, hidden_dim, output_dim):\n",
        "        super().__init__()\n",
        "        self.layer1 = nn.Linear(input_dim, hidden_dim)\n",
        "        self.layer2 = nn.Linear(hidden_dim, hidden_dim)\n",
        "        self.layer3 = nn.Linear(hidden_dim, output_dim)\n",
        "        self.act = nn.LeakyReLU(0.1)\n",
        "\n",
        "    def forward(self, x):\n",
        "        x = torch.flatten(x, start_dim=1)\n",
        "        x = self.act(self.layer1(x))\n",
        "        x = self.act(self.layer2(x))\n",
        "        x = self.layer3(x)\n",
        "        return x"
      ],
      "metadata": {
        "id": "L60gVJky5NQG"
      },
      "execution_count": 96,
      "outputs": []
    },
    {
      "cell_type": "markdown",
      "source": [
        "### 2.1.2. SigmoidModel"
      ],
      "metadata": {
        "id": "k_3dflJtI3Ll"
      }
    },
    {
      "cell_type": "code",
      "source": [
        "class SigmoidModel(nn.Module):\n",
        "    def __init__(self, input_dim, hidden_dim, output_dim):\n",
        "        super().__init__()\n",
        "        self.layer1 = nn.Linear(input_dim, hidden_dim)\n",
        "        self.layer2 = nn.Linear(hidden_dim, hidden_dim)\n",
        "        self.layer3 = nn.Linear(hidden_dim, output_dim)\n",
        "        self.act = nn.Sigmoid()\n",
        "\n",
        "    def forward(self, x):\n",
        "        x = torch.flatten(x, start_dim=1)\n",
        "        x = self.act(self.layer1(x))\n",
        "        x = self.act(self.layer2(x))\n",
        "        x = self.layer3(x)\n",
        "        return x"
      ],
      "metadata": {
        "id": "baSySZz3I5_9"
      },
      "execution_count": 97,
      "outputs": []
    },
    {
      "cell_type": "markdown",
      "source": [
        "### 2.1.3. Dropout 적용한 LeakyReLUModel"
      ],
      "metadata": {
        "id": "3st6XziHJEV9"
      }
    },
    {
      "cell_type": "code",
      "source": [
        "class DropoutLeakyReLUModel(nn.Module):\n",
        "    def __init__(self, input_dim, hidden_dim, output_dim, dropout_prob=0.1):\n",
        "        super().__init__()\n",
        "        self.layer1 = nn.Linear(input_dim, hidden_dim)\n",
        "        self.layer2 = nn.Linear(hidden_dim, hidden_dim)\n",
        "        self.layer3 = nn.Linear(hidden_dim, output_dim)\n",
        "        self.act = nn.LeakyReLU(0.1)\n",
        "        self.dropout = nn.Dropout(p=dropout_prob) # 과제적용\n",
        "\n",
        "    def forward(self, x):\n",
        "        x = torch.flatten(x, start_dim=1)\n",
        "        x = self.dropout(self.act(self.layer1(x)))\n",
        "        x = self.dropout(self.act(self.layer2(x)))\n",
        "        x = self.layer3(x)  # No activation for the output layer\n",
        "        return x"
      ],
      "metadata": {
        "id": "9r8d6FepJDPa"
      },
      "execution_count": 98,
      "outputs": []
    },
    {
      "cell_type": "markdown",
      "source": [
        "### 2.2. Model의 정확도를 측정하는 코드\n",
        "[과제] with torch.no_grad() 적용"
      ],
      "metadata": {
        "id": "PdiohhwN5gb_"
      }
    },
    {
      "cell_type": "code",
      "source": [
        "# Accuracy 계산 함수\n",
        "def accuracy(model, dataloader):\n",
        "    cnt = 0\n",
        "    acc = 0\n",
        "    with torch.no_grad(): # 과제 적용\n",
        "        model.eval()\n",
        "        for data in dataloader:\n",
        "            inputs, labels = data\n",
        "            inputs, labels = inputs.to('cuda'), labels.to('cuda')\n",
        "\n",
        "            preds = model(inputs)\n",
        "            preds = torch.argmax(preds, dim=-1)\n",
        "\n",
        "            cnt += labels.shape[0]\n",
        "            acc += (labels == preds).sum().item()\n",
        "\n",
        "    return acc / cnt"
      ],
      "metadata": {
        "id": "ioNok99B5cP5"
      },
      "execution_count": 105,
      "outputs": []
    },
    {
      "cell_type": "markdown",
      "source": [
        "### 2.3. Model의 학습함수\n",
        "[과제] model.train()을 for data in trainloader: 이전 줄에 둡니다.\\\n",
        "[과제] n_epochs = 50 설정"
      ],
      "metadata": {
        "id": "UDrTiPt7vlKH"
      }
    },
    {
      "cell_type": "code",
      "source": [
        "# 학습 함수\n",
        "def train(model, optimizer, criterion, trainloader, testloader, n_epochs):\n",
        "    train_accs = []\n",
        "    test_accs = []\n",
        "\n",
        "    for epoch in range(n_epochs):\n",
        "        model.train() # 과제 적용\n",
        "        total_loss = 0.0\n",
        "\n",
        "        for data in trainloader:\n",
        "            inputs, labels = data\n",
        "            inputs, labels = inputs.to('cuda'), labels.to('cuda')\n",
        "\n",
        "            optimizer.zero_grad()\n",
        "            preds = model(inputs)\n",
        "            loss = criterion(preds, labels)\n",
        "            loss.backward()\n",
        "            optimizer.step()\n",
        "\n",
        "            total_loss += loss.item()\n",
        "\n",
        "        # Calculate train and test accuracy\n",
        "        train_acc = accuracy(model, trainloader)\n",
        "        test_acc = accuracy(model, testloader)\n",
        "        train_accs.append(train_acc)\n",
        "        test_accs.append(test_acc)\n",
        "\n",
        "        print(f\"[LOG] Epoch {epoch+1}/{n_epochs} | Loss: {total_loss:.4f} | Train Acc: {train_acc:.4f} | Test Acc: {test_acc:.4f} | Model: {model.__class__.__name__} | Optimizer: {optimizer.__class__.__name__}\")\n",
        "\n",
        "    return train_accs, test_accs"
      ],
      "metadata": {
        "id": "HQHjELF_5rvN"
      },
      "execution_count": 100,
      "outputs": []
    },
    {
      "cell_type": "code",
      "source": [
        "# plot 함수\n",
        "def plot_acc(train_accs, test_accs, title, label1='train', label2='test'):\n",
        "    plt.figure(figsize=(10, 5))\n",
        "    x = np.arange(len(train_accs))\n",
        "    plt.plot(x, train_accs, label=label1)\n",
        "    plt.plot(x, test_accs, label=label2)\n",
        "    plt.xlabel(\"Epochs\")\n",
        "    plt.ylabel(\"Accuracy\")\n",
        "    plt.legend()\n",
        "    plt.title(title)\n",
        "    plt.show()\n"
      ],
      "metadata": {
        "id": "2V7cb-28k7BO"
      },
      "execution_count": 115,
      "outputs": []
    },
    {
      "cell_type": "code",
      "source": [
        "input_dim = 3 * 32 * 32  # CIFAR-10 input size\n",
        "hidden_dim = 512\n",
        "output_dim = 10  # 10 classes for CIFAR-10\n",
        "n_epochs = 50 # 과제 적용\n",
        "# Loss 함수\n",
        "criterion = nn.CrossEntropyLoss()"
      ],
      "metadata": {
        "id": "mi-_yp4e56bv"
      },
      "execution_count": 102,
      "outputs": []
    },
    {
      "cell_type": "markdown",
      "source": [
        "##3. SGD와 Adam 성능 비교"
      ],
      "metadata": {
        "id": "oIyLiOCH6H3y"
      }
    },
    {
      "cell_type": "code",
      "source": [
        "model_sgd = LeakyReLUModel(input_dim, hidden_dim, output_dim).to('cuda')\n",
        "optimizer_sgd = optim.SGD(model_sgd.parameters(), lr=0.001)\n",
        "\n",
        "model_adam = LeakyReLUModel(input_dim, hidden_dim, output_dim).to('cuda')\n",
        "optimizer_adam = optim.Adam(model_adam.parameters(), lr=0.001)"
      ],
      "metadata": {
        "id": "Z47Aqku06Glc"
      },
      "execution_count": 103,
      "outputs": []
    },
    {
      "cell_type": "markdown",
      "source": [
        "### 3.1. SGD Optimizer로 학습 시작"
      ],
      "metadata": {
        "id": "QXu0pV-k8YB5"
      }
    },
    {
      "cell_type": "code",
      "source": [
        "print(\"[LOG] SGD Optimizer로 학습 시작\")\n",
        "sgd_train_accs = train(model_sgd, optimizer_sgd, criterion, trainloader, testloader, n_epochs)"
      ],
      "metadata": {
        "colab": {
          "base_uri": "https://localhost:8080/"
        },
        "id": "YKUM0QPf8cxJ",
        "outputId": "97f489a1-ec7d-45ce-fdf8-7fdda96a8bc9"
      },
      "execution_count": 84,
      "outputs": [
        {
          "output_type": "stream",
          "name": "stdout",
          "text": [
            "[LOG] SGD Optimizer로 학습 시작\n",
            "[LOG] Epoch 1/50 | Loss: 450.1189 | Train Acc: 0.1585 | Test Acc: 0.1528 | Model: LeakyReLUModel | Optimizer: SGD\n",
            "[LOG] Epoch 2/50 | Loss: 446.3534 | Train Acc: 0.2047 | Test Acc: 0.2031 | Model: LeakyReLUModel | Optimizer: SGD\n",
            "[LOG] Epoch 3/50 | Loss: 442.6701 | Train Acc: 0.2295 | Test Acc: 0.2271 | Model: LeakyReLUModel | Optimizer: SGD\n",
            "[LOG] Epoch 4/50 | Loss: 438.9587 | Train Acc: 0.2396 | Test Acc: 0.2417 | Model: LeakyReLUModel | Optimizer: SGD\n",
            "[LOG] Epoch 5/50 | Loss: 435.1685 | Train Acc: 0.2441 | Test Acc: 0.2457 | Model: LeakyReLUModel | Optimizer: SGD\n",
            "[LOG] Epoch 6/50 | Loss: 431.3662 | Train Acc: 0.2459 | Test Acc: 0.2510 | Model: LeakyReLUModel | Optimizer: SGD\n",
            "[LOG] Epoch 7/50 | Loss: 427.5288 | Train Acc: 0.2482 | Test Acc: 0.2516 | Model: LeakyReLUModel | Optimizer: SGD\n",
            "[LOG] Epoch 8/50 | Loss: 423.8034 | Train Acc: 0.2510 | Test Acc: 0.2552 | Model: LeakyReLUModel | Optimizer: SGD\n",
            "[LOG] Epoch 9/50 | Loss: 420.1884 | Train Acc: 0.2546 | Test Acc: 0.2574 | Model: LeakyReLUModel | Optimizer: SGD\n",
            "[LOG] Epoch 10/50 | Loss: 416.6781 | Train Acc: 0.2576 | Test Acc: 0.2610 | Model: LeakyReLUModel | Optimizer: SGD\n",
            "[LOG] Epoch 11/50 | Loss: 413.3891 | Train Acc: 0.2616 | Test Acc: 0.2658 | Model: LeakyReLUModel | Optimizer: SGD\n",
            "[LOG] Epoch 12/50 | Loss: 410.2581 | Train Acc: 0.2664 | Test Acc: 0.2703 | Model: LeakyReLUModel | Optimizer: SGD\n",
            "[LOG] Epoch 13/50 | Loss: 407.1971 | Train Acc: 0.2713 | Test Acc: 0.2734 | Model: LeakyReLUModel | Optimizer: SGD\n",
            "[LOG] Epoch 14/50 | Loss: 404.3490 | Train Acc: 0.2763 | Test Acc: 0.2788 | Model: LeakyReLUModel | Optimizer: SGD\n",
            "[LOG] Epoch 15/50 | Loss: 401.5564 | Train Acc: 0.2811 | Test Acc: 0.2821 | Model: LeakyReLUModel | Optimizer: SGD\n",
            "[LOG] Epoch 16/50 | Loss: 398.9067 | Train Acc: 0.2861 | Test Acc: 0.2870 | Model: LeakyReLUModel | Optimizer: SGD\n",
            "[LOG] Epoch 17/50 | Loss: 396.3528 | Train Acc: 0.2917 | Test Acc: 0.2930 | Model: LeakyReLUModel | Optimizer: SGD\n",
            "[LOG] Epoch 18/50 | Loss: 393.9226 | Train Acc: 0.2962 | Test Acc: 0.2980 | Model: LeakyReLUModel | Optimizer: SGD\n",
            "[LOG] Epoch 19/50 | Loss: 391.5705 | Train Acc: 0.3008 | Test Acc: 0.3046 | Model: LeakyReLUModel | Optimizer: SGD\n",
            "[LOG] Epoch 20/50 | Loss: 389.3304 | Train Acc: 0.3051 | Test Acc: 0.3069 | Model: LeakyReLUModel | Optimizer: SGD\n",
            "[LOG] Epoch 21/50 | Loss: 387.1454 | Train Acc: 0.3085 | Test Acc: 0.3117 | Model: LeakyReLUModel | Optimizer: SGD\n",
            "[LOG] Epoch 22/50 | Loss: 385.1641 | Train Acc: 0.3125 | Test Acc: 0.3146 | Model: LeakyReLUModel | Optimizer: SGD\n",
            "[LOG] Epoch 23/50 | Loss: 383.2593 | Train Acc: 0.3159 | Test Acc: 0.3184 | Model: LeakyReLUModel | Optimizer: SGD\n",
            "[LOG] Epoch 24/50 | Loss: 381.3977 | Train Acc: 0.3192 | Test Acc: 0.3222 | Model: LeakyReLUModel | Optimizer: SGD\n",
            "[LOG] Epoch 25/50 | Loss: 379.5808 | Train Acc: 0.3226 | Test Acc: 0.3255 | Model: LeakyReLUModel | Optimizer: SGD\n",
            "[LOG] Epoch 26/50 | Loss: 377.7734 | Train Acc: 0.3250 | Test Acc: 0.3279 | Model: LeakyReLUModel | Optimizer: SGD\n",
            "[LOG] Epoch 27/50 | Loss: 376.1232 | Train Acc: 0.3284 | Test Acc: 0.3291 | Model: LeakyReLUModel | Optimizer: SGD\n",
            "[LOG] Epoch 28/50 | Loss: 374.5429 | Train Acc: 0.3312 | Test Acc: 0.3314 | Model: LeakyReLUModel | Optimizer: SGD\n",
            "[LOG] Epoch 29/50 | Loss: 373.0675 | Train Acc: 0.3335 | Test Acc: 0.3344 | Model: LeakyReLUModel | Optimizer: SGD\n",
            "[LOG] Epoch 30/50 | Loss: 371.4834 | Train Acc: 0.3366 | Test Acc: 0.3366 | Model: LeakyReLUModel | Optimizer: SGD\n",
            "[LOG] Epoch 31/50 | Loss: 370.1329 | Train Acc: 0.3389 | Test Acc: 0.3386 | Model: LeakyReLUModel | Optimizer: SGD\n",
            "[LOG] Epoch 32/50 | Loss: 368.7101 | Train Acc: 0.3408 | Test Acc: 0.3403 | Model: LeakyReLUModel | Optimizer: SGD\n",
            "[LOG] Epoch 33/50 | Loss: 367.4193 | Train Acc: 0.3430 | Test Acc: 0.3438 | Model: LeakyReLUModel | Optimizer: SGD\n",
            "[LOG] Epoch 34/50 | Loss: 366.1606 | Train Acc: 0.3451 | Test Acc: 0.3451 | Model: LeakyReLUModel | Optimizer: SGD\n",
            "[LOG] Epoch 35/50 | Loss: 364.7791 | Train Acc: 0.3473 | Test Acc: 0.3476 | Model: LeakyReLUModel | Optimizer: SGD\n",
            "[LOG] Epoch 36/50 | Loss: 363.7186 | Train Acc: 0.3499 | Test Acc: 0.3503 | Model: LeakyReLUModel | Optimizer: SGD\n",
            "[LOG] Epoch 37/50 | Loss: 362.4575 | Train Acc: 0.3523 | Test Acc: 0.3539 | Model: LeakyReLUModel | Optimizer: SGD\n",
            "[LOG] Epoch 38/50 | Loss: 361.3020 | Train Acc: 0.3542 | Test Acc: 0.3569 | Model: LeakyReLUModel | Optimizer: SGD\n",
            "[LOG] Epoch 39/50 | Loss: 360.2961 | Train Acc: 0.3572 | Test Acc: 0.3594 | Model: LeakyReLUModel | Optimizer: SGD\n",
            "[LOG] Epoch 40/50 | Loss: 359.1383 | Train Acc: 0.3587 | Test Acc: 0.3609 | Model: LeakyReLUModel | Optimizer: SGD\n",
            "[LOG] Epoch 41/50 | Loss: 358.0383 | Train Acc: 0.3606 | Test Acc: 0.3621 | Model: LeakyReLUModel | Optimizer: SGD\n",
            "[LOG] Epoch 42/50 | Loss: 356.8990 | Train Acc: 0.3624 | Test Acc: 0.3625 | Model: LeakyReLUModel | Optimizer: SGD\n",
            "[LOG] Epoch 43/50 | Loss: 356.0772 | Train Acc: 0.3639 | Test Acc: 0.3647 | Model: LeakyReLUModel | Optimizer: SGD\n",
            "[LOG] Epoch 44/50 | Loss: 355.0136 | Train Acc: 0.3655 | Test Acc: 0.3671 | Model: LeakyReLUModel | Optimizer: SGD\n",
            "[LOG] Epoch 45/50 | Loss: 354.1353 | Train Acc: 0.3675 | Test Acc: 0.3697 | Model: LeakyReLUModel | Optimizer: SGD\n",
            "[LOG] Epoch 46/50 | Loss: 353.1378 | Train Acc: 0.3698 | Test Acc: 0.3726 | Model: LeakyReLUModel | Optimizer: SGD\n",
            "[LOG] Epoch 47/50 | Loss: 352.1851 | Train Acc: 0.3715 | Test Acc: 0.3741 | Model: LeakyReLUModel | Optimizer: SGD\n",
            "[LOG] Epoch 48/50 | Loss: 351.2323 | Train Acc: 0.3731 | Test Acc: 0.3745 | Model: LeakyReLUModel | Optimizer: SGD\n",
            "[LOG] Epoch 49/50 | Loss: 350.3127 | Train Acc: 0.3742 | Test Acc: 0.3755 | Model: LeakyReLUModel | Optimizer: SGD\n",
            "[LOG] Epoch 50/50 | Loss: 349.4220 | Train Acc: 0.3757 | Test Acc: 0.3782 | Model: LeakyReLUModel | Optimizer: SGD\n"
          ]
        }
      ]
    },
    {
      "cell_type": "markdown",
      "source": [
        "### 3.2. Adam Optimizer로 학습 시작"
      ],
      "metadata": {
        "id": "k8E-B_q58hSP"
      }
    },
    {
      "cell_type": "code",
      "source": [
        "print(\"[LOG] Adam Optimizer로 학습 시작\")\n",
        "adam_train_accs = train(model_adam, optimizer_adam, criterion, trainloader, testloader, n_epochs)"
      ],
      "metadata": {
        "id": "rIgHX6CDAgeJ",
        "colab": {
          "base_uri": "https://localhost:8080/"
        },
        "outputId": "f7bc48ad-521e-4a74-9543-6e1f132eb9da"
      },
      "execution_count": 104,
      "outputs": [
        {
          "output_type": "stream",
          "name": "stdout",
          "text": [
            "[LOG] Adam Optimizer로 학습 시작\n",
            "[LOG] Epoch 1/50 | Loss: 322.0133 | Train Acc: 0.4866 | Test Acc: 0.4701 | Model: LeakyReLUModel | Optimizer: Adam\n",
            "[LOG] Epoch 2/50 | Loss: 278.0038 | Train Acc: 0.5433 | Test Acc: 0.5045 | Model: LeakyReLUModel | Optimizer: Adam\n",
            "[LOG] Epoch 3/50 | Loss: 254.1801 | Train Acc: 0.5783 | Test Acc: 0.5166 | Model: LeakyReLUModel | Optimizer: Adam\n",
            "[LOG] Epoch 4/50 | Loss: 236.6719 | Train Acc: 0.6188 | Test Acc: 0.5272 | Model: LeakyReLUModel | Optimizer: Adam\n",
            "[LOG] Epoch 5/50 | Loss: 220.0914 | Train Acc: 0.6483 | Test Acc: 0.5341 | Model: LeakyReLUModel | Optimizer: Adam\n",
            "[LOG] Epoch 6/50 | Loss: 204.0216 | Train Acc: 0.6572 | Test Acc: 0.5281 | Model: LeakyReLUModel | Optimizer: Adam\n",
            "[LOG] Epoch 7/50 | Loss: 191.0445 | Train Acc: 0.6987 | Test Acc: 0.5355 | Model: LeakyReLUModel | Optimizer: Adam\n",
            "[LOG] Epoch 8/50 | Loss: 173.3399 | Train Acc: 0.7375 | Test Acc: 0.5400 | Model: LeakyReLUModel | Optimizer: Adam\n",
            "[LOG] Epoch 9/50 | Loss: 160.0444 | Train Acc: 0.7365 | Test Acc: 0.5352 | Model: LeakyReLUModel | Optimizer: Adam\n",
            "[LOG] Epoch 10/50 | Loss: 146.5446 | Train Acc: 0.7766 | Test Acc: 0.5425 | Model: LeakyReLUModel | Optimizer: Adam\n",
            "[LOG] Epoch 11/50 | Loss: 133.6178 | Train Acc: 0.8101 | Test Acc: 0.5506 | Model: LeakyReLUModel | Optimizer: Adam\n",
            "[LOG] Epoch 12/50 | Loss: 118.5147 | Train Acc: 0.8276 | Test Acc: 0.5422 | Model: LeakyReLUModel | Optimizer: Adam\n",
            "[LOG] Epoch 13/50 | Loss: 106.0488 | Train Acc: 0.8330 | Test Acc: 0.5312 | Model: LeakyReLUModel | Optimizer: Adam\n",
            "[LOG] Epoch 14/50 | Loss: 95.3086 | Train Acc: 0.8580 | Test Acc: 0.5388 | Model: LeakyReLUModel | Optimizer: Adam\n",
            "[LOG] Epoch 15/50 | Loss: 83.0530 | Train Acc: 0.8837 | Test Acc: 0.5463 | Model: LeakyReLUModel | Optimizer: Adam\n",
            "[LOG] Epoch 16/50 | Loss: 72.6253 | Train Acc: 0.9022 | Test Acc: 0.5412 | Model: LeakyReLUModel | Optimizer: Adam\n",
            "[LOG] Epoch 17/50 | Loss: 68.1818 | Train Acc: 0.9063 | Test Acc: 0.5502 | Model: LeakyReLUModel | Optimizer: Adam\n",
            "[LOG] Epoch 18/50 | Loss: 60.6652 | Train Acc: 0.9096 | Test Acc: 0.5398 | Model: LeakyReLUModel | Optimizer: Adam\n",
            "[LOG] Epoch 19/50 | Loss: 51.6803 | Train Acc: 0.9254 | Test Acc: 0.5456 | Model: LeakyReLUModel | Optimizer: Adam\n",
            "[LOG] Epoch 20/50 | Loss: 48.1773 | Train Acc: 0.9398 | Test Acc: 0.5431 | Model: LeakyReLUModel | Optimizer: Adam\n",
            "[LOG] Epoch 21/50 | Loss: 45.5484 | Train Acc: 0.9489 | Test Acc: 0.5412 | Model: LeakyReLUModel | Optimizer: Adam\n",
            "[LOG] Epoch 22/50 | Loss: 40.0510 | Train Acc: 0.9274 | Test Acc: 0.5355 | Model: LeakyReLUModel | Optimizer: Adam\n",
            "[LOG] Epoch 23/50 | Loss: 42.3640 | Train Acc: 0.9383 | Test Acc: 0.5456 | Model: LeakyReLUModel | Optimizer: Adam\n",
            "[LOG] Epoch 24/50 | Loss: 37.4625 | Train Acc: 0.9439 | Test Acc: 0.5293 | Model: LeakyReLUModel | Optimizer: Adam\n",
            "[LOG] Epoch 25/50 | Loss: 33.5697 | Train Acc: 0.9518 | Test Acc: 0.5428 | Model: LeakyReLUModel | Optimizer: Adam\n",
            "[LOG] Epoch 26/50 | Loss: 28.3830 | Train Acc: 0.9448 | Test Acc: 0.5396 | Model: LeakyReLUModel | Optimizer: Adam\n",
            "[LOG] Epoch 27/50 | Loss: 30.9989 | Train Acc: 0.9379 | Test Acc: 0.5259 | Model: LeakyReLUModel | Optimizer: Adam\n",
            "[LOG] Epoch 28/50 | Loss: 29.5564 | Train Acc: 0.9574 | Test Acc: 0.5447 | Model: LeakyReLUModel | Optimizer: Adam\n",
            "[LOG] Epoch 29/50 | Loss: 33.2408 | Train Acc: 0.9598 | Test Acc: 0.5401 | Model: LeakyReLUModel | Optimizer: Adam\n",
            "[LOG] Epoch 30/50 | Loss: 29.0278 | Train Acc: 0.9557 | Test Acc: 0.5321 | Model: LeakyReLUModel | Optimizer: Adam\n",
            "[LOG] Epoch 31/50 | Loss: 23.9374 | Train Acc: 0.9643 | Test Acc: 0.5376 | Model: LeakyReLUModel | Optimizer: Adam\n",
            "[LOG] Epoch 32/50 | Loss: 25.2258 | Train Acc: 0.9600 | Test Acc: 0.5357 | Model: LeakyReLUModel | Optimizer: Adam\n",
            "[LOG] Epoch 33/50 | Loss: 24.6559 | Train Acc: 0.9658 | Test Acc: 0.5434 | Model: LeakyReLUModel | Optimizer: Adam\n",
            "[LOG] Epoch 34/50 | Loss: 25.9751 | Train Acc: 0.9670 | Test Acc: 0.5397 | Model: LeakyReLUModel | Optimizer: Adam\n",
            "[LOG] Epoch 35/50 | Loss: 27.6021 | Train Acc: 0.9625 | Test Acc: 0.5399 | Model: LeakyReLUModel | Optimizer: Adam\n",
            "[LOG] Epoch 36/50 | Loss: 25.7062 | Train Acc: 0.9691 | Test Acc: 0.5339 | Model: LeakyReLUModel | Optimizer: Adam\n",
            "[LOG] Epoch 37/50 | Loss: 26.0875 | Train Acc: 0.9662 | Test Acc: 0.5385 | Model: LeakyReLUModel | Optimizer: Adam\n",
            "[LOG] Epoch 38/50 | Loss: 24.3810 | Train Acc: 0.9691 | Test Acc: 0.5475 | Model: LeakyReLUModel | Optimizer: Adam\n",
            "[LOG] Epoch 39/50 | Loss: 20.3707 | Train Acc: 0.9733 | Test Acc: 0.5427 | Model: LeakyReLUModel | Optimizer: Adam\n",
            "[LOG] Epoch 40/50 | Loss: 23.5861 | Train Acc: 0.9574 | Test Acc: 0.5318 | Model: LeakyReLUModel | Optimizer: Adam\n",
            "[LOG] Epoch 41/50 | Loss: 23.0052 | Train Acc: 0.9602 | Test Acc: 0.5322 | Model: LeakyReLUModel | Optimizer: Adam\n",
            "[LOG] Epoch 42/50 | Loss: 29.5001 | Train Acc: 0.9691 | Test Acc: 0.5435 | Model: LeakyReLUModel | Optimizer: Adam\n",
            "[LOG] Epoch 43/50 | Loss: 22.9711 | Train Acc: 0.9787 | Test Acc: 0.5386 | Model: LeakyReLUModel | Optimizer: Adam\n",
            "[LOG] Epoch 44/50 | Loss: 19.0019 | Train Acc: 0.9765 | Test Acc: 0.5454 | Model: LeakyReLUModel | Optimizer: Adam\n",
            "[LOG] Epoch 45/50 | Loss: 15.8945 | Train Acc: 0.9723 | Test Acc: 0.5414 | Model: LeakyReLUModel | Optimizer: Adam\n",
            "[LOG] Epoch 46/50 | Loss: 22.7243 | Train Acc: 0.9531 | Test Acc: 0.5255 | Model: LeakyReLUModel | Optimizer: Adam\n",
            "[LOG] Epoch 47/50 | Loss: 34.1480 | Train Acc: 0.9553 | Test Acc: 0.5323 | Model: LeakyReLUModel | Optimizer: Adam\n",
            "[LOG] Epoch 48/50 | Loss: 20.7908 | Train Acc: 0.9773 | Test Acc: 0.5365 | Model: LeakyReLUModel | Optimizer: Adam\n",
            "[LOG] Epoch 49/50 | Loss: 16.9389 | Train Acc: 0.9694 | Test Acc: 0.5366 | Model: LeakyReLUModel | Optimizer: Adam\n",
            "[LOG] Epoch 50/50 | Loss: 16.3769 | Train Acc: 0.9820 | Test Acc: 0.5428 | Model: LeakyReLUModel | Optimizer: Adam\n"
          ]
        }
      ]
    },
    {
      "cell_type": "markdown",
      "source": [
        "### 3.3. 비교결과 Plot 1\n",
        "[과제] SGD와 Adam 성능 비교"
      ],
      "metadata": {
        "id": "U9wX8EZrAjtU"
      }
    },
    {
      "cell_type": "code",
      "source": [
        "plot_acc(sgd_train_accs[0], adam_train_accs[0], \"SGD vs Adam Optimizer\", label1='SGD', label2='Adam')"
      ],
      "metadata": {
        "id": "-7Jozmx5A0kZ",
        "colab": {
          "base_uri": "https://localhost:8080/",
          "height": 487
        },
        "outputId": "5e5f823b-c701-4ec6-ad78-fa04f7280e9f"
      },
      "execution_count": 116,
      "outputs": [
        {
          "output_type": "display_data",
          "data": {
            "text/plain": [
              "<Figure size 1000x500 with 1 Axes>"
            ],
            "image/png": "[encoded data removed]"
          },
          "metadata": {}
        }
      ]
    },
    {
      "cell_type": "markdown",
      "source": [
        "## 4. Leaky ReLU와 Sigmoid 성능 비교"
      ],
      "metadata": {
        "id": "z6pPf1mcMP3r"
      }
    },
    {
      "cell_type": "code",
      "source": [
        "model_sigmoid = SigmoidModel(input_dim, hidden_dim, output_dim).to('cuda')\n",
        "optimizer_sigmoid = optim.Adam(model_sigmoid.parameters(), lr=0.001)\n"
      ],
      "metadata": {
        "id": "ePZD3aC8Mdn8"
      },
      "execution_count": 117,
      "outputs": []
    },
    {
      "cell_type": "markdown",
      "source": [
        "### 4.1. Adam Optimizer로 학습 시작"
      ],
      "metadata": {
        "id": "TVzBRQV3NHN3"
      }
    },
    {
      "cell_type": "code",
      "source": [
        "print(\"[LOG] Sigmoid Activation으로 학습 시작\")\n",
        "sigmoid_train_accs = train(model_sigmoid, optimizer_sigmoid, criterion, trainloader, testloader, n_epochs)"
      ],
      "metadata": {
        "id": "_dSS1O7SNXrW",
        "colab": {
          "base_uri": "https://localhost:8080/"
        },
        "outputId": "4fa49665-ba33-402a-f50d-1edd8c61edf2"
      },
      "execution_count": 118,
      "outputs": [
        {
          "output_type": "stream",
          "name": "stdout",
          "text": [
            "[LOG] Sigmoid Activation으로 학습 시작\n",
            "[LOG] Epoch 1/50 | Loss: 353.6875 | Train Acc: 0.4282 | Test Acc: 0.4180 | Model: SigmoidModel | Optimizer: Adam\n",
            "[LOG] Epoch 2/50 | Loss: 312.8721 | Train Acc: 0.4684 | Test Acc: 0.4460 | Model: SigmoidModel | Optimizer: Adam\n",
            "[LOG] Epoch 3/50 | Loss: 292.0589 | Train Acc: 0.5047 | Test Acc: 0.4693 | Model: SigmoidModel | Optimizer: Adam\n",
            "[LOG] Epoch 4/50 | Loss: 274.3360 | Train Acc: 0.5397 | Test Acc: 0.4915 | Model: SigmoidModel | Optimizer: Adam\n",
            "[LOG] Epoch 5/50 | Loss: 259.6940 | Train Acc: 0.5688 | Test Acc: 0.5039 | Model: SigmoidModel | Optimizer: Adam\n",
            "[LOG] Epoch 6/50 | Loss: 244.6855 | Train Acc: 0.5928 | Test Acc: 0.5009 | Model: SigmoidModel | Optimizer: Adam\n",
            "[LOG] Epoch 7/50 | Loss: 231.1764 | Train Acc: 0.6211 | Test Acc: 0.4977 | Model: SigmoidModel | Optimizer: Adam\n",
            "[LOG] Epoch 8/50 | Loss: 215.8765 | Train Acc: 0.6533 | Test Acc: 0.5069 | Model: SigmoidModel | Optimizer: Adam\n",
            "[LOG] Epoch 9/50 | Loss: 202.3473 | Train Acc: 0.6735 | Test Acc: 0.5035 | Model: SigmoidModel | Optimizer: Adam\n",
            "[LOG] Epoch 10/50 | Loss: 188.0303 | Train Acc: 0.7019 | Test Acc: 0.5060 | Model: SigmoidModel | Optimizer: Adam\n",
            "[LOG] Epoch 11/50 | Loss: 175.6154 | Train Acc: 0.7372 | Test Acc: 0.5065 | Model: SigmoidModel | Optimizer: Adam\n",
            "[LOG] Epoch 12/50 | Loss: 161.0372 | Train Acc: 0.7559 | Test Acc: 0.5035 | Model: SigmoidModel | Optimizer: Adam\n",
            "[LOG] Epoch 13/50 | Loss: 150.2761 | Train Acc: 0.7763 | Test Acc: 0.5046 | Model: SigmoidModel | Optimizer: Adam\n",
            "[LOG] Epoch 14/50 | Loss: 136.6158 | Train Acc: 0.7990 | Test Acc: 0.5051 | Model: SigmoidModel | Optimizer: Adam\n",
            "[LOG] Epoch 15/50 | Loss: 128.1012 | Train Acc: 0.8085 | Test Acc: 0.4887 | Model: SigmoidModel | Optimizer: Adam\n",
            "[LOG] Epoch 16/50 | Loss: 115.9743 | Train Acc: 0.8393 | Test Acc: 0.4964 | Model: SigmoidModel | Optimizer: Adam\n",
            "[LOG] Epoch 17/50 | Loss: 105.8879 | Train Acc: 0.8624 | Test Acc: 0.4921 | Model: SigmoidModel | Optimizer: Adam\n",
            "[LOG] Epoch 18/50 | Loss: 97.1765 | Train Acc: 0.8623 | Test Acc: 0.4900 | Model: SigmoidModel | Optimizer: Adam\n",
            "[LOG] Epoch 19/50 | Loss: 88.4430 | Train Acc: 0.8780 | Test Acc: 0.4941 | Model: SigmoidModel | Optimizer: Adam\n",
            "[LOG] Epoch 20/50 | Loss: 79.4285 | Train Acc: 0.8900 | Test Acc: 0.4884 | Model: SigmoidModel | Optimizer: Adam\n",
            "[LOG] Epoch 21/50 | Loss: 74.3426 | Train Acc: 0.8975 | Test Acc: 0.4775 | Model: SigmoidModel | Optimizer: Adam\n",
            "[LOG] Epoch 22/50 | Loss: 68.6715 | Train Acc: 0.8973 | Test Acc: 0.4814 | Model: SigmoidModel | Optimizer: Adam\n",
            "[LOG] Epoch 23/50 | Loss: 61.2731 | Train Acc: 0.9152 | Test Acc: 0.4797 | Model: SigmoidModel | Optimizer: Adam\n",
            "[LOG] Epoch 24/50 | Loss: 56.6051 | Train Acc: 0.9355 | Test Acc: 0.4840 | Model: SigmoidModel | Optimizer: Adam\n",
            "[LOG] Epoch 25/50 | Loss: 50.6513 | Train Acc: 0.9412 | Test Acc: 0.4817 | Model: SigmoidModel | Optimizer: Adam\n",
            "[LOG] Epoch 26/50 | Loss: 45.0417 | Train Acc: 0.9430 | Test Acc: 0.4775 | Model: SigmoidModel | Optimizer: Adam\n",
            "[LOG] Epoch 27/50 | Loss: 42.2839 | Train Acc: 0.9401 | Test Acc: 0.4793 | Model: SigmoidModel | Optimizer: Adam\n",
            "[LOG] Epoch 28/50 | Loss: 37.4996 | Train Acc: 0.9459 | Test Acc: 0.4739 | Model: SigmoidModel | Optimizer: Adam\n",
            "[LOG] Epoch 29/50 | Loss: 35.5494 | Train Acc: 0.9540 | Test Acc: 0.4814 | Model: SigmoidModel | Optimizer: Adam\n",
            "[LOG] Epoch 30/50 | Loss: 31.2125 | Train Acc: 0.9505 | Test Acc: 0.4639 | Model: SigmoidModel | Optimizer: Adam\n",
            "[LOG] Epoch 31/50 | Loss: 31.0718 | Train Acc: 0.9570 | Test Acc: 0.4720 | Model: SigmoidModel | Optimizer: Adam\n",
            "[LOG] Epoch 32/50 | Loss: 32.2129 | Train Acc: 0.9671 | Test Acc: 0.4709 | Model: SigmoidModel | Optimizer: Adam\n",
            "[LOG] Epoch 33/50 | Loss: 26.3665 | Train Acc: 0.9734 | Test Acc: 0.4688 | Model: SigmoidModel | Optimizer: Adam\n",
            "[LOG] Epoch 34/50 | Loss: 24.9807 | Train Acc: 0.9713 | Test Acc: 0.4742 | Model: SigmoidModel | Optimizer: Adam\n",
            "[LOG] Epoch 35/50 | Loss: 23.8562 | Train Acc: 0.9654 | Test Acc: 0.4722 | Model: SigmoidModel | Optimizer: Adam\n",
            "[LOG] Epoch 36/50 | Loss: 21.4520 | Train Acc: 0.9762 | Test Acc: 0.4765 | Model: SigmoidModel | Optimizer: Adam\n",
            "[LOG] Epoch 37/50 | Loss: 21.6541 | Train Acc: 0.9747 | Test Acc: 0.4747 | Model: SigmoidModel | Optimizer: Adam\n",
            "[LOG] Epoch 38/50 | Loss: 17.3018 | Train Acc: 0.9808 | Test Acc: 0.4675 | Model: SigmoidModel | Optimizer: Adam\n",
            "[LOG] Epoch 39/50 | Loss: 24.1861 | Train Acc: 0.9698 | Test Acc: 0.4706 | Model: SigmoidModel | Optimizer: Adam\n",
            "[LOG] Epoch 40/50 | Loss: 17.4832 | Train Acc: 0.9849 | Test Acc: 0.4733 | Model: SigmoidModel | Optimizer: Adam\n",
            "[LOG] Epoch 41/50 | Loss: 18.5397 | Train Acc: 0.9715 | Test Acc: 0.4706 | Model: SigmoidModel | Optimizer: Adam\n",
            "[LOG] Epoch 42/50 | Loss: 20.0062 | Train Acc: 0.9594 | Test Acc: 0.4692 | Model: SigmoidModel | Optimizer: Adam\n",
            "[LOG] Epoch 43/50 | Loss: 18.9343 | Train Acc: 0.9804 | Test Acc: 0.4748 | Model: SigmoidModel | Optimizer: Adam\n",
            "[LOG] Epoch 44/50 | Loss: 13.9096 | Train Acc: 0.9870 | Test Acc: 0.4823 | Model: SigmoidModel | Optimizer: Adam\n",
            "[LOG] Epoch 45/50 | Loss: 10.6541 | Train Acc: 0.9832 | Test Acc: 0.4824 | Model: SigmoidModel | Optimizer: Adam\n",
            "[LOG] Epoch 46/50 | Loss: 16.5261 | Train Acc: 0.9698 | Test Acc: 0.4727 | Model: SigmoidModel | Optimizer: Adam\n",
            "[LOG] Epoch 47/50 | Loss: 19.8921 | Train Acc: 0.9657 | Test Acc: 0.4771 | Model: SigmoidModel | Optimizer: Adam\n",
            "[LOG] Epoch 48/50 | Loss: 21.1455 | Train Acc: 0.9823 | Test Acc: 0.4753 | Model: SigmoidModel | Optimizer: Adam\n",
            "[LOG] Epoch 49/50 | Loss: 10.8368 | Train Acc: 0.9919 | Test Acc: 0.4780 | Model: SigmoidModel | Optimizer: Adam\n",
            "[LOG] Epoch 50/50 | Loss: 8.1908 | Train Acc: 0.9922 | Test Acc: 0.4811 | Model: SigmoidModel | Optimizer: Adam\n"
          ]
        }
      ]
    },
    {
      "cell_type": "markdown",
      "source": [
        "### 4.2. 비교결과 Plot 2\n",
        "[과제] LeakyReLU와 Sigmoid 성능 비교"
      ],
      "metadata": {
        "id": "HFv4Cx4HNeKW"
      }
    },
    {
      "cell_type": "code",
      "source": [
        "plot_acc(adam_train_accs[0], sigmoid_train_accs[0], \"LeakyReLU vs Sigmoid\", label1='LeakyReLU', label2='Sigmoid')"
      ],
      "metadata": {
        "id": "-zmJzlIbNtkD",
        "colab": {
          "base_uri": "https://localhost:8080/",
          "height": 487
        },
        "outputId": "ece38393-b063-4463-d81e-6897f9c72460"
      },
      "execution_count": 120,
      "outputs": [
        {
          "output_type": "display_data",
          "data": {
            "text/plain": [
              "<Figure size 1000x500 with 1 Axes>"
            ],
            "image/png": "[encoded data removed]"
          },
          "metadata": {}
        }
      ]
    },
    {
      "cell_type": "markdown",
      "source": [
        "## 5. dropout을 적용한 train과 test 정확도를 비교"
      ],
      "metadata": {
        "id": "qR6H8wQsPc0z"
      }
    },
    {
      "cell_type": "code",
      "source": [
        "# Dropout model and Adam optimizer\n",
        "dropout_model = DropoutLeakyReLUModel(input_dim, hidden_dim, output_dim).to('cuda')\n",
        "adam_optimizer_dropout = optim.Adam(dropout_model.parameters(), lr=0.001)"
      ],
      "metadata": {
        "id": "VMEmyxiCP-Q_"
      },
      "execution_count": 121,
      "outputs": []
    },
    {
      "cell_type": "markdown",
      "source": [
        "### 5.1. DropoutLeakyReLUModel로 학습 시작"
      ],
      "metadata": {
        "id": "sugLjV3tczFW"
      }
    },
    {
      "cell_type": "code",
      "source": [
        "print(\"[LOG] DropoutLeakyReLUModel로 학습 시작\")\n",
        "dropout_train_accs, dropout_test_accs = train(dropout_model, adam_optimizer_dropout, criterion, trainloader, testloader, n_epochs)"
      ],
      "metadata": {
        "id": "wo6S2JgwQgFh",
        "colab": {
          "base_uri": "https://localhost:8080/"
        },
        "outputId": "b469c385-0cc6-4cb2-df8e-fcef447591fd"
      },
      "execution_count": 122,
      "outputs": [
        {
          "output_type": "stream",
          "name": "stdout",
          "text": [
            "[LOG] DropoutLeakyReLUModel로 학습 시작\n",
            "[LOG] Epoch 1/50 | Loss: 326.4941 | Train Acc: 0.4779 | Test Acc: 0.4678 | Model: DropoutLeakyReLUModel | Optimizer: Adam\n",
            "[LOG] Epoch 2/50 | Loss: 284.7389 | Train Acc: 0.5310 | Test Acc: 0.4934 | Model: DropoutLeakyReLUModel | Optimizer: Adam\n",
            "[LOG] Epoch 3/50 | Loss: 266.4816 | Train Acc: 0.5661 | Test Acc: 0.5131 | Model: DropoutLeakyReLUModel | Optimizer: Adam\n",
            "[LOG] Epoch 4/50 | Loss: 249.5155 | Train Acc: 0.6030 | Test Acc: 0.5226 | Model: DropoutLeakyReLUModel | Optimizer: Adam\n",
            "[LOG] Epoch 5/50 | Loss: 236.2936 | Train Acc: 0.6309 | Test Acc: 0.5336 | Model: DropoutLeakyReLUModel | Optimizer: Adam\n",
            "[LOG] Epoch 6/50 | Loss: 225.1324 | Train Acc: 0.6504 | Test Acc: 0.5370 | Model: DropoutLeakyReLUModel | Optimizer: Adam\n",
            "[LOG] Epoch 7/50 | Loss: 213.9275 | Train Acc: 0.6766 | Test Acc: 0.5452 | Model: DropoutLeakyReLUModel | Optimizer: Adam\n",
            "[LOG] Epoch 8/50 | Loss: 205.0383 | Train Acc: 0.6909 | Test Acc: 0.5404 | Model: DropoutLeakyReLUModel | Optimizer: Adam\n",
            "[LOG] Epoch 9/50 | Loss: 194.0941 | Train Acc: 0.7118 | Test Acc: 0.5427 | Model: DropoutLeakyReLUModel | Optimizer: Adam\n",
            "[LOG] Epoch 10/50 | Loss: 185.3603 | Train Acc: 0.7248 | Test Acc: 0.5435 | Model: DropoutLeakyReLUModel | Optimizer: Adam\n",
            "[LOG] Epoch 11/50 | Loss: 175.1271 | Train Acc: 0.7490 | Test Acc: 0.5457 | Model: DropoutLeakyReLUModel | Optimizer: Adam\n",
            "[LOG] Epoch 12/50 | Loss: 166.6609 | Train Acc: 0.7576 | Test Acc: 0.5349 | Model: DropoutLeakyReLUModel | Optimizer: Adam\n",
            "[LOG] Epoch 13/50 | Loss: 158.5220 | Train Acc: 0.7886 | Test Acc: 0.5508 | Model: DropoutLeakyReLUModel | Optimizer: Adam\n",
            "[LOG] Epoch 14/50 | Loss: 152.9576 | Train Acc: 0.8016 | Test Acc: 0.5521 | Model: DropoutLeakyReLUModel | Optimizer: Adam\n",
            "[LOG] Epoch 15/50 | Loss: 144.0922 | Train Acc: 0.8138 | Test Acc: 0.5526 | Model: DropoutLeakyReLUModel | Optimizer: Adam\n",
            "[LOG] Epoch 16/50 | Loss: 138.9486 | Train Acc: 0.8195 | Test Acc: 0.5510 | Model: DropoutLeakyReLUModel | Optimizer: Adam\n",
            "[LOG] Epoch 17/50 | Loss: 131.7087 | Train Acc: 0.8435 | Test Acc: 0.5561 | Model: DropoutLeakyReLUModel | Optimizer: Adam\n",
            "[LOG] Epoch 18/50 | Loss: 127.6918 | Train Acc: 0.8537 | Test Acc: 0.5541 | Model: DropoutLeakyReLUModel | Optimizer: Adam\n",
            "[LOG] Epoch 19/50 | Loss: 118.2912 | Train Acc: 0.8532 | Test Acc: 0.5491 | Model: DropoutLeakyReLUModel | Optimizer: Adam\n",
            "[LOG] Epoch 20/50 | Loss: 113.8061 | Train Acc: 0.8775 | Test Acc: 0.5449 | Model: DropoutLeakyReLUModel | Optimizer: Adam\n",
            "[LOG] Epoch 21/50 | Loss: 110.9648 | Train Acc: 0.8850 | Test Acc: 0.5504 | Model: DropoutLeakyReLUModel | Optimizer: Adam\n",
            "[LOG] Epoch 22/50 | Loss: 104.4210 | Train Acc: 0.8728 | Test Acc: 0.5456 | Model: DropoutLeakyReLUModel | Optimizer: Adam\n",
            "[LOG] Epoch 23/50 | Loss: 102.5099 | Train Acc: 0.9035 | Test Acc: 0.5550 | Model: DropoutLeakyReLUModel | Optimizer: Adam\n",
            "[LOG] Epoch 24/50 | Loss: 98.7763 | Train Acc: 0.9082 | Test Acc: 0.5592 | Model: DropoutLeakyReLUModel | Optimizer: Adam\n",
            "[LOG] Epoch 25/50 | Loss: 94.6222 | Train Acc: 0.8987 | Test Acc: 0.5508 | Model: DropoutLeakyReLUModel | Optimizer: Adam\n",
            "[LOG] Epoch 26/50 | Loss: 91.8128 | Train Acc: 0.9157 | Test Acc: 0.5574 | Model: DropoutLeakyReLUModel | Optimizer: Adam\n",
            "[LOG] Epoch 27/50 | Loss: 89.4313 | Train Acc: 0.9106 | Test Acc: 0.5562 | Model: DropoutLeakyReLUModel | Optimizer: Adam\n",
            "[LOG] Epoch 28/50 | Loss: 84.2292 | Train Acc: 0.9310 | Test Acc: 0.5575 | Model: DropoutLeakyReLUModel | Optimizer: Adam\n",
            "[LOG] Epoch 29/50 | Loss: 81.1823 | Train Acc: 0.9184 | Test Acc: 0.5557 | Model: DropoutLeakyReLUModel | Optimizer: Adam\n",
            "[LOG] Epoch 30/50 | Loss: 80.5876 | Train Acc: 0.9275 | Test Acc: 0.5563 | Model: DropoutLeakyReLUModel | Optimizer: Adam\n",
            "[LOG] Epoch 31/50 | Loss: 77.5277 | Train Acc: 0.9393 | Test Acc: 0.5609 | Model: DropoutLeakyReLUModel | Optimizer: Adam\n",
            "[LOG] Epoch 32/50 | Loss: 76.3435 | Train Acc: 0.9324 | Test Acc: 0.5425 | Model: DropoutLeakyReLUModel | Optimizer: Adam\n",
            "[LOG] Epoch 33/50 | Loss: 74.3782 | Train Acc: 0.9449 | Test Acc: 0.5595 | Model: DropoutLeakyReLUModel | Optimizer: Adam\n",
            "[LOG] Epoch 34/50 | Loss: 71.1491 | Train Acc: 0.9442 | Test Acc: 0.5522 | Model: DropoutLeakyReLUModel | Optimizer: Adam\n",
            "[LOG] Epoch 35/50 | Loss: 70.9017 | Train Acc: 0.9575 | Test Acc: 0.5581 | Model: DropoutLeakyReLUModel | Optimizer: Adam\n",
            "[LOG] Epoch 36/50 | Loss: 69.1125 | Train Acc: 0.9556 | Test Acc: 0.5614 | Model: DropoutLeakyReLUModel | Optimizer: Adam\n",
            "[LOG] Epoch 37/50 | Loss: 67.6487 | Train Acc: 0.9460 | Test Acc: 0.5589 | Model: DropoutLeakyReLUModel | Optimizer: Adam\n",
            "[LOG] Epoch 38/50 | Loss: 65.6069 | Train Acc: 0.9588 | Test Acc: 0.5620 | Model: DropoutLeakyReLUModel | Optimizer: Adam\n",
            "[LOG] Epoch 39/50 | Loss: 62.1944 | Train Acc: 0.9620 | Test Acc: 0.5640 | Model: DropoutLeakyReLUModel | Optimizer: Adam\n",
            "[LOG] Epoch 40/50 | Loss: 63.4673 | Train Acc: 0.9651 | Test Acc: 0.5671 | Model: DropoutLeakyReLUModel | Optimizer: Adam\n",
            "[LOG] Epoch 41/50 | Loss: 59.8340 | Train Acc: 0.9532 | Test Acc: 0.5596 | Model: DropoutLeakyReLUModel | Optimizer: Adam\n",
            "[LOG] Epoch 42/50 | Loss: 60.1816 | Train Acc: 0.9684 | Test Acc: 0.5586 | Model: DropoutLeakyReLUModel | Optimizer: Adam\n",
            "[LOG] Epoch 43/50 | Loss: 59.2073 | Train Acc: 0.9702 | Test Acc: 0.5608 | Model: DropoutLeakyReLUModel | Optimizer: Adam\n",
            "[LOG] Epoch 44/50 | Loss: 58.5437 | Train Acc: 0.9663 | Test Acc: 0.5581 | Model: DropoutLeakyReLUModel | Optimizer: Adam\n",
            "[LOG] Epoch 45/50 | Loss: 55.7910 | Train Acc: 0.9642 | Test Acc: 0.5571 | Model: DropoutLeakyReLUModel | Optimizer: Adam\n",
            "[LOG] Epoch 46/50 | Loss: 56.6930 | Train Acc: 0.9708 | Test Acc: 0.5653 | Model: DropoutLeakyReLUModel | Optimizer: Adam\n",
            "[LOG] Epoch 47/50 | Loss: 56.7225 | Train Acc: 0.9666 | Test Acc: 0.5562 | Model: DropoutLeakyReLUModel | Optimizer: Adam\n",
            "[LOG] Epoch 48/50 | Loss: 55.9691 | Train Acc: 0.9637 | Test Acc: 0.5600 | Model: DropoutLeakyReLUModel | Optimizer: Adam\n",
            "[LOG] Epoch 49/50 | Loss: 53.6848 | Train Acc: 0.9677 | Test Acc: 0.5560 | Model: DropoutLeakyReLUModel | Optimizer: Adam\n",
            "[LOG] Epoch 50/50 | Loss: 52.0236 | Train Acc: 0.9722 | Test Acc: 0.5558 | Model: DropoutLeakyReLUModel | Optimizer: Adam\n"
          ]
        }
      ]
    },
    {
      "cell_type": "markdown",
      "source": [
        "### 5.2. 비교결과 Plot 3\n",
        "[과제] Adam optimizer를 가지고 dropout을 적용한 모델을 학습한 후, epoch에 따른 train과 test 정확도를 비교"
      ],
      "metadata": {
        "id": "HidKJ1dkdge0"
      }
    },
    {
      "cell_type": "code",
      "source": [
        "plot_acc(dropout_train_accs, dropout_test_accs, \"Train vs Test Accuracy with Dropout\", label1='Train', label2='Test')"
      ],
      "metadata": {
        "id": "hf_w0YQYdCTX",
        "colab": {
          "base_uri": "https://localhost:8080/",
          "height": 487
        },
        "outputId": "4b717cf9-463d-4eed-a2e5-832973f5bcab"
      },
      "execution_count": 123,
      "outputs": [
        {
          "output_type": "display_data",
          "data": {
            "text/plain": [
              "<Figure size 1000x500 with 1 Axes>"
            ],
            "image/png": "[encoded data removed]"
          },
          "metadata": {}
        }
      ]
    }
  ]
}