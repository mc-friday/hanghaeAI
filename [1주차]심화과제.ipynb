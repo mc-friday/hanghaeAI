{
  "nbformat": 4,
  "nbformat_minor": 0,
  "metadata": {
    "colab": {
      "provenance": [],
      "gpuType": "T4",
      "authorship_tag": "ABX9TyMZGqQiCdQBeDjhKwFVojQ+",
      "include_colab_link": true
    },
    "kernelspec": {
      "name": "python3",
      "display_name": "Python 3"
    },
    "language_info": {
      "name": "python"
    },
    "accelerator": "GPU"
  },
  "cells": [
    {
      "cell_type": "markdown",
      "metadata": {
        "id": "view-in-github",
        "colab_type": "text"
      },
      "source": [
        "<a href=\"https://colab.research.google.com/github/mc-friday/hanghaeAI/blob/main/%5B1%EC%A3%BC%EC%B0%A8%5D%EC%8B%AC%ED%99%94%EA%B3%BC%EC%A0%9C.ipynb\" target=\"_parent\"><img src=\"https://colab.research.google.com/assets/colab-badge.svg\" alt=\"Open In Colab\"/></a>"
      ]
    },
    {
      "cell_type": "markdown",
      "source": [
        "#[심화과제] # MNIST 예측 모델에 deep learning techniques 적용하기"
      ],
      "metadata": {
        "id": "ti24EnpavmFR"
      }
    },
    {
      "cell_type": "code",
      "execution_count": 61,
      "metadata": {
        "id": "WAl1ekZgvSTg"
      },
      "outputs": [],
      "source": [
        "import torch\n",
        "import torchvision\n",
        "import torchvision.transforms as transforms\n",
        "import torch.nn as nn\n",
        "import torch.optim as optim\n",
        "import matplotlib.pyplot as plt\n",
        "import numpy as np"
      ]
    },
    {
      "cell_type": "markdown",
      "source": [
        "## 1. 데이터셋"
      ],
      "metadata": {
        "id": "jMFged_R8reZ"
      }
    },
    {
      "cell_type": "code",
      "source": [
        "# 데이터셋 전처리\n",
        "transform = transforms.Compose([\n",
        "    transforms.ToTensor(),\n",
        "    transforms.Normalize((0.5, 0.5, 0.5), (0.5, 0.5, 0.5))\n",
        "])"
      ],
      "metadata": {
        "id": "nYHeSLZzvvhY"
      },
      "execution_count": 62,
      "outputs": []
    },
    {
      "cell_type": "markdown",
      "source": [
        "### 1.1. Train 데이터셋\n",
        "[과제] Dataset을 MNIST에서 CIFAR10으로 변경해줍니다."
      ],
      "metadata": {
        "id": "1CFN1Jcj1P8Z"
      }
    },
    {
      "cell_type": "code",
      "source": [
        "# CIFAR10 데이터셋 다운로드\n",
        "trainset = torchvision.datasets.CIFAR10(\n",
        "    root='./data',\n",
        "    train=True,\n",
        "    download=True,\n",
        "    transform=transform\n",
        ")"
      ],
      "metadata": {
        "colab": {
          "base_uri": "https://localhost:8080/"
        },
        "id": "_LlJbtbMwARU",
        "outputId": "8708bf0b-5af3-4e49-f01d-e04074d10edb"
      },
      "execution_count": 63,
      "outputs": [
        {
          "output_type": "stream",
          "name": "stdout",
          "text": [
            "Files already downloaded and verified\n"
          ]
        }
      ]
    },
    {
      "cell_type": "code",
      "source": [
        "trainloader = torch.utils.data.DataLoader(\n",
        "    trainset,\n",
        "    batch_size=256,\n",
        "    shuffle=True\n",
        ")"
      ],
      "metadata": {
        "id": "FuISwZObxApc"
      },
      "execution_count": 64,
      "outputs": []
    },
    {
      "cell_type": "code",
      "source": [
        "# WARNING:matplotlib.image:Clipping input data to the valid range for imshow with RGB data ([0..1] for floats or [0..255] for integers).\n",
        "# 이미지 데이터를 시각화 하면서 위 경고가 떠서 [-1, 1] 범위를 [0, 1]로 다시 변환하는 함수를 만듬\n",
        "# 역정규화 함수 정의\n",
        "def denormalize(img, mean=(0.5, 0.5, 0.5), std=(0.5, 0.5, 0.5)):\n",
        "    img = img.clone()  # 원본 데이터를 보존\n",
        "    for t, m, s in zip(img, mean, std):\n",
        "        t.mul_(s).add_(m)  # std를 곱하고 mean을 더함\n",
        "    return img"
      ],
      "metadata": {
        "id": "kqEuuksZ320A"
      },
      "execution_count": 65,
      "outputs": []
    },
    {
      "cell_type": "markdown",
      "source": [
        "### 1.1.1. 데이터셋 입력 shape 확인\n",
        "[과제] CIFAR10의 입력 shape 확인"
      ],
      "metadata": {
        "id": "6a1Z_GcI40FX"
      }
    },
    {
      "cell_type": "code",
      "source": [
        "print(\"[LOG]\",len(trainset))\n",
        "print(\"[LOG]\",trainset[0][0].shape, trainset[0][1])"
      ],
      "metadata": {
        "colab": {
          "base_uri": "https://localhost:8080/"
        },
        "id": "yXX2tOq5w01B",
        "outputId": "44ed05ab-74ca-4db9-aec1-c4da4477c43e"
      },
      "execution_count": 68,
      "outputs": [
        {
          "output_type": "stream",
          "name": "stdout",
          "text": [
            "[LOG] 50000\n",
            "[LOG] torch.Size([3, 32, 32]) 6\n"
          ]
        }
      ]
    },
    {
      "cell_type": "markdown",
      "source": [
        "### 1.1.2. Train 데이터셋 첫 번째 이미지 확인"
      ],
      "metadata": {
        "id": "-IEYhoDi5BXO"
      }
    },
    {
      "cell_type": "code",
      "source": [
        "train_image, train_label = trainset[0]\n",
        "train_image = denormalize(train_image)  # 역정규화\n",
        "print(\"[LOG] Train 첫 번째 이미지 Label:\", train_label)\n",
        "\n",
        "plt.figure(figsize=(4, 4))\n",
        "plt.subplot(1, 2, 1)\n",
        "plt.imshow(train_image.permute(1, 2, 0))  # [C, H, W] -> [H, W, C]\n",
        "plt.title(f\"Train Label: {train_label}\")\n",
        "plt.axis('off')"
      ],
      "metadata": {
        "colab": {
          "base_uri": "https://localhost:8080/",
          "height": 235
        },
        "id": "Gq8g41XTwYpH",
        "outputId": "7c4ef6b1-bf3d-4686-fe30-cdbf9465f93a"
      },
      "execution_count": 71,
      "outputs": [
        {
          "output_type": "stream",
          "name": "stdout",
          "text": [
            "[LOG] Train 첫 번째 이미지 Label: 6\n"
          ]
        },
        {
          "output_type": "execute_result",
          "data": {
            "text/plain": [
              "(-0.5, 31.5, 31.5, -0.5)"
            ]
          },
          "metadata": {},
          "execution_count": 71
        },
        {
          "output_type": "display_data",
          "data": {
            "text/plain": [
              "<Figure size 400x400 with 1 Axes>"
            ],
            "image/png": "[encoded data removed]"
          },
          "metadata": {}
        }
      ]
    },
    {
      "cell_type": "markdown",
      "source": [
        "### 1.2. Test 데이터셋\n",
        "[과제] batch_size = 256로 설정"
      ],
      "metadata": {
        "id": "6x4I60DQ1Td6"
      }
    },
    {
      "cell_type": "code",
      "source": [
        "testset = torchvision.datasets.CIFAR10(\n",
        "    root='./data',\n",
        "    train=False,\n",
        "    download=True,\n",
        "    transform=transform\n",
        ")"
      ],
      "metadata": {
        "colab": {
          "base_uri": "https://localhost:8080/"
        },
        "id": "t_TdtLFr1YWU",
        "outputId": "1180018b-4dd6-44d9-ea7e-066a04fff4a9"
      },
      "execution_count": 72,
      "outputs": [
        {
          "output_type": "stream",
          "name": "stdout",
          "text": [
            "Files already downloaded and verified\n"
          ]
        }
      ]
    },
    {
      "cell_type": "code",
      "source": [
        "testloader = torch.utils.data.DataLoader(\n",
        "    testset,\n",
        "    batch_size=256,\n",
        "    shuffle=False\n",
        ")"
      ],
      "metadata": {
        "id": "LUvqHz4M1iRi"
      },
      "execution_count": 73,
      "outputs": []
    },
    {
      "cell_type": "markdown",
      "source": [
        "### 1.2.1. Test 데이터셋의 첫 번째 이미지 확인"
      ],
      "metadata": {
        "id": "0M9IFeXF1wvr"
      }
    },
    {
      "cell_type": "code",
      "source": [
        "test_image, test_label = testset[0]\n",
        "test_image = denormalize(test_image)  # 역정규화\n",
        "print(\"[LOG] Test 첫 번째 이미지 Label:\", test_label)\n",
        "\n",
        "plt.figure(figsize=(4, 4))\n",
        "plt.subplot(1, 2, 2)\n",
        "plt.imshow(test_image.permute(1, 2, 0))  # [C, H, W] -> [H, W, C]\n",
        "plt.title(f\"Test Label: {test_label}\")\n",
        "plt.axis('off')\n",
        "plt.show()"
      ],
      "metadata": {
        "colab": {
          "base_uri": "https://localhost:8080/",
          "height": 217
        },
        "id": "pE5rOTWA2V1A",
        "outputId": "bb05c9dc-f705-49b2-f018-3ca84d136eca"
      },
      "execution_count": 75,
      "outputs": [
        {
          "output_type": "stream",
          "name": "stdout",
          "text": [
            "[LOG] Test 첫 번째 이미지 Label: 3\n"
          ]
        },
        {
          "output_type": "display_data",
          "data": {
            "text/plain": [
              "<Figure size 400x400 with 1 Axes>"
            ],
            "image/png": "[encoded data removed]"
          },
          "metadata": {}
        }
      ]
    },
    {
      "cell_type": "markdown",
      "source": [
        "## 2. Model 정의\n",
        "[과제] Activation 함수를 nn.ReLU에서 nn.LeakyReLU로 변경해줍니다."
      ],
      "metadata": {
        "id": "iGbz4w7N5Iin"
      }
    },
    {
      "cell_type": "markdown",
      "source": [
        "### 2.1.1. LeakyReLUModel"
      ],
      "metadata": {
        "id": "fJL-4B6uIrBl"
      }
    },
    {
      "cell_type": "code",
      "source": [
        "class LeakyReLUModel(nn.Module):\n",
        "    def __init__(self, input_dim, hidden_dim, output_dim):\n",
        "        super().__init__()\n",
        "        self.layer1 = nn.Linear(input_dim, hidden_dim)\n",
        "        self.layer2 = nn.Linear(hidden_dim, hidden_dim)\n",
        "        self.layer3 = nn.Linear(hidden_dim, output_dim)\n",
        "        self.act = nn.LeakyReLU(0.1)\n",
        "\n",
        "    def forward(self, x):\n",
        "        x = torch.flatten(x, start_dim=1)\n",
        "        x = self.act(self.layer1(x))\n",
        "        x = self.act(self.layer2(x))\n",
        "        x = self.layer3(x)\n",
        "        return x"
      ],
      "metadata": {
        "id": "L60gVJky5NQG"
      },
      "execution_count": 76,
      "outputs": []
    },
    {
      "cell_type": "markdown",
      "source": [
        "### 2.1.2. SigmoidModel"
      ],
      "metadata": {
        "id": "k_3dflJtI3Ll"
      }
    },
    {
      "cell_type": "code",
      "source": [
        "class SigmoidModel(nn.Module):\n",
        "    def __init__(self, input_dim, hidden_dim, output_dim):\n",
        "        super().__init__()\n",
        "        self.layer1 = nn.Linear(input_dim, hidden_dim)\n",
        "        self.layer2 = nn.Linear(hidden_dim, hidden_dim)\n",
        "        self.layer3 = nn.Linear(hidden_dim, output_dim)\n",
        "        self.act = nn.Sigmoid()\n",
        "\n",
        "    def forward(self, x):\n",
        "        x = torch.flatten(x, start_dim=1)\n",
        "        x = self.act(self.layer1(x))\n",
        "        x = self.act(self.layer2(x))\n",
        "        x = self.layer3(x)\n",
        "        return x"
      ],
      "metadata": {
        "id": "baSySZz3I5_9"
      },
      "execution_count": 77,
      "outputs": []
    },
    {
      "cell_type": "markdown",
      "source": [
        "### 2.1.3. Dropout 적용한 LeakyReLUModel"
      ],
      "metadata": {
        "id": "3st6XziHJEV9"
      }
    },
    {
      "cell_type": "code",
      "source": [
        "class DropoutLeakyReLUModel(nn.Module):\n",
        "    def __init__(self, input_dim, hidden_dim, output_dim, dropout_prob=0.1):\n",
        "        super().__init__()\n",
        "        self.layer1 = nn.Linear(input_dim, hidden_dim)\n",
        "        self.layer2 = nn.Linear(hidden_dim, hidden_dim)\n",
        "        self.layer3 = nn.Linear(hidden_dim, output_dim)\n",
        "        self.act = nn.LeakyReLU(0.1) # 과제적용\n",
        "        self.dropout = nn.Dropout(p=dropout_prob)\n",
        "\n",
        "    def forward(self, x):\n",
        "        x = torch.flatten(x, start_dim=1)\n",
        "        x = self.dropout(self.act(self.layer1(x)))\n",
        "        x = self.dropout(self.act(self.layer2(x)))\n",
        "        x = self.layer3(x)  # No activation for the output layer\n",
        "        return x"
      ],
      "metadata": {
        "id": "9r8d6FepJDPa"
      },
      "execution_count": 78,
      "outputs": []
    },
    {
      "cell_type": "markdown",
      "source": [
        "### 2.2. Model의 정확도를 측정하는 코드\n",
        "[과제] with torch.no_grad() 적용"
      ],
      "metadata": {
        "id": "PdiohhwN5gb_"
      }
    },
    {
      "cell_type": "code",
      "source": [
        "# Accuracy 계산 함수\n",
        "def accuracy(model, dataloader):\n",
        "    cnt = 0\n",
        "    acc = 0\n",
        "    with torch.no_grad(): # 과제 적용\n",
        "        model.eval()\n",
        "        for data in dataloader:\n",
        "            inputs, labels = data\n",
        "            inputs, labels = inputs.to('cuda'), labels.to('cuda')\n",
        "\n",
        "            preds = model(inputs)\n",
        "            preds = torch.argmax(preds, dim=-1)\n",
        "\n",
        "            cnt += labels.shape[0]\n",
        "            acc += (labels == preds).sum().item()\n",
        "\n",
        "    return acc / cnt"
      ],
      "metadata": {
        "id": "ioNok99B5cP5"
      },
      "execution_count": 79,
      "outputs": []
    },
    {
      "cell_type": "markdown",
      "source": [
        "### 2.3. Model의 학습함수\n",
        "[과제] model.train()을 for data in trainloader: 이전 줄에 둡니다.\\\n",
        "[과제] n_epochs = 50 설정"
      ],
      "metadata": {
        "id": "UDrTiPt7vlKH"
      }
    },
    {
      "cell_type": "code",
      "source": [
        "# 학습 함수\n",
        "def train(model, optimizer, criterion, trainloader, testloader, n_epochs):\n",
        "    train_accs = []\n",
        "    test_accs = []\n",
        "\n",
        "    for epoch in range(n_epochs):\n",
        "        model.train() # 과제 적용\n",
        "        total_loss = 0.0\n",
        "\n",
        "        for data in trainloader:\n",
        "            inputs, labels = data\n",
        "            inputs, labels = inputs.to('cuda'), labels.to('cuda')\n",
        "\n",
        "            optimizer.zero_grad()\n",
        "            preds = model(inputs)\n",
        "            loss = criterion(preds, labels)\n",
        "            loss.backward()\n",
        "            optimizer.step()\n",
        "\n",
        "            total_loss += loss.item()\n",
        "\n",
        "        # Calculate train and test accuracy\n",
        "        train_acc = accuracy(model, trainloader)\n",
        "        test_acc = accuracy(model, testloader)\n",
        "        train_accs.append(train_acc)\n",
        "        test_accs.append(test_acc)\n",
        "\n",
        "        print(f\"[LOG] Epoch {epoch+1}/{n_epochs} | Loss: {total_loss:.4f} | Train Acc: {train_acc:.4f} | Test Acc: {test_acc:.4f} | Model: {model.__class__.__name__} | Optimizer: {optimizer.__class__.__name__}\")\n",
        "\n",
        "    return train_accs, test_accs"
      ],
      "metadata": {
        "id": "HQHjELF_5rvN"
      },
      "execution_count": 80,
      "outputs": []
    },
    {
      "cell_type": "code",
      "source": [
        "# plot 함수\n",
        "def plot_acc(train_accs, test_accs, title, label1='train', label2='test'):\n",
        "    plt.figure(figsize=(10, 5))\n",
        "    x = np.arange(len(train_accs))\n",
        "    plt.plot(x, train_accs, label=label1)\n",
        "    plt.plot(x, test_accs, label=label2)\n",
        "    plt.xlabel(\"Epochs\")\n",
        "    plt.ylabel(\"Accuracy\")\n",
        "    plt.legend()\n",
        "    plt.title(title)\n",
        "    plt.show()\n"
      ],
      "metadata": {
        "id": "2V7cb-28k7BO"
      },
      "execution_count": 81,
      "outputs": []
    },
    {
      "cell_type": "code",
      "source": [
        "input_dim = 3 * 32 * 32  # CIFAR-10 input size\n",
        "hidden_dim = 512\n",
        "output_dim = 10  # 10 classes for CIFAR-10\n",
        "n_epochs = 50 # 과제 적용\n",
        "# Loss 함수\n",
        "criterion = nn.CrossEntropyLoss()"
      ],
      "metadata": {
        "id": "mi-_yp4e56bv"
      },
      "execution_count": 82,
      "outputs": []
    },
    {
      "cell_type": "markdown",
      "source": [
        "##3. SGD와 Adam 성능 비교"
      ],
      "metadata": {
        "id": "oIyLiOCH6H3y"
      }
    },
    {
      "cell_type": "code",
      "source": [
        "model_sgd = LeakyReLUModel(input_dim, hidden_dim, output_dim).to('cuda')\n",
        "optimizer_sgd = optim.SGD(model_sgd.parameters(), lr=0.001)\n",
        "\n",
        "model_adam = LeakyReLUModel(input_dim, hidden_dim, output_dim).to('cuda')\n",
        "optimizer_adam = optim.Adam(model_adam.parameters(), lr=0.001)"
      ],
      "metadata": {
        "id": "Z47Aqku06Glc"
      },
      "execution_count": 83,
      "outputs": []
    },
    {
      "cell_type": "markdown",
      "source": [
        "### 3.1. SGD Optimizer로 학습 시작"
      ],
      "metadata": {
        "id": "QXu0pV-k8YB5"
      }
    },
    {
      "cell_type": "code",
      "source": [
        "print(\"[LOG] SGD Optimizer로 학습 시작\")\n",
        "sgd_train_accs = train(model_sgd, optimizer_sgd, criterion, trainloader, testloader, n_epochs)"
      ],
      "metadata": {
        "colab": {
          "base_uri": "https://localhost:8080/"
        },
        "id": "YKUM0QPf8cxJ",
        "outputId": "a15d761e-dcab-41bd-d5e1-3886c7f3928a"
      },
      "execution_count": null,
      "outputs": [
        {
          "output_type": "stream",
          "name": "stdout",
          "text": [
            "[LOG] SGD Optimizer로 학습 시작\n",
            "[LOG] Epoch 1/50 | Loss: 450.1189 | Train Acc: 0.1585 | Test Acc: 0.1528 | Model: LeakyReLUModel | Optimizer: SGD\n",
            "[LOG] Epoch 2/50 | Loss: 446.3534 | Train Acc: 0.2047 | Test Acc: 0.2031 | Model: LeakyReLUModel | Optimizer: SGD\n",
            "[LOG] Epoch 3/50 | Loss: 442.6701 | Train Acc: 0.2295 | Test Acc: 0.2271 | Model: LeakyReLUModel | Optimizer: SGD\n",
            "[LOG] Epoch 4/50 | Loss: 438.9587 | Train Acc: 0.2396 | Test Acc: 0.2417 | Model: LeakyReLUModel | Optimizer: SGD\n",
            "[LOG] Epoch 5/50 | Loss: 435.1685 | Train Acc: 0.2441 | Test Acc: 0.2457 | Model: LeakyReLUModel | Optimizer: SGD\n",
            "[LOG] Epoch 6/50 | Loss: 431.3662 | Train Acc: 0.2459 | Test Acc: 0.2510 | Model: LeakyReLUModel | Optimizer: SGD\n",
            "[LOG] Epoch 7/50 | Loss: 427.5288 | Train Acc: 0.2482 | Test Acc: 0.2516 | Model: LeakyReLUModel | Optimizer: SGD\n",
            "[LOG] Epoch 8/50 | Loss: 423.8034 | Train Acc: 0.2510 | Test Acc: 0.2552 | Model: LeakyReLUModel | Optimizer: SGD\n",
            "[LOG] Epoch 9/50 | Loss: 420.1884 | Train Acc: 0.2546 | Test Acc: 0.2574 | Model: LeakyReLUModel | Optimizer: SGD\n",
            "[LOG] Epoch 10/50 | Loss: 416.6781 | Train Acc: 0.2576 | Test Acc: 0.2610 | Model: LeakyReLUModel | Optimizer: SGD\n",
            "[LOG] Epoch 11/50 | Loss: 413.3891 | Train Acc: 0.2616 | Test Acc: 0.2658 | Model: LeakyReLUModel | Optimizer: SGD\n",
            "[LOG] Epoch 12/50 | Loss: 410.2581 | Train Acc: 0.2664 | Test Acc: 0.2703 | Model: LeakyReLUModel | Optimizer: SGD\n",
            "[LOG] Epoch 13/50 | Loss: 407.1971 | Train Acc: 0.2713 | Test Acc: 0.2734 | Model: LeakyReLUModel | Optimizer: SGD\n",
            "[LOG] Epoch 14/50 | Loss: 404.3490 | Train Acc: 0.2763 | Test Acc: 0.2788 | Model: LeakyReLUModel | Optimizer: SGD\n",
            "[LOG] Epoch 15/50 | Loss: 401.5564 | Train Acc: 0.2811 | Test Acc: 0.2821 | Model: LeakyReLUModel | Optimizer: SGD\n",
            "[LOG] Epoch 16/50 | Loss: 398.9067 | Train Acc: 0.2861 | Test Acc: 0.2870 | Model: LeakyReLUModel | Optimizer: SGD\n",
            "[LOG] Epoch 17/50 | Loss: 396.3528 | Train Acc: 0.2917 | Test Acc: 0.2930 | Model: LeakyReLUModel | Optimizer: SGD\n",
            "[LOG] Epoch 18/50 | Loss: 393.9226 | Train Acc: 0.2962 | Test Acc: 0.2980 | Model: LeakyReLUModel | Optimizer: SGD\n",
            "[LOG] Epoch 19/50 | Loss: 391.5705 | Train Acc: 0.3008 | Test Acc: 0.3046 | Model: LeakyReLUModel | Optimizer: SGD\n",
            "[LOG] Epoch 20/50 | Loss: 389.3304 | Train Acc: 0.3051 | Test Acc: 0.3069 | Model: LeakyReLUModel | Optimizer: SGD\n",
            "[LOG] Epoch 21/50 | Loss: 387.1454 | Train Acc: 0.3085 | Test Acc: 0.3117 | Model: LeakyReLUModel | Optimizer: SGD\n",
            "[LOG] Epoch 22/50 | Loss: 385.1641 | Train Acc: 0.3125 | Test Acc: 0.3146 | Model: LeakyReLUModel | Optimizer: SGD\n",
            "[LOG] Epoch 23/50 | Loss: 383.2593 | Train Acc: 0.3159 | Test Acc: 0.3184 | Model: LeakyReLUModel | Optimizer: SGD\n",
            "[LOG] Epoch 24/50 | Loss: 381.3977 | Train Acc: 0.3192 | Test Acc: 0.3222 | Model: LeakyReLUModel | Optimizer: SGD\n",
            "[LOG] Epoch 25/50 | Loss: 379.5808 | Train Acc: 0.3226 | Test Acc: 0.3255 | Model: LeakyReLUModel | Optimizer: SGD\n",
            "[LOG] Epoch 26/50 | Loss: 377.7734 | Train Acc: 0.3250 | Test Acc: 0.3279 | Model: LeakyReLUModel | Optimizer: SGD\n",
            "[LOG] Epoch 27/50 | Loss: 376.1232 | Train Acc: 0.3284 | Test Acc: 0.3291 | Model: LeakyReLUModel | Optimizer: SGD\n",
            "[LOG] Epoch 28/50 | Loss: 374.5429 | Train Acc: 0.3312 | Test Acc: 0.3314 | Model: LeakyReLUModel | Optimizer: SGD\n",
            "[LOG] Epoch 29/50 | Loss: 373.0675 | Train Acc: 0.3335 | Test Acc: 0.3344 | Model: LeakyReLUModel | Optimizer: SGD\n",
            "[LOG] Epoch 30/50 | Loss: 371.4834 | Train Acc: 0.3366 | Test Acc: 0.3366 | Model: LeakyReLUModel | Optimizer: SGD\n",
            "[LOG] Epoch 31/50 | Loss: 370.1329 | Train Acc: 0.3389 | Test Acc: 0.3386 | Model: LeakyReLUModel | Optimizer: SGD\n",
            "[LOG] Epoch 32/50 | Loss: 368.7101 | Train Acc: 0.3408 | Test Acc: 0.3403 | Model: LeakyReLUModel | Optimizer: SGD\n",
            "[LOG] Epoch 33/50 | Loss: 367.4193 | Train Acc: 0.3430 | Test Acc: 0.3438 | Model: LeakyReLUModel | Optimizer: SGD\n",
            "[LOG] Epoch 34/50 | Loss: 366.1606 | Train Acc: 0.3451 | Test Acc: 0.3451 | Model: LeakyReLUModel | Optimizer: SGD\n",
            "[LOG] Epoch 35/50 | Loss: 364.7791 | Train Acc: 0.3473 | Test Acc: 0.3476 | Model: LeakyReLUModel | Optimizer: SGD\n",
            "[LOG] Epoch 36/50 | Loss: 363.7186 | Train Acc: 0.3499 | Test Acc: 0.3503 | Model: LeakyReLUModel | Optimizer: SGD\n",
            "[LOG] Epoch 37/50 | Loss: 362.4575 | Train Acc: 0.3523 | Test Acc: 0.3539 | Model: LeakyReLUModel | Optimizer: SGD\n",
            "[LOG] Epoch 38/50 | Loss: 361.3020 | Train Acc: 0.3542 | Test Acc: 0.3569 | Model: LeakyReLUModel | Optimizer: SGD\n",
            "[LOG] Epoch 39/50 | Loss: 360.2961 | Train Acc: 0.3572 | Test Acc: 0.3594 | Model: LeakyReLUModel | Optimizer: SGD\n",
            "[LOG] Epoch 40/50 | Loss: 359.1383 | Train Acc: 0.3587 | Test Acc: 0.3609 | Model: LeakyReLUModel | Optimizer: SGD\n",
            "[LOG] Epoch 41/50 | Loss: 358.0383 | Train Acc: 0.3606 | Test Acc: 0.3621 | Model: LeakyReLUModel | Optimizer: SGD\n",
            "[LOG] Epoch 42/50 | Loss: 356.8990 | Train Acc: 0.3624 | Test Acc: 0.3625 | Model: LeakyReLUModel | Optimizer: SGD\n"
          ]
        }
      ]
    },
    {
      "cell_type": "markdown",
      "source": [
        "### 3.2. Adam Optimizer로 학습 시작"
      ],
      "metadata": {
        "id": "k8E-B_q58hSP"
      }
    },
    {
      "cell_type": "code",
      "source": [
        "print(\"[LOG] Adam Optimizer로 학습 시작\")\n",
        "adam_train_accs = train(model_adam, optimizer_adam, criterion, trainloader, testloader, n_epochs)"
      ],
      "metadata": {
        "id": "rIgHX6CDAgeJ"
      },
      "execution_count": null,
      "outputs": []
    },
    {
      "cell_type": "markdown",
      "source": [
        "### 3.3. 비교결과 Plot 1\n",
        "[과제] SGD와 Adam 성능 비교"
      ],
      "metadata": {
        "id": "U9wX8EZrAjtU"
      }
    },
    {
      "cell_type": "code",
      "source": [
        "plot_acc(sgd_train_accs, adam_train_accs, \"SGD vs Adam Optimizer\", label1='SGD', label2='Adam')"
      ],
      "metadata": {
        "id": "-7Jozmx5A0kZ"
      },
      "execution_count": null,
      "outputs": []
    },
    {
      "cell_type": "markdown",
      "source": [
        "## 4. Leaky ReLU와 Sigmoid 성능 비교"
      ],
      "metadata": {
        "id": "z6pPf1mcMP3r"
      }
    },
    {
      "cell_type": "code",
      "source": [
        "model_sigmoid = SigmoidModel(input_dim, hidden_dim, output_dim).to('cuda')\n",
        "optimizer_sigmoid = optim.Adam(model_sigmoid.parameters(), lr=0.001)\n"
      ],
      "metadata": {
        "id": "ePZD3aC8Mdn8"
      },
      "execution_count": null,
      "outputs": []
    },
    {
      "cell_type": "markdown",
      "source": [
        "### 4.1. Adam Optimizer로 학습 시작"
      ],
      "metadata": {
        "id": "TVzBRQV3NHN3"
      }
    },
    {
      "cell_type": "code",
      "source": [
        "print(\"[LOG] Sigmoid Activation으로 학습 시작\")\n",
        "sigmoid_train_accs = train(model_sigmoid, optimizer_sigmoid, criterion, trainloader, testloader, n_epochs)"
      ],
      "metadata": {
        "id": "_dSS1O7SNXrW"
      },
      "execution_count": null,
      "outputs": []
    },
    {
      "cell_type": "markdown",
      "source": [
        "### 4.2. 비교결과 Plot 2\n",
        "[과제] LeakyReLU와 Sigmoid 성능 비교"
      ],
      "metadata": {
        "id": "HFv4Cx4HNeKW"
      }
    },
    {
      "cell_type": "code",
      "source": [
        "plot_acc(adam_train_accs, sigmoid_train_accs, \"LeakyReLU vs Sigmoid\", label1='LeakyReLU', label2='Sigmoid')"
      ],
      "metadata": {
        "id": "-zmJzlIbNtkD"
      },
      "execution_count": null,
      "outputs": []
    },
    {
      "cell_type": "markdown",
      "source": [
        "## 5. dropout을 적용한 train과 test 정확도를 비교"
      ],
      "metadata": {
        "id": "qR6H8wQsPc0z"
      }
    },
    {
      "cell_type": "code",
      "source": [
        "# Dropout model and Adam optimizer\n",
        "dropout_model = DropoutLeakyReLUModel(input_dim, hidden_dim, output_dim).to('cuda')\n",
        "adam_optimizer_dropout = optim.Adam(dropout_model.parameters(), lr=0.001)\n"
      ],
      "metadata": {
        "id": "VMEmyxiCP-Q_"
      },
      "execution_count": null,
      "outputs": []
    },
    {
      "cell_type": "markdown",
      "source": [
        "### 5.1. DropoutLeakyReLUModel로 학습 시작"
      ],
      "metadata": {
        "id": "sugLjV3tczFW"
      }
    },
    {
      "cell_type": "code",
      "source": [
        "print(\"[LOG] DropoutLeakyReLUModel로 학습 시작\")\n",
        "dropout_train_accs, dropout_test_accs = train(dropout_model, adam_optimizer_dropout, criterion, trainloader, testloader, n_epochs)"
      ],
      "metadata": {
        "id": "wo6S2JgwQgFh"
      },
      "execution_count": null,
      "outputs": []
    },
    {
      "cell_type": "markdown",
      "source": [
        "### 5.2. 비교결과 Plot 3\n",
        "[과제] Adam optimizer를 가지고 dropout을 적용한 모델을 학습한 후, epoch에 따른 train과 test 정확도를 비교"
      ],
      "metadata": {
        "id": "HidKJ1dkdge0"
      }
    },
    {
      "cell_type": "code",
      "source": [
        "epochs = np.arange(1, len(dropout_train_accs) + 1)\n",
        "plt.plot(epochs, dropout_train_accs, label='Train Accuracy', color='blue')\n",
        "plt.plot(epochs, dropout_test_accs, label='Test Accuracy', color='red')\n",
        "plt.xlabel('Epoch')\n",
        "plt.ylabel('Accuracy')\n",
        "plt.title('Train vs Test Accuracy with Dropout')\n",
        "plt.legend()\n",
        "plt.grid(True)\n",
        "plt.show()"
      ],
      "metadata": {
        "id": "hf_w0YQYdCTX"
      },
      "execution_count": null,
      "outputs": []
    }
  ]
}