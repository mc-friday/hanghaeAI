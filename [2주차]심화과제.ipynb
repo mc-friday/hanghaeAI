{
  "cells": [
    {
      "cell_type": "markdown",
      "metadata": {
        "id": "view-in-github",
        "colab_type": "text"
      },
      "source": [
        "<a href=\"https://colab.research.google.com/github/mc-friday/hanghaeAI/blob/main/%5B2%EC%A3%BC%EC%B0%A8%5D%EC%8B%AC%ED%99%94%EA%B3%BC%EC%A0%9C.ipynb\" target=\"_parent\"><img src=\"https://colab.research.google.com/assets/colab-badge.svg\" alt=\"Open In Colab\"/></a>"
      ]
    },
    {
      "cell_type": "markdown",
      "metadata": {
        "id": "ymxatB5WYxlL"
      },
      "source": [
        "# [2주차] 심화과제: Multi-head Attention으로 감정 분석 모델 구현하기"
      ]
    },
    {
      "cell_type": "code",
      "execution_count": 26,
      "metadata": {
        "id": "1X7RM2du1zcr",
        "outputId": "f04c3cbb-ebbc-4483-ef59-b7b06c15af2e",
        "colab": {
          "base_uri": "https://localhost:8080/"
        }
      },
      "outputs": [
        {
          "output_type": "stream",
          "name": "stdout",
          "text": [
            "Requirement already satisfied: datasets in /usr/local/lib/python3.10/dist-packages (3.2.0)\n",
            "Requirement already satisfied: sacremoses in /usr/local/lib/python3.10/dist-packages (0.1.1)\n",
            "Requirement already satisfied: filelock in /usr/local/lib/python3.10/dist-packages (from datasets) (3.16.1)\n",
            "Requirement already satisfied: numpy>=1.17 in /usr/local/lib/python3.10/dist-packages (from datasets) (1.26.4)\n",
            "Requirement already satisfied: pyarrow>=15.0.0 in /usr/local/lib/python3.10/dist-packages (from datasets) (17.0.0)\n",
            "Requirement already satisfied: dill<0.3.9,>=0.3.0 in /usr/local/lib/python3.10/dist-packages (from datasets) (0.3.8)\n",
            "Requirement already satisfied: pandas in /usr/local/lib/python3.10/dist-packages (from datasets) (2.2.2)\n",
            "Requirement already satisfied: requests>=2.32.2 in /usr/local/lib/python3.10/dist-packages (from datasets) (2.32.3)\n",
            "Requirement already satisfied: tqdm>=4.66.3 in /usr/local/lib/python3.10/dist-packages (from datasets) (4.67.1)\n",
            "Requirement already satisfied: xxhash in /usr/local/lib/python3.10/dist-packages (from datasets) (3.5.0)\n",
            "Requirement already satisfied: multiprocess<0.70.17 in /usr/local/lib/python3.10/dist-packages (from datasets) (0.70.16)\n",
            "Requirement already satisfied: fsspec<=2024.9.0,>=2023.1.0 in /usr/local/lib/python3.10/dist-packages (from fsspec[http]<=2024.9.0,>=2023.1.0->datasets) (2024.9.0)\n",
            "Requirement already satisfied: aiohttp in /usr/local/lib/python3.10/dist-packages (from datasets) (3.11.10)\n",
            "Requirement already satisfied: huggingface-hub>=0.23.0 in /usr/local/lib/python3.10/dist-packages (from datasets) (0.27.0)\n",
            "Requirement already satisfied: packaging in /usr/local/lib/python3.10/dist-packages (from datasets) (24.2)\n",
            "Requirement already satisfied: pyyaml>=5.1 in /usr/local/lib/python3.10/dist-packages (from datasets) (6.0.2)\n",
            "Requirement already satisfied: regex in /usr/local/lib/python3.10/dist-packages (from sacremoses) (2024.11.6)\n",
            "Requirement already satisfied: click in /usr/local/lib/python3.10/dist-packages (from sacremoses) (8.1.7)\n",
            "Requirement already satisfied: joblib in /usr/local/lib/python3.10/dist-packages (from sacremoses) (1.4.2)\n",
            "Requirement already satisfied: aiohappyeyeballs>=2.3.0 in /usr/local/lib/python3.10/dist-packages (from aiohttp->datasets) (2.4.4)\n",
            "Requirement already satisfied: aiosignal>=1.1.2 in /usr/local/lib/python3.10/dist-packages (from aiohttp->datasets) (1.3.2)\n",
            "Requirement already satisfied: async-timeout<6.0,>=4.0 in /usr/local/lib/python3.10/dist-packages (from aiohttp->datasets) (4.0.3)\n",
            "Requirement already satisfied: attrs>=17.3.0 in /usr/local/lib/python3.10/dist-packages (from aiohttp->datasets) (24.3.0)\n",
            "Requirement already satisfied: frozenlist>=1.1.1 in /usr/local/lib/python3.10/dist-packages (from aiohttp->datasets) (1.5.0)\n",
            "Requirement already satisfied: multidict<7.0,>=4.5 in /usr/local/lib/python3.10/dist-packages (from aiohttp->datasets) (6.1.0)\n",
            "Requirement already satisfied: propcache>=0.2.0 in /usr/local/lib/python3.10/dist-packages (from aiohttp->datasets) (0.2.1)\n",
            "Requirement already satisfied: yarl<2.0,>=1.17.0 in /usr/local/lib/python3.10/dist-packages (from aiohttp->datasets) (1.18.3)\n",
            "Requirement already satisfied: typing-extensions>=3.7.4.3 in /usr/local/lib/python3.10/dist-packages (from huggingface-hub>=0.23.0->datasets) (4.12.2)\n",
            "Requirement already satisfied: charset-normalizer<4,>=2 in /usr/local/lib/python3.10/dist-packages (from requests>=2.32.2->datasets) (3.4.0)\n",
            "Requirement already satisfied: idna<4,>=2.5 in /usr/local/lib/python3.10/dist-packages (from requests>=2.32.2->datasets) (3.10)\n",
            "Requirement already satisfied: urllib3<3,>=1.21.1 in /usr/local/lib/python3.10/dist-packages (from requests>=2.32.2->datasets) (2.2.3)\n",
            "Requirement already satisfied: certifi>=2017.4.17 in /usr/local/lib/python3.10/dist-packages (from requests>=2.32.2->datasets) (2024.12.14)\n",
            "Requirement already satisfied: python-dateutil>=2.8.2 in /usr/local/lib/python3.10/dist-packages (from pandas->datasets) (2.8.2)\n",
            "Requirement already satisfied: pytz>=2020.1 in /usr/local/lib/python3.10/dist-packages (from pandas->datasets) (2024.2)\n",
            "Requirement already satisfied: tzdata>=2022.7 in /usr/local/lib/python3.10/dist-packages (from pandas->datasets) (2024.2)\n",
            "Requirement already satisfied: six>=1.5 in /usr/local/lib/python3.10/dist-packages (from python-dateutil>=2.8.2->pandas->datasets) (1.17.0)\n"
          ]
        }
      ],
      "source": [
        "!pip install datasets sacremoses"
      ]
    },
    {
      "cell_type": "code",
      "execution_count": 27,
      "metadata": {
        "id": "HOdhoBVA1zcu"
      },
      "outputs": [],
      "source": [
        "import torch\n",
        "from datasets import load_dataset\n",
        "from torch.utils.data import DataLoader\n",
        "from transformers import BertTokenizerFast\n",
        "from tokenizers import (\n",
        "    decoders,\n",
        "    models,\n",
        "    normalizers,\n",
        "    pre_tokenizers,\n",
        "    processors,\n",
        "    trainers,\n",
        "    Tokenizer,\n",
        ")\n",
        "from torch.nn.utils.rnn import pad_sequence\n",
        "from torch.optim import Adam\n",
        "import numpy as np\n",
        "from math import sqrt\n",
        "import matplotlib.pyplot as plt\n",
        "from torch import nn\n",
        "import time"
      ]
    },
    {
      "cell_type": "markdown",
      "metadata": {
        "id": "i-FshZcTZBQ2"
      },
      "source": [
        "## 1. 데이터셋 (기존의 IMDB dataset을 그대로 활용)"
      ]
    },
    {
      "cell_type": "code",
      "execution_count": 28,
      "metadata": {
        "id": "MBlMVMZcRAxv",
        "colab": {
          "base_uri": "https://localhost:8080/"
        },
        "outputId": "ef7ab2be-449c-42cf-c0a9-1c1329b85f76"
      },
      "outputs": [
        {
          "output_type": "stream",
          "name": "stderr",
          "text": [
            "Using cache found in /root/.cache/torch/hub/huggingface_pytorch-transformers_main\n"
          ]
        }
      ],
      "source": [
        "ds = load_dataset(\"stanfordnlp/imdb\")\n",
        "tokenizer = torch.hub.load('huggingface/pytorch-transformers', 'tokenizer', 'bert-base-uncased')"
      ]
    },
    {
      "cell_type": "markdown",
      "metadata": {
        "id": "-S0vMp85ZRNO"
      },
      "source": [
        "### 1.1. [MY_CODE] Last word prediction dataset 준비를 위한 함수"
      ]
    },
    {
      "cell_type": "code",
      "execution_count": 29,
      "metadata": {
        "id": "VZHPCn9AS5Gp"
      },
      "outputs": [],
      "source": [
        "def collate_fn(batch):\n",
        "  max_len = 400\n",
        "  texts, labels = [], []\n",
        "  for row in batch:\n",
        "    labels.append(row['label'])\n",
        "    texts.append(row['text'])\n",
        "\n",
        "  texts = torch.LongTensor(tokenizer(texts, padding=True, truncation=True, max_length=max_len).input_ids)\n",
        "  labels = torch.LongTensor(labels)\n",
        "\n",
        "  return texts, labels"
      ]
    },
    {
      "cell_type": "markdown",
      "metadata": {
        "id": "O_xC9BQJaU4q"
      },
      "source": [
        "보시다시피 self-attention의 구현이 어렵지, Transformer layer 하나 구현하는 것은 수업 때 다룬 그림과 크게 구분되지 않는다는 점을 알 수 있습니다."
      ]
    },
    {
      "cell_type": "markdown",
      "metadata": {
        "id": "J3VYrqTJagS1"
      },
      "source": [
        "### 1.2. DataLoader 생성"
      ]
    },
    {
      "cell_type": "code",
      "execution_count": 30,
      "metadata": {
        "id": "Uf_jMQWDUR79"
      },
      "outputs": [],
      "source": [
        "train_loader = DataLoader(\n",
        "    ds['train'], batch_size=64, shuffle=True, collate_fn=collate_fn\n",
        ")\n",
        "test_loader = DataLoader(\n",
        "    ds['test'], batch_size=64, shuffle=False, collate_fn=collate_fn\n",
        ")"
      ]
    },
    {
      "cell_type": "markdown",
      "metadata": {
        "id": "5unoDcBva3eN"
      },
      "source": [
        "## 2. 모델 구현"
      ]
    },
    {
      "cell_type": "markdown",
      "source": [
        "### 2.1. [MY_CODE] MHA Model\n",
        "\n",
        "MutiHead-attention"
      ],
      "metadata": {
        "id": "lidPCcW0qYFo"
      }
    },
    {
      "cell_type": "code",
      "execution_count": 31,
      "metadata": {
        "id": "8MaiCGh8TsDH"
      },
      "outputs": [],
      "source": [
        "class MHA(nn.Module):\n",
        "    def __init__(self, d_model, n_heads):\n",
        "        super().__init__()\n",
        "        assert d_model % n_heads == 0, \"n_heads는 d_model로 나눠 떨어지는 값이어야 합니다.\"\n",
        "\n",
        "        self.n_heads = n_heads\n",
        "        self.depth = d_model // n_heads\n",
        "\n",
        "        self.wq = nn.Linear(d_model, d_model)\n",
        "        self.wk = nn.Linear(d_model, d_model)\n",
        "        self.wv = nn.Linear(d_model, d_model)\n",
        "\n",
        "        self.dense = nn.Linear(d_model, d_model)\n",
        "\n",
        "        self.softmax = nn.Softmax(dim=-1)\n",
        "\n",
        "    def forward(self, x, mask):\n",
        "        batch_size, seq_len, _ = x.size()\n",
        "\n",
        "        # [MHA구현 1] Q, K, V 생성\n",
        "        Q = self.wq(x)\n",
        "        K = self.wk(x)\n",
        "        V = self.wv(x)\n",
        "\n",
        "        # [MHA구현 2] reshape\n",
        "        Q = Q.view(batch_size, seq_len, self.n_heads, self.depth)\n",
        "        K = K.view(batch_size, seq_len, self.n_heads, self.depth)\n",
        "        V = V.view(batch_size, seq_len, self.n_heads, self.depth)\n",
        "\n",
        "        # [MHA구현 3] shape으로 transpose\n",
        "        Q = Q.transpose(1, 2)\n",
        "        K = K.transpose(1, 2)\n",
        "        V = V.transpose(1, 2)\n",
        "\n",
        "        # [MHA구현 4]\n",
        "        scores = torch.matmul(Q, K.transpose(-2, -1)) / sqrt(self.depth)  # (batch_size, n_heads, seq_len, seq_len)\n",
        "\n",
        "        # [MHA구현 5] 마스킹 추가\n",
        "        if mask is not None:\n",
        "            scores = scores.masked_fill(mask == 0, float('-inf'))\n",
        "\n",
        "        # [MHA구현 6] Softmax 가중치 계산\n",
        "        attention_weights = self.softmax(scores)\n",
        "\n",
        "        context = torch.matmul(attention_weights, V)\n",
        "\n",
        "        # [MHA구현 7]\n",
        "        context = context.transpose(1, 2).contiguous().view(batch_size, seq_len, -1)\n",
        "\n",
        "        # 최종 선형 변환을 통해 Multi-Head Attention 출력\n",
        "        output = self.dense(context)\n",
        "\n",
        "        return output"
      ]
    },
    {
      "cell_type": "markdown",
      "metadata": {
        "id": "XXpjPWHjbUK8"
      },
      "source": [
        "### 2.2.  [MY_CODE] TransformerLayer Model\n",
        "\n",
        "multihead-attention과 feed-forward layer를 구현한 모습"
      ]
    },
    {
      "cell_type": "code",
      "source": [
        "class TransformerLayer(nn.Module):\n",
        "    \"\"\"\n",
        "    Transformer Layer 구현\n",
        "    - MHA: Multi-Head Attention\n",
        "    - FFN: Feed-Forward Network\n",
        "    \"\"\"\n",
        "    def __init__(self, d_model, dff, n_heads, dropout_rate=0.1):\n",
        "        super().__init__()\n",
        "        # MHA: Multi-Head Attention\n",
        "        self.mha = MHA(d_model, n_heads)\n",
        "\n",
        "        # FFN: Feed-Forward Network\n",
        "        self.ffn = nn.Sequential(\n",
        "            nn.Linear(d_model, dff), # 입력 차원 -> 확장 차원\n",
        "            nn.ReLU(),               # 활성화 함수\n",
        "            nn.Linear(dff, d_model)  # 확장 차원 -> 원래 차원\n",
        "        )\n",
        "\n",
        "        # Layer Normalization 및 Dropout\n",
        "        self.layernorm1 = nn.LayerNorm(d_model)\n",
        "        self.layernorm2 = nn.LayerNorm(d_model)\n",
        "        self.dropout1 = nn.Dropout(dropout_rate)\n",
        "        self.dropout2 = nn.Dropout(dropout_rate)\n",
        "\n",
        "    def forward(self, x, mask):\n",
        "        attn_output = self.mha(x, mask)\n",
        "        x1 = self.layernorm1(x + self.dropout1(attn_output))  # Residual + Dropout + LayerNorm\n",
        "\n",
        "        ffn_output = self.ffn(x1)                             # Feed-Forward Network 계산\n",
        "        x2 = self.layernorm2(x1 + self.dropout2(ffn_output))  # Residual + Dropout + LayerNorm\n",
        "\n",
        "        return x2"
      ],
      "metadata": {
        "id": "ts_d2CnYuQxD"
      },
      "execution_count": 32,
      "outputs": []
    },
    {
      "cell_type": "markdown",
      "source": [
        "### 2.3. [MY_CODE] TextClassifier Model\n",
        "\n",
        "5-layer 4-head Transformer"
      ],
      "metadata": {
        "id": "hij2znUDusyp"
      }
    },
    {
      "cell_type": "code",
      "source": [
        "class TextClassifier(nn.Module):\n",
        "    def __init__(self, vocab_size, d_model, n_layers, dff, n_heads, max_len, dropout_rate=0.1):\n",
        "        super().__init__()\n",
        "\n",
        "        self.vocab_size = vocab_size\n",
        "        self.d_model = d_model\n",
        "        self.n_layers = n_layers\n",
        "        self.dff = dff\n",
        "\n",
        "        self.embedding = nn.Embedding(vocab_size, d_model)\n",
        "        self.pos_encoding = nn.parameter.Parameter(positional_encoding(max_len, d_model), requires_grad=False)\n",
        "        self.layers = nn.ModuleList([TransformerLayer(d_model, dff, n_heads, dropout_rate) for _ in range(self.n_layers)])\n",
        "\n",
        "        self.classification = nn.Linear(d_model, 1)\n",
        "\n",
        "    def forward(self, x):\n",
        "        mask = (x == tokenizer.pad_token_id)\n",
        "        mask = mask[:, None, None, :]\n",
        "\n",
        "        seq_len = x.shape[1]\n",
        "        x = self.embedding(x)\n",
        "        x = x * sqrt(self.d_model)\n",
        "        x = x + self.pos_encoding[:, :seq_len]\n",
        "\n",
        "\n",
        "        for layer in self.layers:\n",
        "            x = layer(x, mask)\n",
        "\n",
        "        x = x[:, 0]\n",
        "        x = self.classification(x)\n",
        "\n",
        "        return x"
      ],
      "metadata": {
        "id": "DBg3zKpHutd3"
      },
      "execution_count": 33,
      "outputs": []
    },
    {
      "cell_type": "markdown",
      "source": [
        "## 3. Positional encoding"
      ],
      "metadata": {
        "id": "x0GxrNShw_9I"
      }
    },
    {
      "cell_type": "code",
      "source": [
        "def get_angles(pos, i, d_model):\n",
        "    angle_rates = 1 / np.power(10000, (2 * (i // 2)) / np.float32(d_model))\n",
        "    return pos * angle_rates\n",
        "\n",
        "def positional_encoding(position, d_model):\n",
        "    angle_rads = get_angles(np.arange(position)[:, None], np.arange(d_model)[None, :], d_model)\n",
        "    angle_rads[:, 0::2] = np.sin(angle_rads[:, 0::2])\n",
        "    angle_rads[:, 1::2] = np.cos(angle_rads[:, 1::2])\n",
        "    pos_encoding = angle_rads[None, ...]\n",
        "\n",
        "    return torch.FloatTensor(pos_encoding)\n",
        "\n",
        "\n",
        "max_len = 400\n",
        "print(f\"[LOG] {positional_encoding(max_len, 256).shape}\")"
      ],
      "metadata": {
        "colab": {
          "base_uri": "https://localhost:8080/"
        },
        "id": "YjsrRjfwxCKE",
        "outputId": "5d6ab272-0da5-48e1-aaaf-d5c88ef1f222"
      },
      "execution_count": 34,
      "outputs": [
        {
          "output_type": "stream",
          "name": "stdout",
          "text": [
            "[LOG] torch.Size([1, 400, 256])\n"
          ]
        }
      ]
    },
    {
      "cell_type": "markdown",
      "metadata": {
        "id": "QDq05OlAb2lB"
      },
      "source": [
        "## 4. [MY_CODE] 모델, 손실 함수, 옵티마이저 설정"
      ]
    },
    {
      "cell_type": "code",
      "execution_count": 35,
      "metadata": {
        "id": "YHVVsWBPQmnv"
      },
      "outputs": [],
      "source": [
        "# 모델 초기화\n",
        "vocab_size = len(tokenizer)\n",
        "d_model = 32\n",
        "n_layers = 5\n",
        "dff = 32\n",
        "n_heads = 4\n",
        "max_len = 400\n",
        "dropout_rate = 0.1\n",
        "lr = 0.001\n",
        "\n",
        "# 디바이스 설정\n",
        "device = torch.device(\"cuda\" if torch.cuda.is_available() else \"cpu\")\n",
        "\n",
        "model = TextClassifier(vocab_size, d_model, n_layers, dff, n_heads, max_len, dropout_rate).to(device)\n",
        "optimizer = Adam(model.parameters(), lr=lr)\n",
        "loss_fn = nn.BCEWithLogitsLoss()\n"
      ]
    },
    {
      "cell_type": "markdown",
      "source": [
        "### 4.1. model의 정확도를 측정하는 함수"
      ],
      "metadata": {
        "id": "quFKTUuaxbdl"
      }
    },
    {
      "cell_type": "code",
      "execution_count": 36,
      "metadata": {
        "id": "r88BALxO1zc1"
      },
      "outputs": [],
      "source": [
        "def accuracy(model, dataloader):\n",
        "  cnt = 0\n",
        "  acc = 0\n",
        "\n",
        "  for data in dataloader:\n",
        "    inputs, labels = data\n",
        "    inputs, labels = inputs.to(device), labels.to(device)\n",
        "\n",
        "    preds = model(inputs)\n",
        "    # preds = torch.argmax(preds, dim=-1)\n",
        "    preds = (preds > 0).long()[..., 0]\n",
        "\n",
        "    cnt += labels.size(0)\n",
        "    acc += (labels == preds).sum().item()\n",
        "\n",
        "  return acc / cnt"
      ]
    },
    {
      "cell_type": "markdown",
      "source": [
        "### 4.2. [MY_CODE] plot 함수"
      ],
      "metadata": {
        "id": "-H28Soaix7IS"
      }
    },
    {
      "cell_type": "code",
      "source": [
        "def plot_acc(train_accs, test_accs, title, label1='train', label2='test'):\n",
        "    \"\"\"\n",
        "    학습 정확도 및 테스트 정확도를 시각화하는 함수\n",
        "    Args:\n",
        "        train_accs: 각 epoch별 학습 정확도 리스트\n",
        "        test_accs: 각 epoch별 테스트 정확도 리스트\n",
        "        title: 그래프 제목\n",
        "        label1: 학습 데이터 라벨\n",
        "        label2: 테스트 데이터 라벨\n",
        "    \"\"\"\n",
        "    plt.figure(figsize=(10, 5))\n",
        "    x = np.arange(len(train_accs))\n",
        "    plt.plot(x, train_accs, label=label1)\n",
        "    plt.plot(x, test_accs, label=label2)\n",
        "    plt.xlabel(\"Epochs\")\n",
        "    plt.ylabel(\"Accuracy\")\n",
        "    plt.legend()\n",
        "    plt.title(title)\n",
        "    plt.show()"
      ],
      "metadata": {
        "id": "i--iScr2x89Q"
      },
      "execution_count": 37,
      "outputs": []
    },
    {
      "cell_type": "markdown",
      "source": [
        "## 5. [MY_CODE] 학습"
      ],
      "metadata": {
        "id": "jmWhbn6jyOTl"
      }
    },
    {
      "cell_type": "code",
      "execution_count": null,
      "metadata": {
        "id": "al_b56TYRILq"
      },
      "outputs": [],
      "source": [
        "train_loss_list = []  # 에포크별 학습 손실\n",
        "train_acc_list = []   # 에포크별 학습 정확도\n",
        "test_acc_list = []    # 에포크별 테스트 정확도\n",
        "\n",
        "n_epochs = 15  # 총 학습 에포크 수\n",
        "\n",
        "for epoch in range(n_epochs):\n",
        "    total_loss = 0.0  # 에포크별 총 손실 초기화\n",
        "    model.train()  # 모델 학습 모드 설정\n",
        "\n",
        "    # [학습 루프]\n",
        "    for data in train_loader:\n",
        "        model.zero_grad()\n",
        "        inputs, labels = data\n",
        "        inputs, labels = inputs.to(device), labels.to(device).float()\n",
        "\n",
        "        preds = model(inputs)[...,0]\n",
        "        loss = loss_fn(preds, labels)\n",
        "        loss.backward()\n",
        "        optimizer.step()\n",
        "\n",
        "        # 손실 누적\n",
        "        total_loss += loss.item()\n",
        "\n",
        "    # 학습 손실 기록\n",
        "    train_loss_list.append(total_loss)\n",
        "\n",
        "    # [평가 루프]\n",
        "    with torch.no_grad():\n",
        "        model.eval()  # 모델 평가 모드 설정\n",
        "        train_acc = accuracy(model, train_loader)  # 학습 데이터 정확도 계산\n",
        "        test_acc = accuracy(model, test_loader)    # 테스트 데이터 정확도 계산\n",
        "\n",
        "    # 정확도 기록\n",
        "    train_acc_list.append(train_acc)\n",
        "    test_acc_list.append(test_acc)\n",
        "\n",
        "    # 에포크 결과 출력\n",
        "    print(f\"[LOG] Epoch {epoch+1}/{n_epochs} | Train Loss: {total_loss:.4f} | Train Acc: {train_acc:.3f} | Test Acc: {test_acc:.3f}\")"
      ]
    },
    {
      "cell_type": "markdown",
      "metadata": {
        "id": "WqZays2yb8Ja"
      },
      "source": [
        "## 5.1 [MY_CODE] 그래프 출력"
      ]
    },
    {
      "cell_type": "code",
      "source": [
        "# [MYCODE] 학습 완료 후 그래프 출력\n",
        "plot_acc(train_acc_list, test_acc_list, title=\"Train vs Test Accuracy\")"
      ],
      "metadata": {
        "id": "Rgffxjwo4WTI"
      },
      "execution_count": null,
      "outputs": []
    }
  ],
  "metadata": {
    "accelerator": "GPU",
    "colab": {
      "gpuType": "T4",
      "provenance": [],
      "include_colab_link": true
    },
    "kernelspec": {
      "display_name": "Python 3 (ipykernel)",
      "language": "python",
      "name": "python3"
    },
    "language_info": {
      "codemirror_mode": {
        "name": "ipython",
        "version": 3
      },
      "file_extension": ".py",
      "mimetype": "text/x-python",
      "name": "python",
      "nbconvert_exporter": "python",
      "pygments_lexer": "ipython3",
      "version": "3.10.14"
    }
  },
  "nbformat": 4,
  "nbformat_minor": 0
}