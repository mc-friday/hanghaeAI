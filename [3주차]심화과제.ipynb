{
  "cells": [
    {
      "cell_type": "markdown",
      "metadata": {
        "id": "view-in-github",
        "colab_type": "text"
      },
      "source": [
        "<a href=\"https://colab.research.google.com/github/mc-friday/hanghaeAI/blob/main/%5B3%EC%A3%BC%EC%B0%A8%5D%EC%8B%AC%ED%99%94%EA%B3%BC%EC%A0%9C.ipynb\" target=\"_parent\"><img src=\"https://colab.research.google.com/assets/colab-badge.svg\" alt=\"Open In Colab\"/></a>"
      ]
    },
    {
      "cell_type": "markdown",
      "source": [
        "# [3주차] 심화과제: Pre-trained모델로 효율적인 NLP 모델 학습하기"
      ],
      "metadata": {
        "id": "sbgz49PvHhLt"
      }
    },
    {
      "cell_type": "code",
      "execution_count": 37,
      "metadata": {
        "colab": {
          "base_uri": "https://localhost:8080/"
        },
        "id": "1LqgujQUbv6X",
        "outputId": "0d582c60-aa45-422c-a17b-25b90fefeb86",
        "collapsed": true
      },
      "outputs": [
        {
          "output_type": "stream",
          "name": "stdout",
          "text": [
            "Requirement already satisfied: tqdm in /usr/local/lib/python3.10/dist-packages (4.67.1)\n",
            "Requirement already satisfied: boto3 in /usr/local/lib/python3.10/dist-packages (1.35.90)\n",
            "Requirement already satisfied: requests in /usr/local/lib/python3.10/dist-packages (2.32.3)\n",
            "Requirement already satisfied: regex in /usr/local/lib/python3.10/dist-packages (2024.11.6)\n",
            "Requirement already satisfied: sentencepiece in /usr/local/lib/python3.10/dist-packages (0.2.0)\n",
            "Requirement already satisfied: sacremoses in /usr/local/lib/python3.10/dist-packages (0.1.1)\n",
            "Requirement already satisfied: datasets in /usr/local/lib/python3.10/dist-packages (3.2.0)\n",
            "Requirement already satisfied: botocore<1.36.0,>=1.35.90 in /usr/local/lib/python3.10/dist-packages (from boto3) (1.35.90)\n",
            "Requirement already satisfied: jmespath<2.0.0,>=0.7.1 in /usr/local/lib/python3.10/dist-packages (from boto3) (1.0.1)\n",
            "Requirement already satisfied: s3transfer<0.11.0,>=0.10.0 in /usr/local/lib/python3.10/dist-packages (from boto3) (0.10.4)\n",
            "Requirement already satisfied: charset-normalizer<4,>=2 in /usr/local/lib/python3.10/dist-packages (from requests) (3.4.0)\n",
            "Requirement already satisfied: idna<4,>=2.5 in /usr/local/lib/python3.10/dist-packages (from requests) (3.10)\n",
            "Requirement already satisfied: urllib3<3,>=1.21.1 in /usr/local/lib/python3.10/dist-packages (from requests) (2.2.3)\n",
            "Requirement already satisfied: certifi>=2017.4.17 in /usr/local/lib/python3.10/dist-packages (from requests) (2024.12.14)\n",
            "Requirement already satisfied: click in /usr/local/lib/python3.10/dist-packages (from sacremoses) (8.1.7)\n",
            "Requirement already satisfied: joblib in /usr/local/lib/python3.10/dist-packages (from sacremoses) (1.4.2)\n",
            "Requirement already satisfied: filelock in /usr/local/lib/python3.10/dist-packages (from datasets) (3.16.1)\n",
            "Requirement already satisfied: numpy>=1.17 in /usr/local/lib/python3.10/dist-packages (from datasets) (1.26.4)\n",
            "Requirement already satisfied: pyarrow>=15.0.0 in /usr/local/lib/python3.10/dist-packages (from datasets) (17.0.0)\n",
            "Requirement already satisfied: dill<0.3.9,>=0.3.0 in /usr/local/lib/python3.10/dist-packages (from datasets) (0.3.8)\n",
            "Requirement already satisfied: pandas in /usr/local/lib/python3.10/dist-packages (from datasets) (2.2.2)\n",
            "Requirement already satisfied: xxhash in /usr/local/lib/python3.10/dist-packages (from datasets) (3.5.0)\n",
            "Requirement already satisfied: multiprocess<0.70.17 in /usr/local/lib/python3.10/dist-packages (from datasets) (0.70.16)\n",
            "Requirement already satisfied: fsspec<=2024.9.0,>=2023.1.0 in /usr/local/lib/python3.10/dist-packages (from fsspec[http]<=2024.9.0,>=2023.1.0->datasets) (2024.9.0)\n",
            "Requirement already satisfied: aiohttp in /usr/local/lib/python3.10/dist-packages (from datasets) (3.11.10)\n",
            "Requirement already satisfied: huggingface-hub>=0.23.0 in /usr/local/lib/python3.10/dist-packages (from datasets) (0.27.0)\n",
            "Requirement already satisfied: packaging in /usr/local/lib/python3.10/dist-packages (from datasets) (24.2)\n",
            "Requirement already satisfied: pyyaml>=5.1 in /usr/local/lib/python3.10/dist-packages (from datasets) (6.0.2)\n",
            "Requirement already satisfied: python-dateutil<3.0.0,>=2.1 in /usr/local/lib/python3.10/dist-packages (from botocore<1.36.0,>=1.35.90->boto3) (2.8.2)\n",
            "Requirement already satisfied: aiohappyeyeballs>=2.3.0 in /usr/local/lib/python3.10/dist-packages (from aiohttp->datasets) (2.4.4)\n",
            "Requirement already satisfied: aiosignal>=1.1.2 in /usr/local/lib/python3.10/dist-packages (from aiohttp->datasets) (1.3.2)\n",
            "Requirement already satisfied: async-timeout<6.0,>=4.0 in /usr/local/lib/python3.10/dist-packages (from aiohttp->datasets) (4.0.3)\n",
            "Requirement already satisfied: attrs>=17.3.0 in /usr/local/lib/python3.10/dist-packages (from aiohttp->datasets) (24.3.0)\n",
            "Requirement already satisfied: frozenlist>=1.1.1 in /usr/local/lib/python3.10/dist-packages (from aiohttp->datasets) (1.5.0)\n",
            "Requirement already satisfied: multidict<7.0,>=4.5 in /usr/local/lib/python3.10/dist-packages (from aiohttp->datasets) (6.1.0)\n",
            "Requirement already satisfied: propcache>=0.2.0 in /usr/local/lib/python3.10/dist-packages (from aiohttp->datasets) (0.2.1)\n",
            "Requirement already satisfied: yarl<2.0,>=1.17.0 in /usr/local/lib/python3.10/dist-packages (from aiohttp->datasets) (1.18.3)\n",
            "Requirement already satisfied: typing-extensions>=3.7.4.3 in /usr/local/lib/python3.10/dist-packages (from huggingface-hub>=0.23.0->datasets) (4.12.2)\n",
            "Requirement already satisfied: pytz>=2020.1 in /usr/local/lib/python3.10/dist-packages (from pandas->datasets) (2024.2)\n",
            "Requirement already satisfied: tzdata>=2022.7 in /usr/local/lib/python3.10/dist-packages (from pandas->datasets) (2024.2)\n",
            "Requirement already satisfied: six>=1.5 in /usr/local/lib/python3.10/dist-packages (from python-dateutil<3.0.0,>=2.1->botocore<1.36.0,>=1.35.90->boto3) (1.17.0)\n",
            "W: Skipping acquire of configured file 'main/source/Sources' as repository 'https://r2u.stat.illinois.edu/ubuntu jammy InRelease' does not seem to provide it (sources.list entry misspelt?)\n"
          ]
        }
      ],
      "source": [
        "!pip install tqdm boto3 requests regex sentencepiece sacremoses datasets\n",
        "!apt-get update -qq\n",
        "!apt-get install fonts-nanum* -qq"
      ]
    },
    {
      "cell_type": "code",
      "execution_count": 38,
      "metadata": {
        "id": "6lGiZUoPby6e"
      },
      "outputs": [],
      "source": [
        "from pathlib import Path\n",
        "import numpy as np\n",
        "import pandas as pd\n",
        "import torch\n",
        "from torch import nn\n",
        "from torch.utils.data import Dataset, DataLoader\n",
        "from torch.optim import Adam\n",
        "from torch.optim.lr_scheduler import StepLR  # 학습률 스케줄러 추가 (Add learning rate scheduler)\n",
        "from transformers import DistilBertTokenizer, DistilBertModel\n",
        "import matplotlib.pyplot as plt\n",
        "import time\n",
        "from torch.amp import GradScaler, autocast  # 최신 AMP 모듈 (New AMP module)\n",
        "import kagglehub\n",
        "import os"
      ]
    },
    {
      "cell_type": "markdown",
      "source": [
        "## 1. 데이터 로드 및 전처리"
      ],
      "metadata": {
        "id": "Cvfl_uFLIMWO"
      }
    },
    {
      "cell_type": "code",
      "source": [
        "# Kaggle 데이터를 다운로드 및 경로 설정 (Download Kaggle data and set paths)\n",
        "path = kagglehub.dataset_download(\"thedevastator/unlocking-language-understanding-with-the-multin\")\n",
        "dir_path = Path(path)\n",
        "\n",
        "train_path = dir_path / \"train.csv\"  # 학습 데이터 경로 (Train data path)\n",
        "matched_val_path = dir_path / \"validation_matched.csv\"  # 검증 데이터 경로 (Validation data path)\n",
        "\n",
        "# 데이터를 pandas 데이터프레임으로 로드 (Load data into pandas DataFrame)\n",
        "train_df = pd.read_csv(train_path)\n",
        "matched_val_df = pd.read_csv(matched_val_path)"
      ],
      "metadata": {
        "colab": {
          "base_uri": "https://localhost:8080/"
        },
        "id": "K_hbgPfGzi8G",
        "outputId": "f49c26f6-cb2a-45f4-8142-caf346647fa8"
      },
      "execution_count": 39,
      "outputs": [
        {
          "output_type": "stream",
          "name": "stdout",
          "text": [
            "Warning: Looks like you're using an outdated `kagglehub` version (installed: 0.3.5), please consider upgrading to the latest version (0.3.6).\n"
          ]
        }
      ]
    },
    {
      "cell_type": "markdown",
      "source": [
        "## 2. 필요한 열만 유지"
      ],
      "metadata": {
        "id": "sT6iI3LEGKBJ"
      }
    },
    {
      "cell_type": "code",
      "source": [
        "columns_to_keep = [\"premise\", \"hypothesis\", \"label\"]\n",
        "train_df = train_df[columns_to_keep]\n",
        "matched_val_df = matched_val_df[columns_to_keep]"
      ],
      "metadata": {
        "id": "rE-y8sY9HuwP"
      },
      "execution_count": 40,
      "outputs": []
    },
    {
      "cell_type": "markdown",
      "source": [
        "## 3. 결측치 확인 및 제거"
      ],
      "metadata": {
        "id": "bF34XkoYIeEm"
      }
    },
    {
      "cell_type": "code",
      "execution_count": 41,
      "metadata": {
        "colab": {
          "base_uri": "https://localhost:8080/"
        },
        "id": "HJaUp2Vob0U-",
        "outputId": "85c18aa2-6c8b-4435-e575-a050f0a88cb8"
      },
      "outputs": [
        {
          "output_type": "stream",
          "name": "stdout",
          "text": [
            "[LOG] Missing values in datasets (before dropna):\n",
            "             premise  hypothesis  label\n",
            "train              0          40      0\n",
            "matched_val        0           0      0\n",
            "[LOG] Dataset size after dropna in train: 392662\n",
            "[LOG] Dataset size after dropna in matched_val: 9815\n"
          ]
        },
        {
          "output_type": "stream",
          "name": "stderr",
          "text": [
            "<ipython-input-41-1afda875e2a2>:12: SettingWithCopyWarning: \n",
            "A value is trying to be set on a copy of a slice from a DataFrame\n",
            "\n",
            "See the caveats in the documentation: https://pandas.pydata.org/pandas-docs/stable/user_guide/indexing.html#returning-a-view-versus-a-copy\n",
            "  df.dropna(subset=[\"premise\", \"hypothesis\", \"label\"], inplace=True)\n"
          ]
        }
      ],
      "source": [
        "dfs = [train_df, matched_val_df]\n",
        "data_lst = [\"train\", \"matched_val\"]\n",
        "\n",
        "# 데이터셋의 결측치 통계 출력 (Print missing value statistics)\n",
        "result = np.array([df.isna().sum().values for df in dfs])\n",
        "result = pd.DataFrame(result, index=data_lst, columns=columns_to_keep)\n",
        "print(\"[LOG] Missing values in datasets (before dropna):\")\n",
        "print(result)\n",
        "\n",
        "# 결측치가 있는 샘플 제거 (Remove rows with missing values)\n",
        "for df in dfs:\n",
        "    df.dropna(subset=[\"premise\", \"hypothesis\", \"label\"], inplace=True)\n",
        "\n",
        "# 각 데이터셋 크기 출력 (Print dataset sizes after cleaning)\n",
        "for df_name, df in zip(data_lst, dfs):\n",
        "    print(f\"[LOG] Dataset size after dropna in {df_name}: {len(df)}\")\n"
      ]
    },
    {
      "cell_type": "markdown",
      "source": [
        "## 4. 데이터셋 클래스 정의"
      ],
      "metadata": {
        "id": "uh-tqY8WInQt"
      }
    },
    {
      "cell_type": "code",
      "execution_count": 42,
      "metadata": {
        "id": "xW7ETZQzzNp2"
      },
      "outputs": [],
      "source": [
        "# PyTorch Dataset 클래스를 사용하여 MNLI 데이터셋을 정의 (Define MNLI dataset using PyTorch Dataset class)\n",
        "class MNLIDataset(Dataset):\n",
        "    def __init__(self, dataframe, tokenizer, max_len):\n",
        "        self.dataframe = dataframe  # 데이터프레임 (DataFrame)\n",
        "        self.tokenizer = tokenizer  # 토크나이저 (Tokenizer)\n",
        "        self.max_len = max_len  # 최대 길이 (Maximum length)\n",
        "\n",
        "    def __len__(self):\n",
        "        return len(self.dataframe)  # 데이터셋 길이 반환 (Return dataset length)\n",
        "\n",
        "    def __getitem__(self, index):\n",
        "        row = self.dataframe.iloc[index]  # 데이터프레임에서 특정 행 가져오기 (Get a specific row)\n",
        "        premise = row[\"premise\"]\n",
        "        hypothesis = row[\"hypothesis\"]\n",
        "        label = int(row[\"label\"])  # 라벨을 정수형으로 변환 (Convert label to integer)\n",
        "\n",
        "        # 입력 문장을 토큰화 (Tokenize the input sentences)\n",
        "        inputs = self.tokenizer(\n",
        "            f\"premise: {premise} [SEP] hypothesis: {hypothesis}\",\n",
        "            max_length=self.max_len,\n",
        "            padding=\"max_length\",\n",
        "            truncation=True,\n",
        "            return_tensors=\"pt\"\n",
        "        )\n",
        "        return {\n",
        "            \"input_ids\": inputs[\"input_ids\"].squeeze(0),  # 입력 ID 텐서 (Input ID tensor)\n",
        "            \"attention_mask\": inputs[\"attention_mask\"].squeeze(0),  # 어텐션 마스크 텐서 (Attention mask tensor)\n",
        "            \"label\": torch.tensor(label, dtype=torch.long)  # 레이블 텐서 (Label tensor)\n",
        "        }"
      ]
    },
    {
      "cell_type": "markdown",
      "source": [
        "## 5. 토크나이저 및 DataLoader 준비"
      ],
      "metadata": {
        "id": "_hFvSis0JLju"
      }
    },
    {
      "cell_type": "code",
      "execution_count": 43,
      "metadata": {
        "id": "uyTciaPZ0KYo"
      },
      "outputs": [],
      "source": [
        "# Hugging Face DistilBERT 토크나이저 로드 (Load Hugging Face DistilBERT tokenizer)\n",
        "tokenizer = DistilBertTokenizer.from_pretrained(\"distilbert-base-uncased\")\n",
        "max_len = 128  # 최대 입력 길이 (Maximum input length)\n",
        "batch_size = 256  # 배치 크기 (Batch size)\n",
        "\n",
        "# PyTorch DataLoader 생성 (Create PyTorch DataLoaders)\n",
        "train_dataset = MNLIDataset(train_df, tokenizer, max_len)\n",
        "matched_val_dataset = MNLIDataset(matched_val_df, tokenizer, max_len)\n",
        "\n",
        "train_loader = DataLoader(train_dataset, batch_size=batch_size, shuffle=True)\n",
        "test_loader = DataLoader(matched_val_dataset, batch_size=batch_size, shuffle=False)"
      ]
    },
    {
      "cell_type": "markdown",
      "source": [
        "## 6. 모델 정의"
      ],
      "metadata": {
        "id": "hU7BWEbgJeKm"
      }
    },
    {
      "cell_type": "code",
      "execution_count": 44,
      "metadata": {
        "id": "XvvaAEwCznt-"
      },
      "outputs": [],
      "source": [
        "# DistilBERT 기반 MNLI 분류 모델 정의 (Define MNLI classification model based on DistilBERT)\n",
        "class MNLIClassifier(nn.Module):\n",
        "    def __init__(self):\n",
        "        super(MNLIClassifier, self).__init__()\n",
        "        self.encoder = DistilBertModel.from_pretrained(\"distilbert-base-uncased\")  # DistilBERT 로드 (Load DistilBERT)\n",
        "        self.classifier = nn.Linear(768, 3)  # 3개 클래스를 위한 분류 레이어 (Classification layer for 3 classes)\n",
        "\n",
        "    def forward(self, input_ids, attention_mask):\n",
        "        outputs = self.encoder(input_ids=input_ids, attention_mask=attention_mask)  # DistilBERT 출력 (DistilBERT output)\n",
        "        cls_token = outputs.last_hidden_state[:, 0]  # [CLS] 토큰 가져오기 (Extract [CLS] token)\n",
        "        return self.classifier(cls_token)  # 분류 결과 반환 (Return classification result)"
      ]
    },
    {
      "cell_type": "markdown",
      "source": [
        "## 7. 학습 함수 정의"
      ],
      "metadata": {
        "id": "OU1-Jt_bGsK-"
      }
    },
    {
      "cell_type": "code",
      "execution_count": 45,
      "metadata": {
        "id": "DjphVwXL00E2"
      },
      "outputs": [],
      "source": [
        "# 학습 및 검증 과정을 수행하는 함수 (Function to perform training and validation)\n",
        "def train(model, train_loader, val_loader, epochs, lr, save_path, use_amp):\n",
        "    optimizer = Adam(model.parameters(), lr=lr)  # 옵티마이저 설정 (Set optimizer)\n",
        "    scheduler = StepLR(optimizer, step_size=2, gamma=0.1)  # 학습률 스케줄러 설정 (Set learning rate scheduler)\n",
        "    loss_fn = nn.CrossEntropyLoss()  # 손실 함수 설정 (Set loss function)\n",
        "\n",
        "    train_loss, val_loss = [], []\n",
        "    train_acc, val_acc = [], []\n",
        "\n",
        "    scaler = GradScaler(device='cuda') if use_amp else None  # 자동 혼합 정밀도 설정 (Set AMP)\n",
        "\n",
        "    for epoch in range(epochs):\n",
        "        model.train()  # 모델을 학습 모드로 설정 (Set model to train mode)\n",
        "        epoch_loss = 0\n",
        "        correct = 0\n",
        "        total = 0\n",
        "\n",
        "        start_time = time.time()\n",
        "\n",
        "        for batch in train_loader:\n",
        "            input_ids = batch['input_ids'].to(device)\n",
        "            attention_mask = batch['attention_mask'].to(device)\n",
        "            labels = batch['label'].to(device)\n",
        "\n",
        "            optimizer.zero_grad()\n",
        "\n",
        "            if use_amp:\n",
        "                with autocast(device_type='cuda'):  # AMP 적용 (Apply AMP)\n",
        "                    outputs = model(input_ids, attention_mask)\n",
        "                    loss = loss_fn(outputs, labels)\n",
        "                scaler.scale(loss).backward()\n",
        "                scaler.step(optimizer)\n",
        "                scaler.update()\n",
        "            else:\n",
        "                outputs = model(input_ids, attention_mask)\n",
        "                loss = loss_fn(outputs, labels)\n",
        "                loss.backward()\n",
        "                optimizer.step()\n",
        "\n",
        "            epoch_loss += loss.item()\n",
        "            _, preds = torch.max(outputs, dim=1)\n",
        "            correct += (preds == labels).sum().item()\n",
        "            total += labels.size(0)\n",
        "\n",
        "        train_loss.append(epoch_loss / len(train_loader))\n",
        "        train_acc.append(correct / total)\n",
        "\n",
        "        # 검증 루프 (Validation loop)\n",
        "        model.eval()\n",
        "        val_epoch_loss = 0\n",
        "        correct = 0\n",
        "        total = 0\n",
        "\n",
        "        with torch.no_grad():\n",
        "            for batch in val_loader:\n",
        "                input_ids = batch['input_ids'].to(device)\n",
        "                attention_mask = batch['attention_mask'].to(device)\n",
        "                labels = batch['label'].to(device)\n",
        "\n",
        "                outputs = model(input_ids, attention_mask)\n",
        "                val_epoch_loss += loss_fn(outputs, labels).item()\n",
        "                _, preds = torch.max(outputs, dim=1)\n",
        "                correct += (preds == labels).sum().item()\n",
        "                total += labels.size(0)\n",
        "\n",
        "        val_loss.append(val_epoch_loss / len(val_loader))\n",
        "        val_acc.append(correct / total)\n",
        "\n",
        "        epoch_time = time.time() - start_time\n",
        "        print(f\"[LOG] Epoch {epoch + 1}/{epochs} | Train Loss: {train_loss[-1]:.4f} | Train Acc: {train_acc[-1]:.4f} | Val Loss: {val_loss[-1]:.4f} | Val Acc: {val_acc[-1]:.4f} | Time: {epoch_time:.2f}s | Learning Rate: {scheduler.get_last_lr()[0]:.6f}\")\n",
        "\n",
        "        scheduler.step()  # 학습률 업데이트 (Update learning rate)\n",
        "\n",
        "    plot_metrics(train_loss, val_loss, \"Loss Curve\", \"Loss (손실)\", save_path, \"loss_curve.png\")\n",
        "    plot_metrics(train_acc, val_acc, \"Accuracy Curve\", \"Accuracy (정확도)\", save_path, \"accuracy_curve.png\")\n",
        "\n",
        "    return train_loss, val_loss, train_acc, val_acc"
      ]
    },
    {
      "cell_type": "markdown",
      "source": [
        "## 8. 학습 시작전 설정"
      ],
      "metadata": {
        "id": "rfFUkEM1ZWeG"
      }
    },
    {
      "cell_type": "code",
      "source": [
        "device = torch.device(\"cuda\" if torch.cuda.is_available() else \"cpu\")  # GPU 설정 (Set GPU)\n",
        "lr = 2e-5  # 초기 학습률 (Initial learning rate)\n",
        "epochs = 10\n",
        "save_path = \"./week-3\"\n",
        "use_amp = device.type == \"cuda\"  # AMP는 CUDA에서만 활성화 (Enable AMP only for CUDA)\n",
        "\n",
        "print(\"[LOG] Starting training...\")\n",
        "print(f\"Device: {device}\")\n",
        "print(f\"Train dataset size: {len(train_dataset)}\")\n",
        "print(f\"Validation dataset size: {len(matched_val_dataset)}\")\n",
        "print(f\"Batch size: {batch_size}\")\n",
        "print(f\"Epochs: {epochs}\")\n",
        "print(f\"Learning Rate: {lr}\")\n",
        "print(f\"AMP Enabled: {use_amp}\")"
      ],
      "metadata": {
        "id": "Foks5u95ZQ1_",
        "colab": {
          "base_uri": "https://localhost:8080/"
        },
        "outputId": "ebc718de-6494-4f4e-c9b4-399f0579bd89"
      },
      "execution_count": 46,
      "outputs": [
        {
          "output_type": "stream",
          "name": "stdout",
          "text": [
            "[LOG] Starting training...\n",
            "Device: cuda\n",
            "Train dataset size: 392662\n",
            "Validation dataset size: 9815\n",
            "Batch size: 256\n",
            "Epochs: 10\n",
            "Learning Rate: 2e-05\n",
            "AMP Enabled: True\n"
          ]
        }
      ]
    },
    {
      "cell_type": "markdown",
      "source": [
        "## 9. 학습 및 검증 시각화 함수"
      ],
      "metadata": {
        "id": "DqQGusVIImRm"
      }
    },
    {
      "cell_type": "code",
      "source": [
        "# 손실 및 정확도를 시각화하는 함수 (Function to visualize loss and accuracy)\n",
        "def plot_metrics(train_values, val_values, metric_name, ylabel, save_path, file_name):\n",
        "    os.makedirs(save_path, exist_ok=True)  # 저장 경로 생성 (Create save path)\n",
        "    plt.figure()\n",
        "    plt.plot(train_values, label=f\"Train {ylabel} (학습 {ylabel})\")\n",
        "    plt.plot(val_values, label=f\"Validation {ylabel} (검증 {ylabel})\")\n",
        "    plt.legend()\n",
        "    plt.title(f\"{metric_name} ({metric_name} 곡선)\")\n",
        "    plt.xlabel(\"Epoch (에포크)\")\n",
        "    plt.ylabel(f\"{ylabel} ({ylabel})\")\n",
        "    plt.savefig(os.path.join(save_path, file_name))\n",
        "    plt.show()\n",
        "\n",
        "# Pre-trained와 Non-pretrained 모델의 결과를 비교하여 시각화하는 함수 (Function to compare and visualize results)\n",
        "def compare_results(pre_loss, pre_acc, non_pre_loss, non_pre_acc, save_path):\n",
        "    os.makedirs(save_path, exist_ok=True)  # 저장 경로 생성 (Create save path)\n",
        "\n",
        "    # 학습 손실 비교 (Compare training loss)\n",
        "    plt.figure()\n",
        "    plt.plot(pre_loss, label=\"Pre-trained Train Loss (사전 학습 모델 손실)\")\n",
        "    plt.plot(non_pre_loss, label=\"Non-pretrained Train Loss (비사전 학습 모델 손실)\")\n",
        "    plt.legend()\n",
        "    plt.title(\"Train Loss Comparison (학습 손실 비교)\")\n",
        "    plt.xlabel(\"Epoch (에포크)\")\n",
        "    plt.ylabel(\"Loss (손실)\")\n",
        "    plt.savefig(os.path.join(save_path, \"train_loss_comparison.png\"))\n",
        "    plt.show()\n",
        "\n",
        "    # 학습 정확도 비교 (Compare training accuracy)\n",
        "    plt.figure()\n",
        "    plt.plot(pre_acc, label=\"Pre-trained Train Accuracy (사전 학습 모델 정확도)\")\n",
        "    plt.plot(non_pre_acc, label=\"Non-pretrained Train Accuracy (비사전 학습 모델 정확도)\")\n",
        "    plt.legend()\n",
        "    plt.title(\"Train Accuracy Comparison (학습 정확도 비교)\")\n",
        "    plt.xlabel(\"Epoch (에포크)\")\n",
        "    plt.ylabel(\"Accuracy (정확도)\")\n",
        "    plt.savefig(os.path.join(save_path, \"train_accuracy_comparison.png\"))\n",
        "    plt.show()"
      ],
      "metadata": {
        "id": "VBEiNC6pIsG9"
      },
      "execution_count": 47,
      "outputs": []
    },
    {
      "cell_type": "markdown",
      "source": [
        "## 10. Pre-trained 모델 학습"
      ],
      "metadata": {
        "id": "GE9xUHyEIyyv"
      }
    },
    {
      "cell_type": "code",
      "source": [
        "print(\"[LOG] Training Pre-trained model...\")\n",
        "model_pretrained = MNLIClassifier().to(device)\n",
        "train_loss_pre, val_loss_pre, train_acc_pre, val_acc_pre = train(\n",
        "    model_pretrained, train_loader, test_loader, epochs, lr, save_path, use_amp\n",
        ")\n"
      ],
      "metadata": {
        "colab": {
          "base_uri": "https://localhost:8080/"
        },
        "id": "f3gd2kDfI2kn",
        "outputId": "df176db4-40fe-47d4-a5d7-c44b29182a89"
      },
      "execution_count": null,
      "outputs": [
        {
          "metadata": {
            "tags": null
          },
          "name": "stdout",
          "output_type": "stream",
          "text": [
            "[LOG] Training Pre-trained model...\n"
          ]
        }
      ]
    },
    {
      "cell_type": "markdown",
      "source": [
        "## 11. Non-pretrained 모델 학습"
      ],
      "metadata": {
        "id": "RGU5DpxUI4Z5"
      }
    },
    {
      "cell_type": "code",
      "source": [
        "print(\"[LOG] Training Non-pretrained model...\")\n",
        "model_non_pretrained = MNLIClassifier()\n",
        "model_non_pretrained.encoder = DistilBertModel(config=model_non_pretrained.encoder.config)  # Pre-trained 제거 (Remove pre-trained weights)\n",
        "model_non_pretrained = model_non_pretrained.to(device)\n",
        "\n",
        "train_loss_non_pre, val_loss_non_pre, train_acc_non_pre, val_acc_non_pre = train(\n",
        "    model_non_pretrained, train_loader, test_loader, epochs, lr, save_path, use_amp\n",
        ")"
      ],
      "metadata": {
        "id": "QfOfqhN0I7Ip"
      },
      "execution_count": null,
      "outputs": []
    },
    {
      "cell_type": "markdown",
      "source": [
        "## 12. 학습 결과 비교 및 시각화"
      ],
      "metadata": {
        "id": "UDpiHKgxI9u9"
      }
    },
    {
      "cell_type": "code",
      "source": [
        "# 학습 결과 비교 및 시각화 호출 (Call to compare and visualize training results)\n",
        "print(\"[LOG] Visualizing and comparing results...\")\n",
        "compare_results(\n",
        "    train_loss_pre, train_acc_pre,  # Pre-trained 모델의 결과 (Pre-trained model results)\n",
        "    train_loss_non_pre, train_acc_non_pre,  # Non-pretrained 모델의 결과 (Non-pretrained model results)\n",
        "    save_path\n",
        ")"
      ],
      "metadata": {
        "id": "Nr79mleCJAUF"
      },
      "execution_count": null,
      "outputs": []
    }
  ],
  "metadata": {
    "accelerator": "GPU",
    "colab": {
      "gpuType": "A100",
      "provenance": [],
      "machine_shape": "hm",
      "include_colab_link": true
    },
    "kernelspec": {
      "display_name": "Python 3",
      "name": "python3"
    },
    "language_info": {
      "name": "python"
    }
  },
  "nbformat": 4,
  "nbformat_minor": 0
}