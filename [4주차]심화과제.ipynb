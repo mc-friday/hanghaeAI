{
  "nbformat": 4,
  "nbformat_minor": 0,
  "metadata": {
    "colab": {
      "provenance": [],
      "gpuType": "T4",
      "authorship_tag": "ABX9TyPvHtFWTg1JoMLBlrKmyswX",
      "include_colab_link": true
    },
    "kernelspec": {
      "name": "python3",
      "display_name": "Python 3"
    },
    "language_info": {
      "name": "python"
    },
    "accelerator": "GPU"
  },
  "cells": [
    {
      "cell_type": "markdown",
      "metadata": {
        "id": "view-in-github",
        "colab_type": "text"
      },
      "source": [
        "<a href=\"https://colab.research.google.com/github/mc-friday/hanghaeAI/blob/main/%5B4%EC%A3%BC%EC%B0%A8%5D%EC%8B%AC%ED%99%94%EA%B3%BC%EC%A0%9C.ipynb\" target=\"_parent\"><img src=\"https://colab.research.google.com/assets/colab-badge.svg\" alt=\"Open In Colab\"/></a>"
      ]
    },
    {
      "cell_type": "markdown",
      "source": [
        "# [4주차] 심화과제: 수능 국어 문제 GPT-4로 풀어보기"
      ],
      "metadata": {
        "id": "_UOP-4mbVnEQ"
      }
    },
    {
      "cell_type": "code",
      "source": [
        "!pip install openai"
      ],
      "metadata": {
        "colab": {
          "base_uri": "https://localhost:8080/"
        },
        "id": "hP4HKSq5fc4V",
        "outputId": "90bd755c-450c-4326-dadc-29beb71da0a8"
      },
      "execution_count": null,
      "outputs": [
        {
          "output_type": "stream",
          "name": "stdout",
          "text": [
            "Requirement already satisfied: openai in /usr/local/lib/python3.10/dist-packages (1.59.3)\n",
            "Requirement already satisfied: anyio<5,>=3.5.0 in /usr/local/lib/python3.10/dist-packages (from openai) (3.7.1)\n",
            "Requirement already satisfied: distro<2,>=1.7.0 in /usr/local/lib/python3.10/dist-packages (from openai) (1.9.0)\n",
            "Requirement already satisfied: httpx<1,>=0.23.0 in /usr/local/lib/python3.10/dist-packages (from openai) (0.28.1)\n",
            "Requirement already satisfied: jiter<1,>=0.4.0 in /usr/local/lib/python3.10/dist-packages (from openai) (0.8.2)\n",
            "Requirement already satisfied: pydantic<3,>=1.9.0 in /usr/local/lib/python3.10/dist-packages (from openai) (2.10.4)\n",
            "Requirement already satisfied: sniffio in /usr/local/lib/python3.10/dist-packages (from openai) (1.3.1)\n",
            "Requirement already satisfied: tqdm>4 in /usr/local/lib/python3.10/dist-packages (from openai) (4.67.1)\n",
            "Requirement already satisfied: typing-extensions<5,>=4.11 in /usr/local/lib/python3.10/dist-packages (from openai) (4.12.2)\n",
            "Requirement already satisfied: idna>=2.8 in /usr/local/lib/python3.10/dist-packages (from anyio<5,>=3.5.0->openai) (3.10)\n",
            "Requirement already satisfied: exceptiongroup in /usr/local/lib/python3.10/dist-packages (from anyio<5,>=3.5.0->openai) (1.2.2)\n",
            "Requirement already satisfied: certifi in /usr/local/lib/python3.10/dist-packages (from httpx<1,>=0.23.0->openai) (2024.12.14)\n",
            "Requirement already satisfied: httpcore==1.* in /usr/local/lib/python3.10/dist-packages (from httpx<1,>=0.23.0->openai) (1.0.7)\n",
            "Requirement already satisfied: h11<0.15,>=0.13 in /usr/local/lib/python3.10/dist-packages (from httpcore==1.*->httpx<1,>=0.23.0->openai) (0.14.0)\n",
            "Requirement already satisfied: annotated-types>=0.6.0 in /usr/local/lib/python3.10/dist-packages (from pydantic<3,>=1.9.0->openai) (0.7.0)\n",
            "Requirement already satisfied: pydantic-core==2.27.2 in /usr/local/lib/python3.10/dist-packages (from pydantic<3,>=1.9.0->openai) (2.27.2)\n"
          ]
        }
      ]
    },
    {
      "cell_type": "code",
      "source": [
        "import openai\n",
        "import json\n",
        "import time\n",
        "\n",
        "openai.api_key = \"key\"\n",
        "client = openai.OpenAI(api_key=openai.api_key)"
      ],
      "metadata": {
        "id": "OHyjxalSVwPc"
      },
      "execution_count": null,
      "outputs": []
    },
    {
      "cell_type": "markdown",
      "source": [
        "## 1. 수능 문제 JSON 데이터 로드 함수"
      ],
      "metadata": {
        "id": "CgbWYdfjWccA"
      }
    },
    {
      "cell_type": "code",
      "source": [
        "def load_data(file_path):\n",
        "    with open(file_path, 'r', encoding='utf-8') as file:\n",
        "        data = json.load(file)\n",
        "    return data"
      ],
      "metadata": {
        "id": "aQLqZV2CWZhi"
      },
      "execution_count": null,
      "outputs": []
    },
    {
      "cell_type": "markdown",
      "source": [
        "## 2. 하나의 문제에 대해서 GPT-4의 예측 결과를 내놓는 함수"
      ],
      "metadata": {
        "id": "DD7Ffyk9WLC1"
      }
    },
    {
      "cell_type": "code",
      "source": [
        "def prediction(problem):\n",
        "    \"\"\"\n",
        "    문제 데이터를 받아 GPT-4가 답안을 예측하도록 하는 함수\n",
        "    \"\"\"\n",
        "    # And if there is content in More info, you must also refer to More info to choose an answer.\n",
        "    # GPT-4에 전달할 프롬프트 템플릿 (일부러 영어를 사용함)\n",
        "    zero_shot_cot_en_prompt_plus = f\"\"\"\n",
        "    국어 시험 문제를 푸는 똑똑한 학생으로서 다음 문제의 답을 구하세요.\n",
        "    지문을 읽고, 질문에 대한 답을 1부터 5까지의 선택지 중에 한 개만 골라서 대답해야 합니다.\n",
        "    <보기>가 있으면 꼭 문제 풀이에 참고해야 합니다.\n",
        "\n",
        "    지문 :\n",
        "    {problem['paragraph']}\n",
        "\n",
        "    질문 :\n",
        "    {problem['question']}\n",
        "\n",
        "    <보기> :\n",
        "    {problem.get('question_plus', '')}\n",
        "\n",
        "    선택지 :\n",
        "    1 - {problem['choices'][0]}\n",
        "    2 - {problem['choices'][1]}\n",
        "    3 - {problem['choices'][2]}\n",
        "    4 - {problem['choices'][3]}\n",
        "    5 - {problem['choices'][4]}\n",
        "\n",
        "    1번, 2번, 3번, 4번, 5번 중에 하나를 정답으로 고르세요.\n",
        "    단계별로 생각하며 정답을 고르세요.\n",
        "    정답은 숫자만 답하세요.\n",
        "    정답:\n",
        "    \"\"\"\n",
        "\n",
        "     # 문제 풀이 시작 시간 기록\n",
        "    start_time = time.time()\n",
        "\n",
        "\n",
        "    # GPT-4 API 호출\n",
        "    try:\n",
        "        response = client.chat.completions.create(\n",
        "            model=\"gpt-4o\",\n",
        "            messages=[\n",
        "                {\"role\": \"system\", \"content\": \"You are a helpful assistant.\"},\n",
        "                {\"role\": \"user\", \"content\": zero_shot_cot_en_prompt_plus}\n",
        "            ]\n",
        "        )\n",
        "        # GPT-4의 답변에서 선택한 답안을 반환\n",
        "        predicted_answer = response.choices[0].message.content\n",
        "\n",
        "         # 문제 풀이 종료 시간 기록\n",
        "        end_time = time.time()\n",
        "        elapsed_time = end_time - start_time\n",
        "\n",
        "        print(f\"[LOG] 문제 풀이 시간: {elapsed_time:.2f}초, 예측된 정답: {predicted_answer}\")\n",
        "\n",
        "        return predicted_answer\n",
        "    except Exception as e:\n",
        "        print(f\"Error during GPT-4 prediction: {e}\")\n",
        "        return None\n"
      ],
      "metadata": {
        "id": "llQ77dgZWOYj"
      },
      "execution_count": null,
      "outputs": []
    },
    {
      "cell_type": "markdown",
      "source": [
        "## 3. 모든 문제를 평가하고 점수를 계산하는 함수"
      ],
      "metadata": {
        "id": "RTsz3I62WUaO"
      }
    },
    {
      "cell_type": "code",
      "source": [
        "def evaluate_all_problems(data):\n",
        "    \"\"\"\n",
        "    JSON 데이터의 모든 문제를 평가하고 점수를 계산하는 함수\n",
        "    \"\"\"\n",
        "    total_score = 0  # 총 점수\n",
        "    possible_score = 0  # 가능한 총 점수\n",
        "    correct_count = 0  # 정답 개수\n",
        "    total_count = 0  # 전체 문제 수\n",
        "\n",
        "    for item in data:\n",
        "        paragraph = item[\"paragraph\"]\n",
        "        for problem in item[\"problems\"]:\n",
        "            total_count += 1\n",
        "            possible_score += problem[\"score\"]  # 가능한 점수 누적\n",
        "\n",
        "            # 문제 데이터 준비\n",
        "            problem_data = {\n",
        "                \"paragraph\": paragraph,\n",
        "                \"question\": problem[\"question\"],\n",
        "                \"choices\": problem[\"choices\"],\n",
        "                \"question_plus\": problem.get(\"question_plus\", \"\"),\n",
        "            }\n",
        "\n",
        "            # GPT-4 답안 예측\n",
        "            predicted_answer = prediction(problem_data)\n",
        "\n",
        "            # 실제 정답과 비교\n",
        "            if str(predicted_answer) == str(problem[\"answer\"]):  # 정답 비교\n",
        "                total_score += problem[\"score\"]\n",
        "                correct_count += 1\n",
        "\n",
        "    # 결과 출력\n",
        "    print(f\"총 문제 수: {total_count}\")\n",
        "    print(f\"정답 개수: {correct_count}/{total_count}\")\n",
        "    print(f\"정확도: {correct_count / total_count:.2%}\")\n",
        "    print(f\"총 점수: {total_score}/{possible_score}\")\n",
        "    return total_score, possible_score, correct_count, total_count"
      ],
      "metadata": {
        "id": "UAdht0zqWT7g"
      },
      "execution_count": null,
      "outputs": []
    },
    {
      "cell_type": "code",
      "source": [
        "file_path = \"./data/2023_11_KICE.json\"  # Colab에 업로드한 JSON 파일 경로\n",
        "\n",
        "# 데이터 로드\n",
        "data = load_data(file_path)\n",
        "\n",
        "# 모든 문제 평가 실행\n",
        "total_score, possible_score, correct_count, total_count = evaluate_all_problems(data)"
      ],
      "metadata": {
        "colab": {
          "base_uri": "https://localhost:8080/"
        },
        "id": "VuT7QI1YZZHw",
        "outputId": "c1145b43-05e9-4239-d6b4-1a9405a522a8"
      },
      "execution_count": null,
      "outputs": [
        {
          "output_type": "stream",
          "name": "stdout",
          "text": [
            "[LOG] 문제 풀이 시간: 0.32초, 예측된 정답: 4\n",
            "[LOG] 문제 풀이 시간: 0.29초, 예측된 정답: 5\n",
            "[LOG] 문제 풀이 시간: 0.45초, 예측된 정답: 1\n",
            "[LOG] 문제 풀이 시간: 0.48초, 예측된 정답: 4\n",
            "[LOG] 문제 풀이 시간: 0.44초, 예측된 정답: 5\n",
            "[LOG] 문제 풀이 시간: 0.43초, 예측된 정답: 3\n",
            "[LOG] 문제 풀이 시간: 0.49초, 예측된 정답: 2\n",
            "[LOG] 문제 풀이 시간: 0.42초, 예측된 정답: 3\n",
            "[LOG] 문제 풀이 시간: 0.39초, 예측된 정답: 2\n",
            "[LOG] 문제 풀이 시간: 0.52초, 예측된 정답: 1\n",
            "[LOG] 문제 풀이 시간: 0.54초, 예측된 정답: 5\n",
            "[LOG] 문제 풀이 시간: 0.91초, 예측된 정답: 2\n",
            "[LOG] 문제 풀이 시간: 4.01초, 예측된 정답: 1\n",
            "\n",
            "- ⓐ(맞는)에서는 문맥상 '적절한', '올바른'이라는 의미로 사용되고 있습니다. 선택지 1에서 \"이것이 네가 찾는 자료가 ⓐ(맞는지) 확인해 보아라.\"는 올바른 자료인지 확인하라는 의미로 적절합니다.\n",
            "- ⓑ, ⓒ, ⓓ, ⓔ는 각각 다음과 같은 의미로 사용됩니다:\n",
            "  - ⓑ(들) 수 있다: \"예로 들 수 있다.\"로 문맥상 사용되어서 나머지 선택지와는 다릅니다.\n",
            "  - ⓒ(받을) 수 있고: '받을 수 있다'는 의미.\n",
            "  - ⓓ(고를) 수 있는: '선택할 수 있는' 의미. \n",
            "  - ⓔ(지켜야) 하는: '준수해야 하는' 의미. \n",
            "\n",
            "따라서, 문맥상 ⓐ의 의미와 가장 가까운 것은 1번 선택지입니다.\n",
            "[LOG] 문제 풀이 시간: 0.32초, 예측된 정답: 3\n",
            "[LOG] 문제 풀이 시간: 0.27초, 예측된 정답: 5\n",
            "[LOG] 문제 풀이 시간: 0.25초, 예측된 정답: 4\n",
            "[LOG] 문제 풀이 시간: 0.31초, 예측된 정답: 1\n",
            "[LOG] 문제 풀이 시간: 0.29초, 예측된 정답: 4\n",
            "[LOG] 문제 풀이 시간: 0.44초, 예측된 정답: 3\n",
            "[LOG] 문제 풀이 시간: 0.23초, 예측된 정답: 3\n",
            "[LOG] 문제 풀이 시간: 0.24초, 예측된 정답: 5\n",
            "[LOG] 문제 풀이 시간: 0.45초, 예측된 정답: 1\n",
            "[LOG] 문제 풀이 시간: 0.27초, 예측된 정답: 5\n",
            "[LOG] 문제 풀이 시간: 0.63초, 예측된 정답: 3\n",
            "[LOG] 문제 풀이 시간: 2.79초, 예측된 정답: 3\n",
            "[LOG] 문제 풀이 시간: 3.29초, 예측된 정답: 4\n",
            "[LOG] 문제 풀이 시간: 3.94초, 예측된 정답: 1\n",
            "[LOG] 문제 풀이 시간: 4.50초, 예측된 정답: 2\n",
            "[LOG] 문제 풀이 시간: 6.79초, 예측된 정답: 1\n",
            "[LOG] 문제 풀이 시간: 1.05초, 예측된 정답: 2\n",
            "[LOG] 문제 풀이 시간: 1.87초, 예측된 정답: 1\n",
            "[LOG] 문제 풀이 시간: 1.85초, 예측된 정답: 4\n",
            "[LOG] 문제 풀이 시간: 2.16초, 예측된 정답: 3\n",
            "[LOG] 문제 풀이 시간: 2.29초, 예측된 정답: 3\n",
            "[LOG] 문제 풀이 시간: 2.12초, 예측된 정답: 1\n",
            "[LOG] 문제 풀이 시간: 2.74초, 예측된 정답: 5\n",
            "[LOG] 문제 풀이 시간: 2.32초, 예측된 정답: 3\n",
            "[LOG] 문제 풀이 시간: 3.75초, 예측된 정답: 4\n",
            "[LOG] 문제 풀이 시간: 3.48초, 예측된 정답: 5\n",
            "[LOG] 문제 풀이 시간: 4.46초, 예측된 정답: 5\n",
            "\n",
            "A와 B의 첫 번째 발화에서 학생 3은 자신의 제안을 하고 있지만, 둘 다 학생 1과 학생 2의 의견을 묻지는 않고 있습니다. A에서는 의견이 어떤지 묻지 않았고, B에서는 자신의 생각을 바로 말하고 있습니다. 5번이 적절하지 않은 설명입니다.\n",
            "[LOG] 문제 풀이 시간: 2.62초, 예측된 정답: 2\n",
            "[LOG] 문제 풀이 시간: 4.05초, 예측된 정답: 4\n",
            "[LOG] 문제 풀이 시간: 5.18초, 예측된 정답: 5\n",
            "[LOG] 문제 풀이 시간: 0.60초, 예측된 정답: 2\n",
            "[LOG] 문제 풀이 시간: 0.38초, 예측된 정답: 1\n",
            "총 문제 수: 45\n",
            "정답 수: 37\n",
            "총 점수: 83/100\n",
            "정확도: 82.22%\n",
            "총 점수: 83/100\n",
            "정답 개수: 37/45\n",
            "정확도: 82.22%\n"
          ]
        }
      ]
    }
  ]
}