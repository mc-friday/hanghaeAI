{
  "cells": [
    {
      "cell_type": "markdown",
      "metadata": {
        "id": "view-in-github",
        "colab_type": "text"
      },
      "source": [
        "<a href=\"https://colab.research.google.com/github/mc-friday/hanghaeAI/blob/main/%5B1%EC%A3%BC%EC%B0%A8%5D%EA%B8%B0%EB%B3%B8%EA%B3%BC%EC%A0%9C1219.ipynb\" target=\"_parent\"><img src=\"https://colab.research.google.com/assets/colab-badge.svg\" alt=\"Open In Colab\"/></a>"
      ]
    },
    {
      "cell_type": "markdown",
      "source": [
        "#[기본과제] MNIST 분류(classification) 모델 구현\n"
      ],
      "metadata": {
        "id": "QJsa7pmFWD1J"
      }
    },
    {
      "cell_type": "code",
      "execution_count": 3,
      "metadata": {
        "id": "6lXVfXoDtoQh"
      },
      "outputs": [],
      "source": [
        "import torch\n",
        "import torchvision\n",
        "import torchvision.transforms as transforms"
      ]
    },
    {
      "cell_type": "code",
      "execution_count": 4,
      "metadata": {
        "id": "ZsOA9qYC5Yma"
      },
      "outputs": [],
      "source": [
        "# 데이터셋 전처리\n",
        "transform = transforms.Compose([\n",
        "    transforms.ToTensor(),\n",
        "    transforms.Normalize((0.5), (0.5))\n",
        "])"
      ]
    },
    {
      "cell_type": "code",
      "execution_count": 5,
      "metadata": {
        "id": "S5TOqJqs2T3F",
        "colab": {
          "base_uri": "https://localhost:8080/"
        },
        "outputId": "92dc16d3-16e6-4082-c1e8-8de8ecccd135"
      },
      "outputs": [
        {
          "output_type": "stream",
          "name": "stdout",
          "text": [
            "Downloading http://yann.lecun.com/exdb/mnist/train-images-idx3-ubyte.gz\n",
            "Failed to download (trying next):\n",
            "HTTP Error 403: Forbidden\n",
            "\n",
            "Downloading https://ossci-datasets.s3.amazonaws.com/mnist/train-images-idx3-ubyte.gz\n",
            "Downloading https://ossci-datasets.s3.amazonaws.com/mnist/train-images-idx3-ubyte.gz to ./data/MNIST/raw/train-images-idx3-ubyte.gz\n"
          ]
        },
        {
          "output_type": "stream",
          "name": "stderr",
          "text": [
            "100%|██████████| 9.91M/9.91M [00:00<00:00, 14.4MB/s]\n"
          ]
        },
        {
          "output_type": "stream",
          "name": "stdout",
          "text": [
            "Extracting ./data/MNIST/raw/train-images-idx3-ubyte.gz to ./data/MNIST/raw\n",
            "\n",
            "Downloading http://yann.lecun.com/exdb/mnist/train-labels-idx1-ubyte.gz\n",
            "Failed to download (trying next):\n",
            "HTTP Error 403: Forbidden\n",
            "\n",
            "Downloading https://ossci-datasets.s3.amazonaws.com/mnist/train-labels-idx1-ubyte.gz\n",
            "Downloading https://ossci-datasets.s3.amazonaws.com/mnist/train-labels-idx1-ubyte.gz to ./data/MNIST/raw/train-labels-idx1-ubyte.gz\n"
          ]
        },
        {
          "output_type": "stream",
          "name": "stderr",
          "text": [
            "100%|██████████| 28.9k/28.9k [00:00<00:00, 488kB/s]\n"
          ]
        },
        {
          "output_type": "stream",
          "name": "stdout",
          "text": [
            "Extracting ./data/MNIST/raw/train-labels-idx1-ubyte.gz to ./data/MNIST/raw\n",
            "\n",
            "Downloading http://yann.lecun.com/exdb/mnist/t10k-images-idx3-ubyte.gz\n",
            "Failed to download (trying next):\n",
            "HTTP Error 403: Forbidden\n",
            "\n",
            "Downloading https://ossci-datasets.s3.amazonaws.com/mnist/t10k-images-idx3-ubyte.gz\n",
            "Downloading https://ossci-datasets.s3.amazonaws.com/mnist/t10k-images-idx3-ubyte.gz to ./data/MNIST/raw/t10k-images-idx3-ubyte.gz\n"
          ]
        },
        {
          "output_type": "stream",
          "name": "stderr",
          "text": [
            "100%|██████████| 1.65M/1.65M [00:00<00:00, 4.40MB/s]\n"
          ]
        },
        {
          "output_type": "stream",
          "name": "stdout",
          "text": [
            "Extracting ./data/MNIST/raw/t10k-images-idx3-ubyte.gz to ./data/MNIST/raw\n",
            "\n",
            "Downloading http://yann.lecun.com/exdb/mnist/t10k-labels-idx1-ubyte.gz\n",
            "Failed to download (trying next):\n",
            "HTTP Error 403: Forbidden\n",
            "\n",
            "Downloading https://ossci-datasets.s3.amazonaws.com/mnist/t10k-labels-idx1-ubyte.gz\n",
            "Downloading https://ossci-datasets.s3.amazonaws.com/mnist/t10k-labels-idx1-ubyte.gz to ./data/MNIST/raw/t10k-labels-idx1-ubyte.gz\n"
          ]
        },
        {
          "output_type": "stream",
          "name": "stderr",
          "text": [
            "100%|██████████| 4.54k/4.54k [00:00<00:00, 4.49MB/s]"
          ]
        },
        {
          "output_type": "stream",
          "name": "stdout",
          "text": [
            "Extracting ./data/MNIST/raw/t10k-labels-idx1-ubyte.gz to ./data/MNIST/raw\n",
            "\n"
          ]
        },
        {
          "output_type": "stream",
          "name": "stderr",
          "text": [
            "\n"
          ]
        }
      ],
      "source": [
        "trainset = torchvision.datasets.MNIST(\n",
        "    root='./data',\n",
        "    train=True,\n",
        "    download=True,\n",
        "    transform=transform\n",
        ")"
      ]
    },
    {
      "cell_type": "code",
      "execution_count": 6,
      "metadata": {
        "colab": {
          "base_uri": "https://localhost:8080/",
          "height": 482
        },
        "id": "LpebKNwl6FP1",
        "outputId": "16b469d1-81e8-4f68-e5a4-f26287913f1c"
      },
      "outputs": [
        {
          "output_type": "stream",
          "name": "stdout",
          "text": [
            "60000\n",
            "torch.Size([1, 28, 28]) 5\n"
          ]
        },
        {
          "output_type": "execute_result",
          "data": {
            "text/plain": [
              "<matplotlib.image.AxesImage at 0x7cf2f57a7d30>"
            ]
          },
          "metadata": {},
          "execution_count": 6
        },
        {
          "output_type": "display_data",
          "data": {
            "text/plain": [
              "<Figure size 640x480 with 1 Axes>"
            ],
            "image/png": "[encoded data removed]"
          },
          "metadata": {}
        }
      ],
      "source": [
        "from matplotlib import pyplot as plt\n",
        "\n",
        "\n",
        "print(len(trainset))\n",
        "print(trainset[0][0].shape, trainset[0][1])\n",
        "plt.imshow(trainset[0][0][0], cmap='gray')"
      ]
    },
    {
      "cell_type": "code",
      "execution_count": 7,
      "metadata": {
        "id": "1uf8TMhg6Lgd"
      },
      "outputs": [],
      "source": [
        "batch_size = 256\n",
        "\n",
        "trainloader = torch.utils.data.DataLoader(\n",
        "    trainset,\n",
        "    batch_size=batch_size,\n",
        "    shuffle=True\n",
        ")"
      ]
    },
    {
      "cell_type": "markdown",
      "source": [
        "## Test data 준비하기"
      ],
      "metadata": {
        "id": "hNpFu3nYWZxn"
      }
    },
    {
      "cell_type": "code",
      "execution_count": 8,
      "metadata": {
        "id": "9iYBqN_u6rhF"
      },
      "outputs": [],
      "source": [
        "# Test 데이터\n",
        "testset = torchvision.datasets.MNIST(\n",
        "    root='./data',\n",
        "    train=False, #[MYCODE]train=False 로 설정\n",
        "    download=True,\n",
        "    transform=transform\n",
        ")"
      ]
    },
    {
      "cell_type": "code",
      "execution_count": 9,
      "metadata": {
        "id": "1veI_5jE6yQL"
      },
      "outputs": [],
      "source": [
        "testloader = torch.utils.data.DataLoader(\n",
        "    testset,\n",
        "    batch_size=256,\n",
        "    shuffle=False #[MYCODE]shuffle=False 로 설정\n",
        ")"
      ]
    },
    {
      "cell_type": "code",
      "source": [
        "print(len(testset))\n",
        "print(testset[0][0].shape, testset[0][1])\n",
        "plt.imshow(testset[0][0][0], cmap='gray')"
      ],
      "metadata": {
        "colab": {
          "base_uri": "https://localhost:8080/",
          "height": 482
        },
        "id": "qkfyAaxIp6rj",
        "outputId": "66f5a568-f2e7-43cb-bc0b-f7b3d9d96ba3"
      },
      "execution_count": 10,
      "outputs": [
        {
          "output_type": "stream",
          "name": "stdout",
          "text": [
            "10000\n",
            "torch.Size([1, 28, 28]) 7\n"
          ]
        },
        {
          "output_type": "execute_result",
          "data": {
            "text/plain": [
              "<matplotlib.image.AxesImage at 0x7cf2f5eb98d0>"
            ]
          },
          "metadata": {},
          "execution_count": 10
        },
        {
          "output_type": "display_data",
          "data": {
            "text/plain": [
              "<Figure size 640x480 with 1 Axes>"
            ],
            "image/png": "[encoded data removed]"
          },
          "metadata": {}
        }
      ]
    },
    {
      "cell_type": "code",
      "execution_count": 18,
      "metadata": {
        "id": "ZhhZK72b7ozV"
      },
      "outputs": [],
      "source": [
        "from torch import nn\n",
        "class Model(nn.Module):\n",
        "    def __init__(self, input_dim, n_dim, num_classes):\n",
        "        super().__init__()\n",
        "        self.layer1 = nn.Linear(input_dim, n_dim)\n",
        "        self.layer2 = nn.Linear(n_dim, n_dim)\n",
        "        self.layer3 = nn.Linear(n_dim, num_classes)  #[MYCODE]분류 문제이므로 클래스 개수만큼 출력\n",
        "\n",
        "        self.act = nn.ReLU()\n",
        "\n",
        "    def forward(self, x):\n",
        "        x = torch.flatten(x, start_dim=1)\n",
        "        x = self.act(self.layer1(x))\n",
        "        x = self.act(self.layer2(x))\n",
        "        x = self.layer3(x)  #[MYCODE]마지막 레이어는 활성화 함수 없음\n",
        "        return x"
      ]
    },
    {
      "cell_type": "markdown",
      "source": [
        "##nn.CrossEntropyLoss 적용하기"
      ],
      "metadata": {
        "id": "hsfcvq6WbX77"
      }
    },
    {
      "cell_type": "code",
      "execution_count": 19,
      "metadata": {
        "id": "ZJMTSc74MoXV"
      },
      "outputs": [],
      "source": [
        "from torch.optim import SGD\n",
        "\n",
        "model = Model(28 * 28, 1024, 10).to('cuda')  #[MYCODE]MNIST는 10개의 클래스\n",
        "criterion = nn.CrossEntropyLoss()\n",
        "optimizer = SGD(model.parameters(), lr=0.001)\n",
        "n_epochs = 100"
      ]
    },
    {
      "cell_type": "markdown",
      "source": [
        "##model의 정확도를 측정하는 코드"
      ],
      "metadata": {
        "id": "Yj-2IoG3ZcCv"
      }
    },
    {
      "cell_type": "code",
      "execution_count": 20,
      "metadata": {
        "id": "27V5IpF6MxKk"
      },
      "outputs": [],
      "source": [
        "def accuracy(model, dataloader):\n",
        "    cnt = 0\n",
        "    acc = 0\n",
        "\n",
        "    for data in dataloader:\n",
        "        inputs, labels = data\n",
        "        inputs, labels = inputs.to('cuda'), labels.to('cuda')\n",
        "\n",
        "        preds = model(inputs)\n",
        "        preds = torch.argmax(preds, dim=-1)\n",
        "\n",
        "        cnt += labels.shape[0]\n",
        "        acc += (labels == preds).sum().item()\n",
        "\n",
        "    return acc / cnt"
      ]
    },
    {
      "cell_type": "markdown",
      "source": [
        "##[LOG] 출력 결과"
      ],
      "metadata": {
        "id": "sQODoiG2XZs1"
      }
    },
    {
      "cell_type": "code",
      "execution_count": 21,
      "metadata": {
        "colab": {
          "base_uri": "https://localhost:8080/"
        },
        "id": "V7hy3BARM1ZR",
        "outputId": "75a56f43-95a4-47c1-c601-3e469a5c831a"
      },
      "outputs": [
        {
          "output_type": "stream",
          "name": "stdout",
          "text": [
            "[LOG] Epoch 1/100 | Loss: 528.3889 | Train Acc: 0.4932 | Test Acc: 0.5011\n",
            "[LOG] Epoch 2/100 | Loss: 505.2327 | Train Acc: 0.5716 | Test Acc: 0.5844\n",
            "[LOG] Epoch 3/100 | Loss: 479.2250 | Train Acc: 0.6370 | Test Acc: 0.6496\n",
            "[LOG] Epoch 4/100 | Loss: 447.9483 | Train Acc: 0.6723 | Test Acc: 0.6841\n",
            "[LOG] Epoch 5/100 | Loss: 411.2803 | Train Acc: 0.7088 | Test Acc: 0.7210\n",
            "[LOG] Epoch 6/100 | Loss: 370.8355 | Train Acc: 0.7369 | Test Acc: 0.7466\n",
            "[LOG] Epoch 7/100 | Loss: 330.1218 | Train Acc: 0.7588 | Test Acc: 0.7700\n",
            "[LOG] Epoch 8/100 | Loss: 292.2813 | Train Acc: 0.7834 | Test Acc: 0.7937\n",
            "[LOG] Epoch 9/100 | Loss: 259.6596 | Train Acc: 0.7996 | Test Acc: 0.8098\n",
            "[LOG] Epoch 10/100 | Loss: 232.6125 | Train Acc: 0.8087 | Test Acc: 0.8166\n",
            "[LOG] Epoch 11/100 | Loss: 210.6403 | Train Acc: 0.8202 | Test Acc: 0.8279\n",
            "[LOG] Epoch 12/100 | Loss: 192.8818 | Train Acc: 0.8278 | Test Acc: 0.8366\n",
            "[LOG] Epoch 13/100 | Loss: 178.5373 | Train Acc: 0.8365 | Test Acc: 0.8457\n",
            "[LOG] Epoch 14/100 | Loss: 166.6436 | Train Acc: 0.8406 | Test Acc: 0.8484\n",
            "[LOG] Epoch 15/100 | Loss: 156.9366 | Train Acc: 0.8471 | Test Acc: 0.8545\n",
            "[LOG] Epoch 16/100 | Loss: 148.7156 | Train Acc: 0.8521 | Test Acc: 0.8591\n",
            "[LOG] Epoch 17/100 | Loss: 141.7982 | Train Acc: 0.8553 | Test Acc: 0.8625\n",
            "[LOG] Epoch 18/100 | Loss: 135.8821 | Train Acc: 0.8590 | Test Acc: 0.8671\n",
            "[LOG] Epoch 19/100 | Loss: 130.5672 | Train Acc: 0.8631 | Test Acc: 0.8690\n",
            "[LOG] Epoch 20/100 | Loss: 126.1769 | Train Acc: 0.8658 | Test Acc: 0.8723\n",
            "[LOG] Epoch 21/100 | Loss: 122.1522 | Train Acc: 0.8686 | Test Acc: 0.8746\n",
            "[LOG] Epoch 22/100 | Loss: 118.6953 | Train Acc: 0.8710 | Test Acc: 0.8762\n",
            "[LOG] Epoch 23/100 | Loss: 115.5175 | Train Acc: 0.8730 | Test Acc: 0.8771\n",
            "[LOG] Epoch 24/100 | Loss: 112.7106 | Train Acc: 0.8745 | Test Acc: 0.8793\n",
            "[LOG] Epoch 25/100 | Loss: 110.1535 | Train Acc: 0.8769 | Test Acc: 0.8817\n",
            "[LOG] Epoch 26/100 | Loss: 107.8499 | Train Acc: 0.8780 | Test Acc: 0.8831\n",
            "[LOG] Epoch 27/100 | Loss: 105.7224 | Train Acc: 0.8801 | Test Acc: 0.8848\n",
            "[LOG] Epoch 28/100 | Loss: 103.8089 | Train Acc: 0.8822 | Test Acc: 0.8875\n",
            "[LOG] Epoch 29/100 | Loss: 101.9679 | Train Acc: 0.8826 | Test Acc: 0.8884\n",
            "[LOG] Epoch 30/100 | Loss: 100.4299 | Train Acc: 0.8847 | Test Acc: 0.8900\n",
            "[LOG] Epoch 31/100 | Loss: 98.9608 | Train Acc: 0.8856 | Test Acc: 0.8909\n",
            "[LOG] Epoch 32/100 | Loss: 97.4859 | Train Acc: 0.8866 | Test Acc: 0.8920\n",
            "[LOG] Epoch 33/100 | Loss: 96.0941 | Train Acc: 0.8876 | Test Acc: 0.8921\n",
            "[LOG] Epoch 34/100 | Loss: 94.9277 | Train Acc: 0.8887 | Test Acc: 0.8937\n",
            "[LOG] Epoch 35/100 | Loss: 93.7724 | Train Acc: 0.8901 | Test Acc: 0.8948\n",
            "[LOG] Epoch 36/100 | Loss: 92.7634 | Train Acc: 0.8910 | Test Acc: 0.8964\n",
            "[LOG] Epoch 37/100 | Loss: 91.7008 | Train Acc: 0.8917 | Test Acc: 0.8959\n",
            "[LOG] Epoch 38/100 | Loss: 90.7273 | Train Acc: 0.8929 | Test Acc: 0.8976\n",
            "[LOG] Epoch 39/100 | Loss: 89.8414 | Train Acc: 0.8937 | Test Acc: 0.8982\n",
            "[LOG] Epoch 40/100 | Loss: 89.0740 | Train Acc: 0.8948 | Test Acc: 0.8991\n",
            "[LOG] Epoch 41/100 | Loss: 88.2117 | Train Acc: 0.8955 | Test Acc: 0.8994\n",
            "[LOG] Epoch 42/100 | Loss: 87.4644 | Train Acc: 0.8961 | Test Acc: 0.9006\n",
            "[LOG] Epoch 43/100 | Loss: 86.6523 | Train Acc: 0.8962 | Test Acc: 0.9002\n",
            "[LOG] Epoch 44/100 | Loss: 86.0757 | Train Acc: 0.8966 | Test Acc: 0.9004\n",
            "[LOG] Epoch 45/100 | Loss: 85.3535 | Train Acc: 0.8976 | Test Acc: 0.9012\n",
            "[LOG] Epoch 46/100 | Loss: 84.7738 | Train Acc: 0.8983 | Test Acc: 0.9016\n",
            "[LOG] Epoch 47/100 | Loss: 84.1535 | Train Acc: 0.8992 | Test Acc: 0.9024\n",
            "[LOG] Epoch 48/100 | Loss: 83.5353 | Train Acc: 0.8998 | Test Acc: 0.9036\n",
            "[LOG] Epoch 49/100 | Loss: 82.9784 | Train Acc: 0.9003 | Test Acc: 0.9046\n",
            "[LOG] Epoch 50/100 | Loss: 82.3903 | Train Acc: 0.9010 | Test Acc: 0.9051\n",
            "[LOG] Epoch 51/100 | Loss: 81.8692 | Train Acc: 0.9011 | Test Acc: 0.9043\n",
            "[LOG] Epoch 52/100 | Loss: 81.3539 | Train Acc: 0.9014 | Test Acc: 0.9054\n",
            "[LOG] Epoch 53/100 | Loss: 80.9253 | Train Acc: 0.9025 | Test Acc: 0.9063\n",
            "[LOG] Epoch 54/100 | Loss: 80.3777 | Train Acc: 0.9032 | Test Acc: 0.9074\n",
            "[LOG] Epoch 55/100 | Loss: 79.9850 | Train Acc: 0.9035 | Test Acc: 0.9069\n",
            "[LOG] Epoch 56/100 | Loss: 79.5454 | Train Acc: 0.9037 | Test Acc: 0.9071\n",
            "[LOG] Epoch 57/100 | Loss: 79.0867 | Train Acc: 0.9043 | Test Acc: 0.9083\n",
            "[LOG] Epoch 58/100 | Loss: 78.6676 | Train Acc: 0.9052 | Test Acc: 0.9086\n",
            "[LOG] Epoch 59/100 | Loss: 78.2392 | Train Acc: 0.9051 | Test Acc: 0.9090\n",
            "[LOG] Epoch 60/100 | Loss: 77.8888 | Train Acc: 0.9053 | Test Acc: 0.9084\n",
            "[LOG] Epoch 61/100 | Loss: 77.4568 | Train Acc: 0.9058 | Test Acc: 0.9087\n",
            "[LOG] Epoch 62/100 | Loss: 77.0971 | Train Acc: 0.9062 | Test Acc: 0.9101\n",
            "[LOG] Epoch 63/100 | Loss: 76.7440 | Train Acc: 0.9065 | Test Acc: 0.9100\n",
            "[LOG] Epoch 64/100 | Loss: 76.5050 | Train Acc: 0.9073 | Test Acc: 0.9103\n",
            "[LOG] Epoch 65/100 | Loss: 76.0030 | Train Acc: 0.9076 | Test Acc: 0.9117\n",
            "[LOG] Epoch 66/100 | Loss: 75.7113 | Train Acc: 0.9083 | Test Acc: 0.9122\n",
            "[LOG] Epoch 67/100 | Loss: 75.3490 | Train Acc: 0.9079 | Test Acc: 0.9107\n",
            "[LOG] Epoch 68/100 | Loss: 75.0459 | Train Acc: 0.9085 | Test Acc: 0.9119\n",
            "[LOG] Epoch 69/100 | Loss: 74.7576 | Train Acc: 0.9085 | Test Acc: 0.9119\n",
            "[LOG] Epoch 70/100 | Loss: 74.4510 | Train Acc: 0.9091 | Test Acc: 0.9131\n",
            "[LOG] Epoch 71/100 | Loss: 74.0781 | Train Acc: 0.9093 | Test Acc: 0.9128\n",
            "[LOG] Epoch 72/100 | Loss: 73.9134 | Train Acc: 0.9096 | Test Acc: 0.9143\n",
            "[LOG] Epoch 73/100 | Loss: 73.6157 | Train Acc: 0.9102 | Test Acc: 0.9130\n",
            "[LOG] Epoch 74/100 | Loss: 73.3829 | Train Acc: 0.9106 | Test Acc: 0.9148\n",
            "[LOG] Epoch 75/100 | Loss: 73.0240 | Train Acc: 0.9112 | Test Acc: 0.9145\n",
            "[LOG] Epoch 76/100 | Loss: 72.6960 | Train Acc: 0.9110 | Test Acc: 0.9141\n",
            "[LOG] Epoch 77/100 | Loss: 72.4796 | Train Acc: 0.9110 | Test Acc: 0.9151\n",
            "[LOG] Epoch 78/100 | Loss: 72.1195 | Train Acc: 0.9114 | Test Acc: 0.9154\n",
            "[LOG] Epoch 79/100 | Loss: 71.8641 | Train Acc: 0.9121 | Test Acc: 0.9154\n",
            "[LOG] Epoch 80/100 | Loss: 71.7216 | Train Acc: 0.9127 | Test Acc: 0.9161\n",
            "[LOG] Epoch 81/100 | Loss: 71.3624 | Train Acc: 0.9128 | Test Acc: 0.9160\n",
            "[LOG] Epoch 82/100 | Loss: 71.2343 | Train Acc: 0.9129 | Test Acc: 0.9166\n",
            "[LOG] Epoch 83/100 | Loss: 70.8777 | Train Acc: 0.9135 | Test Acc: 0.9164\n",
            "[LOG] Epoch 84/100 | Loss: 70.6707 | Train Acc: 0.9138 | Test Acc: 0.9167\n",
            "[LOG] Epoch 85/100 | Loss: 70.4510 | Train Acc: 0.9141 | Test Acc: 0.9171\n",
            "[LOG] Epoch 86/100 | Loss: 70.1815 | Train Acc: 0.9144 | Test Acc: 0.9176\n",
            "[LOG] Epoch 87/100 | Loss: 69.9423 | Train Acc: 0.9143 | Test Acc: 0.9175\n",
            "[LOG] Epoch 88/100 | Loss: 69.7150 | Train Acc: 0.9146 | Test Acc: 0.9182\n",
            "[LOG] Epoch 89/100 | Loss: 69.4587 | Train Acc: 0.9153 | Test Acc: 0.9183\n",
            "[LOG] Epoch 90/100 | Loss: 69.2428 | Train Acc: 0.9157 | Test Acc: 0.9188\n",
            "[LOG] Epoch 91/100 | Loss: 69.0243 | Train Acc: 0.9158 | Test Acc: 0.9193\n",
            "[LOG] Epoch 92/100 | Loss: 68.8780 | Train Acc: 0.9156 | Test Acc: 0.9191\n",
            "[LOG] Epoch 93/100 | Loss: 68.6092 | Train Acc: 0.9163 | Test Acc: 0.9189\n",
            "[LOG] Epoch 94/100 | Loss: 68.4137 | Train Acc: 0.9163 | Test Acc: 0.9189\n",
            "[LOG] Epoch 95/100 | Loss: 68.2481 | Train Acc: 0.9165 | Test Acc: 0.9195\n",
            "[LOG] Epoch 96/100 | Loss: 68.0503 | Train Acc: 0.9165 | Test Acc: 0.9189\n",
            "[LOG] Epoch 97/100 | Loss: 67.7536 | Train Acc: 0.9172 | Test Acc: 0.9199\n",
            "[LOG] Epoch 98/100 | Loss: 67.5974 | Train Acc: 0.9177 | Test Acc: 0.9206\n",
            "[LOG] Epoch 99/100 | Loss: 67.3683 | Train Acc: 0.9177 | Test Acc: 0.9198\n",
            "[LOG] Epoch 100/100 | Loss: 67.2356 | Train Acc: 0.9182 | Test Acc: 0.9206\n"
          ]
        }
      ],
      "source": [
        "train_accs, test_accs = [], []\n",
        "\n",
        "for epoch in range(n_epochs):\n",
        "    total_loss = 0.0\n",
        "\n",
        "    model.train()\n",
        "    for data in trainloader:\n",
        "        inputs, labels = data\n",
        "        inputs, labels = inputs.to('cuda'), labels.to('cuda')\n",
        "\n",
        "        optimizer.zero_grad()\n",
        "        preds = model(inputs)\n",
        "        loss = criterion(preds, labels)\n",
        "        loss.backward()\n",
        "        optimizer.step()\n",
        "\n",
        "        total_loss += loss.item()\n",
        "\n",
        "    # Epoch 끝난 후 Train/Test 정확도 측정\n",
        "    model.eval()\n",
        "    train_acc = accuracy(model, trainloader)\n",
        "    test_acc = accuracy(model, testloader)\n",
        "    train_accs.append(train_acc)\n",
        "    test_accs.append(test_acc)\n",
        "\n",
        "    print(f\"[LOG] Epoch {epoch+1}/{n_epochs} | Loss: {total_loss:.4f} | Train Acc: {train_acc:.4f} | Test Acc: {test_acc:.4f}\")"
      ]
    },
    {
      "cell_type": "markdown",
      "source": [
        "\n",
        "##epoch에 따른 model의 train과 test data에 대한 정확도 plot하기"
      ],
      "metadata": {
        "id": "osCwhTttY1Wt"
      }
    },
    {
      "cell_type": "code",
      "source": [
        "import numpy as np\n",
        "\n",
        "def plot_acc(train_accs, test_accs, label1='train', label2='test'):\n",
        "  x = np.arange(len(train_accs))\n",
        "\n",
        "  plt.plot(x, train_accs, label=label1)\n",
        "  plt.plot(x, test_accs, label=label2)\n",
        "  plt.legend()\n",
        "  plt.show()\n",
        "\n",
        "plot_acc(train_accs, test_accs)"
      ],
      "metadata": {
        "colab": {
          "base_uri": "https://localhost:8080/",
          "height": 430
        },
        "id": "CdyTyfBiUoEf",
        "outputId": "ac618841-a484-406a-cefc-b80809ca7cdb"
      },
      "execution_count": 23,
      "outputs": [
        {
          "output_type": "display_data",
          "data": {
            "text/plain": [
              "<Figure size 640x480 with 1 Axes>"
            ],
            "image/png": "[encoded data removed]"
          },
          "metadata": {}
        }
      ]
    },
    {
      "cell_type": "code",
      "source": [],
      "metadata": {
        "id": "g8I6d_B_yXlG"
      },
      "execution_count": null,
      "outputs": []
    },
    {
      "cell_type": "markdown",
      "source": [],
      "metadata": {
        "id": "Tr23ULm5lDog"
      }
    }
  ],
  "metadata": {
    "accelerator": "GPU",
    "colab": {
      "gpuType": "T4",
      "provenance": [],
      "authorship_tag": "ABX9TyPwnXIMno8PkJL8C+6cZg+V",
      "include_colab_link": true
    },
    "kernelspec": {
      "display_name": "Python 3",
      "name": "python3"
    },
    "language_info": {
      "name": "python"
    }
  },
  "nbformat": 4,
  "nbformat_minor": 0
}