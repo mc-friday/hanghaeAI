{
  "cells": [
    {
      "cell_type": "markdown",
      "metadata": {
        "id": "view-in-github",
        "colab_type": "text"
      },
      "source": [
        "<a href=\"https://colab.research.google.com/github/mc-friday/hanghaeAI/blob/main/%5B2%EC%A3%BC%EC%B0%A8%5D%EA%B8%B0%EB%B3%B8%EA%B3%BC%EC%A0%9C.ipynb\" target=\"_parent\"><img src=\"https://colab.research.google.com/assets/colab-badge.svg\" alt=\"Open In Colab\"/></a>"
      ]
    },
    {
      "cell_type": "markdown",
      "metadata": {
        "id": "ymxatB5WYxlL"
      },
      "source": [
        "# [2주차] 기본과제: 주어진 문장에서 나올 다음 단어를 예측하는 모델 구현"
      ]
    },
    {
      "cell_type": "code",
      "execution_count": 33,
      "metadata": {
        "id": "1X7RM2du1zcr",
        "outputId": "83587968-f743-4184-e5ac-c8d2d21e59d3",
        "colab": {
          "base_uri": "https://localhost:8080/"
        }
      },
      "outputs": [
        {
          "output_type": "stream",
          "name": "stdout",
          "text": [
            "Requirement already satisfied: datasets in /usr/local/lib/python3.10/dist-packages (3.2.0)\n",
            "Requirement already satisfied: sacremoses in /usr/local/lib/python3.10/dist-packages (0.1.1)\n",
            "Requirement already satisfied: filelock in /usr/local/lib/python3.10/dist-packages (from datasets) (3.16.1)\n",
            "Requirement already satisfied: numpy>=1.17 in /usr/local/lib/python3.10/dist-packages (from datasets) (1.26.4)\n",
            "Requirement already satisfied: pyarrow>=15.0.0 in /usr/local/lib/python3.10/dist-packages (from datasets) (17.0.0)\n",
            "Requirement already satisfied: dill<0.3.9,>=0.3.0 in /usr/local/lib/python3.10/dist-packages (from datasets) (0.3.8)\n",
            "Requirement already satisfied: pandas in /usr/local/lib/python3.10/dist-packages (from datasets) (2.2.2)\n",
            "Requirement already satisfied: requests>=2.32.2 in /usr/local/lib/python3.10/dist-packages (from datasets) (2.32.3)\n",
            "Requirement already satisfied: tqdm>=4.66.3 in /usr/local/lib/python3.10/dist-packages (from datasets) (4.67.1)\n",
            "Requirement already satisfied: xxhash in /usr/local/lib/python3.10/dist-packages (from datasets) (3.5.0)\n",
            "Requirement already satisfied: multiprocess<0.70.17 in /usr/local/lib/python3.10/dist-packages (from datasets) (0.70.16)\n",
            "Requirement already satisfied: fsspec<=2024.9.0,>=2023.1.0 in /usr/local/lib/python3.10/dist-packages (from fsspec[http]<=2024.9.0,>=2023.1.0->datasets) (2024.9.0)\n",
            "Requirement already satisfied: aiohttp in /usr/local/lib/python3.10/dist-packages (from datasets) (3.11.10)\n",
            "Requirement already satisfied: huggingface-hub>=0.23.0 in /usr/local/lib/python3.10/dist-packages (from datasets) (0.27.0)\n",
            "Requirement already satisfied: packaging in /usr/local/lib/python3.10/dist-packages (from datasets) (24.2)\n",
            "Requirement already satisfied: pyyaml>=5.1 in /usr/local/lib/python3.10/dist-packages (from datasets) (6.0.2)\n",
            "Requirement already satisfied: regex in /usr/local/lib/python3.10/dist-packages (from sacremoses) (2024.11.6)\n",
            "Requirement already satisfied: click in /usr/local/lib/python3.10/dist-packages (from sacremoses) (8.1.7)\n",
            "Requirement already satisfied: joblib in /usr/local/lib/python3.10/dist-packages (from sacremoses) (1.4.2)\n",
            "Requirement already satisfied: aiohappyeyeballs>=2.3.0 in /usr/local/lib/python3.10/dist-packages (from aiohttp->datasets) (2.4.4)\n",
            "Requirement already satisfied: aiosignal>=1.1.2 in /usr/local/lib/python3.10/dist-packages (from aiohttp->datasets) (1.3.2)\n",
            "Requirement already satisfied: async-timeout<6.0,>=4.0 in /usr/local/lib/python3.10/dist-packages (from aiohttp->datasets) (4.0.3)\n",
            "Requirement already satisfied: attrs>=17.3.0 in /usr/local/lib/python3.10/dist-packages (from aiohttp->datasets) (24.3.0)\n",
            "Requirement already satisfied: frozenlist>=1.1.1 in /usr/local/lib/python3.10/dist-packages (from aiohttp->datasets) (1.5.0)\n",
            "Requirement already satisfied: multidict<7.0,>=4.5 in /usr/local/lib/python3.10/dist-packages (from aiohttp->datasets) (6.1.0)\n",
            "Requirement already satisfied: propcache>=0.2.0 in /usr/local/lib/python3.10/dist-packages (from aiohttp->datasets) (0.2.1)\n",
            "Requirement already satisfied: yarl<2.0,>=1.17.0 in /usr/local/lib/python3.10/dist-packages (from aiohttp->datasets) (1.18.3)\n",
            "Requirement already satisfied: typing-extensions>=3.7.4.3 in /usr/local/lib/python3.10/dist-packages (from huggingface-hub>=0.23.0->datasets) (4.12.2)\n",
            "Requirement already satisfied: charset-normalizer<4,>=2 in /usr/local/lib/python3.10/dist-packages (from requests>=2.32.2->datasets) (3.4.0)\n",
            "Requirement already satisfied: idna<4,>=2.5 in /usr/local/lib/python3.10/dist-packages (from requests>=2.32.2->datasets) (3.10)\n",
            "Requirement already satisfied: urllib3<3,>=1.21.1 in /usr/local/lib/python3.10/dist-packages (from requests>=2.32.2->datasets) (2.2.3)\n",
            "Requirement already satisfied: certifi>=2017.4.17 in /usr/local/lib/python3.10/dist-packages (from requests>=2.32.2->datasets) (2024.12.14)\n",
            "Requirement already satisfied: python-dateutil>=2.8.2 in /usr/local/lib/python3.10/dist-packages (from pandas->datasets) (2.8.2)\n",
            "Requirement already satisfied: pytz>=2020.1 in /usr/local/lib/python3.10/dist-packages (from pandas->datasets) (2024.2)\n",
            "Requirement already satisfied: tzdata>=2022.7 in /usr/local/lib/python3.10/dist-packages (from pandas->datasets) (2024.2)\n",
            "Requirement already satisfied: six>=1.5 in /usr/local/lib/python3.10/dist-packages (from python-dateutil>=2.8.2->pandas->datasets) (1.17.0)\n"
          ]
        }
      ],
      "source": [
        "!pip install datasets sacremoses"
      ]
    },
    {
      "cell_type": "code",
      "execution_count": 34,
      "metadata": {
        "id": "HOdhoBVA1zcu"
      },
      "outputs": [],
      "source": [
        "import torch\n",
        "from datasets import load_dataset\n",
        "from torch.utils.data import DataLoader\n",
        "from transformers import BertTokenizerFast\n",
        "from tokenizers import (\n",
        "    decoders,\n",
        "    models,\n",
        "    normalizers,\n",
        "    pre_tokenizers,\n",
        "    processors,\n",
        "    trainers,\n",
        "    Tokenizer,\n",
        ")\n",
        "from torch.nn.utils.rnn import pad_sequence\n",
        "from torch.optim import Adam\n",
        "import numpy as np\n",
        "from math import sqrt\n",
        "import matplotlib.pyplot as plt\n",
        "from torch import nn\n",
        "import time"
      ]
    },
    {
      "cell_type": "markdown",
      "source": [
        "## 1. 데이터셋 (기존의 IMDB dataset을 그대로 활용)"
      ],
      "metadata": {
        "id": "nXtXDsr21Sfm"
      }
    },
    {
      "cell_type": "code",
      "source": [
        "ds = load_dataset(\"stanfordnlp/imdb\")\n",
        "tokenizer = torch.hub.load('huggingface/pytorch-transformers', 'tokenizer', 'bert-base-uncased')"
      ],
      "metadata": {
        "colab": {
          "base_uri": "https://localhost:8080/"
        },
        "id": "dNbcHNcj1cYK",
        "outputId": "bfc7e76d-5f79-4f68-cec9-83dea1a5d30a"
      },
      "execution_count": 35,
      "outputs": [
        {
          "output_type": "stream",
          "name": "stderr",
          "text": [
            "Using cache found in /root/.cache/torch/hub/huggingface_pytorch-transformers_main\n"
          ]
        }
      ]
    },
    {
      "cell_type": "markdown",
      "source": [
        "\n",
        "### 1.1. [MY_CODE] Last word prediction dataset 준비를 위한 함수"
      ],
      "metadata": {
        "id": "7Jybtz6v1p-_"
      }
    },
    {
      "cell_type": "code",
      "source": [
        "def collate_fn(batch):\n",
        "    max_len = 400\n",
        "    texts, labels = [], []\n",
        "    for row in batch:\n",
        "        input_ids = tokenizer(row['text'], truncation=True, max_length=max_len).input_ids\n",
        "        if len(input_ids) > 2: #[MYCODE]input_ids[:-2]로 마지막 두 개의 토큰을 제거하는데, 길이가 2 이하라면 결과적으로 빈 입력이라서 추가\n",
        "            labels.append(input_ids[-2])  # 과제적용 : 마지막 두 번째 토큰\n",
        "            texts.append(torch.LongTensor(input_ids[:-2]))  # 과제적용 : 마지막 두 토큰 제외\n",
        "    texts = pad_sequence(texts, batch_first=True, padding_value=tokenizer.pad_token_id)\n",
        "    labels = torch.LongTensor(labels)\n",
        "\n",
        "    return texts, labels"
      ],
      "metadata": {
        "id": "n0bBh86W13Gp"
      },
      "execution_count": 36,
      "outputs": []
    },
    {
      "cell_type": "markdown",
      "source": [
        "### 1.2. DataLoader 생성"
      ],
      "metadata": {
        "id": "TXdRlu8Q2wUJ"
      }
    },
    {
      "cell_type": "code",
      "source": [
        "train_loader = DataLoader(\n",
        "    ds['train'], batch_size=64, shuffle=True, collate_fn=collate_fn\n",
        ")\n",
        "test_loader = DataLoader(\n",
        "    ds['test'], batch_size=64, shuffle=False, collate_fn=collate_fn\n",
        ")\n",
        "\n",
        "print(ds['train'][0])  # 샘플 데이터 확인\n",
        "\n",
        "# 데이터 디버깅 코드 삽입\n",
        "for batch in train_loader:\n",
        "    texts, labels = batch\n",
        "\n",
        "    # 텍스트 및 라벨 디코딩 확인\n",
        "    decoded_texts = [tokenizer.decode(text) for text in texts[:2]]\n",
        "    decoded_labels = [tokenizer.decode([label]) for label in labels[:2]]\n",
        "    print(\"Original Texts:\", decoded_texts)\n",
        "    print(\"Labels (Last 2nd Word):\", decoded_labels)\n",
        "\n",
        "    # 라벨 분포 시각화 (한 번만 실행)\n",
        "    all_labels = labels.tolist()\n",
        "    plt.hist(all_labels, bins=50)\n",
        "    plt.title(\"Label Distribution\")\n",
        "    plt.xlabel(\"Token ID\")\n",
        "    plt.ylabel(\"Frequency\")\n",
        "    plt.show()\n",
        "\n",
        "    break  # 한 배치만 확인하고 중단"
      ],
      "metadata": {
        "colab": {
          "base_uri": "https://localhost:8080/",
          "height": 544
        },
        "id": "8La4D9vK2wCm",
        "outputId": "3aad02a7-63e4-4479-b578-efbae95e959e"
      },
      "execution_count": 37,
      "outputs": [
        {
          "output_type": "stream",
          "name": "stdout",
          "text": [
            "{'text': 'I rented I AM CURIOUS-YELLOW from my video store because of all the controversy that surrounded it when it was first released in 1967. I also heard that at first it was seized by U.S. customs if it ever tried to enter this country, therefore being a fan of films considered \"controversial\" I really had to see this for myself.<br /><br />The plot is centered around a young Swedish drama student named Lena who wants to learn everything she can about life. In particular she wants to focus her attentions to making some sort of documentary on what the average Swede thought about certain political issues such as the Vietnam War and race issues in the United States. In between asking politicians and ordinary denizens of Stockholm about their opinions on politics, she has sex with her drama teacher, classmates, and married men.<br /><br />What kills me about I AM CURIOUS-YELLOW is that 40 years ago, this was considered pornographic. Really, the sex and nudity scenes are few and far between, even then it\\'s not shot like some cheaply made porno. While my countrymen mind find it shocking, in reality sex and nudity are a major staple in Swedish cinema. Even Ingmar Bergman, arguably their answer to good old boy John Ford, had sex scenes in his films.<br /><br />I do commend the filmmakers for the fact that any sex shown in the film is shown for artistic purposes rather than just to shock people and make money to be shown in pornographic theaters in America. I AM CURIOUS-YELLOW is a good film for anyone wanting to study the meat and potatoes (no pun intended) of Swedish cinema. But really, this film doesn\\'t have much of a plot.', 'label': 0}\n",
            "Original Texts: [\"[CLS] i ' ve seen this movie and i must say i ' m very impressed. there are not much movies i like, but i do like this one. you should see this movie by yourself and comment it, because this is one of my most favorite movie. i fancy to see this again. action fused with a fantastic story. very impressing. i like modesty ' s character. actually she ' s very mystic and mysterious ( i do like that ^ ^ ). the bad boy is pretty too. well, actually this whole movie is rare in ' movieworld '. i considered about the vote of this movie, i thought this is should be a very popular movie. i guess wrong. it was me who was very impressed about this movie, and i hope i ' m not the only one who takes only the cost to watch this one. see and vote [PAD] [PAD] [PAD] [PAD] [PAD] [PAD] [PAD] [PAD] [PAD] [PAD] [PAD] [PAD] [PAD] [PAD] [PAD] [PAD] [PAD] [PAD] [PAD] [PAD] [PAD] [PAD] [PAD] [PAD] [PAD] [PAD] [PAD] [PAD] [PAD] [PAD] [PAD] [PAD] [PAD] [PAD] [PAD] [PAD] [PAD] [PAD] [PAD] [PAD] [PAD] [PAD] [PAD] [PAD] [PAD] [PAD] [PAD] [PAD] [PAD] [PAD] [PAD] [PAD] [PAD] [PAD] [PAD] [PAD] [PAD] [PAD] [PAD] [PAD] [PAD] [PAD] [PAD] [PAD] [PAD] [PAD] [PAD] [PAD] [PAD] [PAD] [PAD] [PAD] [PAD] [PAD] [PAD] [PAD] [PAD] [PAD] [PAD] [PAD] [PAD] [PAD] [PAD] [PAD] [PAD] [PAD] [PAD] [PAD] [PAD] [PAD] [PAD] [PAD] [PAD] [PAD] [PAD] [PAD] [PAD] [PAD] [PAD] [PAD] [PAD] [PAD] [PAD] [PAD] [PAD] [PAD] [PAD] [PAD] [PAD] [PAD] [PAD] [PAD] [PAD] [PAD] [PAD] [PAD] [PAD] [PAD] [PAD] [PAD] [PAD] [PAD] [PAD] [PAD] [PAD] [PAD] [PAD] [PAD] [PAD] [PAD] [PAD] [PAD] [PAD] [PAD] [PAD] [PAD] [PAD] [PAD] [PAD] [PAD] [PAD] [PAD] [PAD] [PAD] [PAD] [PAD] [PAD] [PAD] [PAD] [PAD] [PAD] [PAD] [PAD] [PAD] [PAD] [PAD] [PAD] [PAD] [PAD] [PAD] [PAD] [PAD] [PAD] [PAD] [PAD] [PAD] [PAD] [PAD] [PAD] [PAD] [PAD] [PAD] [PAD] [PAD] [PAD] [PAD] [PAD] [PAD] [PAD] [PAD] [PAD] [PAD] [PAD] [PAD] [PAD] [PAD] [PAD] [PAD] [PAD] [PAD] [PAD] [PAD] [PAD] [PAD] [PAD] [PAD] [PAD] [PAD] [PAD] [PAD] [PAD] [PAD] [PAD] [PAD] [PAD] [PAD] [PAD] [PAD] [PAD] [PAD] [PAD] [PAD] [PAD] [PAD] [PAD] [PAD] [PAD] [PAD] [PAD] [PAD] [PAD] [PAD] [PAD]\", '[CLS] what is happening to itv drama. first, \" losing gemma \" quite simply the worst tv drama i have seen in years, and now \" perfect parents \" a complete shambles from start to finish. whoever is responsible for commissioning this drivel should be receiving there p45 by special delivery. < br / > < br / > in most drama / thrillers, a requirement to suspend certain levels of belief is necessary so that the the plot line can develop, but \" perfect parents \" took this to a new level, i suspended so much belief by the end of this nonsense i felt i had been force fed on a lorry load of \" magic mushrooms \", it was like the scriptwriters had decided to try and create a \" drama by numbers \" involving some serious issues - religion, education, greed, fear, murder, paedophillia the only trouble was as the great eric morecambe once said when playing a piano, \" i \\' m playing all the right notes, just not necessarily in the correct order \". for your next script guys, i suggest you try reading a few more books on script development than \" script writing for dummies \". < br / > < br / > due to the ridiculous script and the utter lack of tension in the direction, the acting was suitably low key, not the fault of the actors as the cast was top notch. but i suggest that all of the actors involved in this sorry piece of drama should instruct their agents the next time the postman attempts to deliver a script from itv drama department, make sure the letterbox is firmly nailed shut! [PAD] [PAD] [PAD] [PAD] [PAD] [PAD] [PAD] [PAD] [PAD] [PAD] [PAD] [PAD] [PAD] [PAD] [PAD] [PAD] [PAD] [PAD] [PAD] [PAD] [PAD] [PAD] [PAD] [PAD] [PAD] [PAD] [PAD] [PAD] [PAD] [PAD] [PAD] [PAD] [PAD] [PAD] [PAD] [PAD] [PAD] [PAD] [PAD] [PAD] [PAD] [PAD] [PAD] [PAD] [PAD] [PAD] [PAD] [PAD] [PAD] [PAD] [PAD] [PAD] [PAD] [PAD] [PAD] [PAD] [PAD] [PAD] [PAD] [PAD] [PAD] [PAD] [PAD] [PAD] [PAD] [PAD] [PAD] [PAD] [PAD] [PAD]']\n",
            "Labels (Last 2nd Word): ['.', '!']\n"
          ]
        },
        {
          "output_type": "display_data",
          "data": {
            "text/plain": [
              "<Figure size 640x480 with 1 Axes>"
            ],
            "image/png": "[encoded data removed]"
          },
          "metadata": {}
        }
      ]
    },
    {
      "cell_type": "markdown",
      "metadata": {
        "id": "i-FshZcTZBQ2"
      },
      "source": [
        "## 2. 모델 구현"
      ]
    },
    {
      "cell_type": "markdown",
      "source": [
        "### 2.1. SelfAttention Model\n",
        "\n",
        "self-attention"
      ],
      "metadata": {
        "id": "zMhFI1Yk30Tc"
      }
    },
    {
      "cell_type": "code",
      "execution_count": 38,
      "metadata": {
        "id": "MBlMVMZcRAxv"
      },
      "outputs": [],
      "source": [
        "class SelfAttention(nn.Module):\n",
        "  def __init__(self, input_dim, d_model):\n",
        "    super().__init__()\n",
        "\n",
        "    self.input_dim = input_dim\n",
        "    self.d_model = d_model\n",
        "\n",
        "    self.wq = nn.Linear(input_dim, d_model)\n",
        "    self.wk = nn.Linear(input_dim, d_model)\n",
        "    self.wv = nn.Linear(input_dim, d_model)\n",
        "    self.dense = nn.Linear(d_model, d_model)\n",
        "\n",
        "    self.softmax = nn.Softmax(dim=-1)\n",
        "\n",
        "  def forward(self, x, mask):\n",
        "    q, k, v = self.wq(x), self.wk(x), self.wv(x)\n",
        "    score = torch.matmul(q, k.transpose(-1, -2)) # (B, S, D) * (B, D, S) = (B, S, S)\n",
        "    score = score / sqrt(self.d_model)\n",
        "\n",
        "    if mask is not None:\n",
        "      score = score + (mask * -1e9)\n",
        "\n",
        "    score = self.softmax(score)\n",
        "    result = torch.matmul(score, v)\n",
        "    result = self.dense(result)\n",
        "\n",
        "    return result"
      ]
    },
    {
      "cell_type": "markdown",
      "source": [
        "### 2.2. TransformerLayer Model\n",
        "\n",
        "self-attention과 feed-forward layer를 구현한 모습"
      ],
      "metadata": {
        "id": "aSJtbIB-4Pmt"
      }
    },
    {
      "cell_type": "code",
      "execution_count": 39,
      "metadata": {
        "id": "VZHPCn9AS5Gp"
      },
      "outputs": [],
      "source": [
        "class TransformerLayer(nn.Module):\n",
        "  def __init__(self, input_dim, d_model, dff):\n",
        "    super().__init__()\n",
        "\n",
        "    self.input_dim = input_dim\n",
        "    self.d_model = d_model\n",
        "    self.dff = dff\n",
        "\n",
        "    self.sa = SelfAttention(input_dim, d_model)\n",
        "    self.ffn = nn.Sequential(\n",
        "      nn.Linear(d_model, dff),\n",
        "      nn.ReLU(),\n",
        "      nn.Linear(dff, d_model)\n",
        "    )\n",
        "\n",
        "  def forward(self, x, mask):\n",
        "    x = self.sa(x, mask)\n",
        "    x = self.ffn(x)\n",
        "\n",
        "    return x"
      ]
    },
    {
      "cell_type": "markdown",
      "source": [
        "### 2.3. [MY_CODE] TextClassifier Model\n",
        "\n",
        "TransformerLayer와 positional encoding을 모두 합친 모습"
      ],
      "metadata": {
        "id": "PIMPm8-q4hDg"
      }
    },
    {
      "cell_type": "code",
      "source": [
        "class TextClassifier(nn.Module):\n",
        "  def __init__(self, vocab_size, d_model, n_layers, dff):\n",
        "    super().__init__()\n",
        "\n",
        "    self.vocab_size = vocab_size\n",
        "    self.d_model = d_model\n",
        "    self.n_layers = n_layers\n",
        "    self.dff = dff\n",
        "\n",
        "    self.embedding = nn.Embedding(vocab_size, d_model)\n",
        "    self.pos_encoding = nn.parameter.Parameter(positional_encoding(max_len, d_model), requires_grad=False)\n",
        "    self.layers = nn.ModuleList([TransformerLayer(d_model, d_model, dff) for _ in range(n_layers)])\n",
        "    self.classification = nn.Linear(d_model, vocab_size) #[MYCODE] 과제적용 출력차원을 1 -> vocab_size\n",
        "\n",
        "  def forward(self, x):\n",
        "    mask = (x == tokenizer.pad_token_id)\n",
        "    mask = mask[:, None, :]\n",
        "    seq_len = x.shape[1]\n",
        "\n",
        "    x = self.embedding(x)\n",
        "    x = x * sqrt(self.d_model)\n",
        "    x = x + self.pos_encoding[:, :seq_len]\n",
        "\n",
        "    for layer in self.layers:\n",
        "      x = layer(x, mask)\n",
        "\n",
        "    x = x[:, 0]\n",
        "    x = self.classification(x)\n",
        "\n",
        "    return x"
      ],
      "metadata": {
        "id": "UH6l7HH_4gy9"
      },
      "execution_count": 40,
      "outputs": []
    },
    {
      "cell_type": "markdown",
      "source": [
        "## 3. Positional encoding"
      ],
      "metadata": {
        "id": "G9o5azZ87nAi"
      }
    },
    {
      "cell_type": "code",
      "execution_count": 41,
      "metadata": {
        "colab": {
          "base_uri": "https://localhost:8080/"
        },
        "id": "Uf_jMQWDUR79",
        "outputId": "7761419a-589f-455b-f792-7698a83c4142"
      },
      "outputs": [
        {
          "output_type": "stream",
          "name": "stdout",
          "text": [
            "[LOG] torch.Size([1, 400, 256])\n"
          ]
        }
      ],
      "source": [
        "def get_angles(pos, i, d_model):\n",
        "    angle_rates = 1 / np.power(10000, (2 * (i // 2)) / np.float32(d_model))\n",
        "    return pos * angle_rates\n",
        "\n",
        "def positional_encoding(position, d_model):\n",
        "    angle_rads = get_angles(np.arange(position)[:, None], np.arange(d_model)[None, :], d_model)\n",
        "    angle_rads[:, 0::2] = np.sin(angle_rads[:, 0::2])\n",
        "    angle_rads[:, 1::2] = np.cos(angle_rads[:, 1::2])\n",
        "    pos_encoding = angle_rads[None, ...]\n",
        "\n",
        "    return torch.FloatTensor(pos_encoding)\n",
        "\n",
        "\n",
        "max_len = 400\n",
        "print(f\"[LOG] {positional_encoding(max_len, 256).shape}\")"
      ]
    },
    {
      "cell_type": "markdown",
      "metadata": {
        "id": "QDq05OlAb2lB"
      },
      "source": [
        "## 4. [MY_CODE] 모델, 손실 함수, 옵티마이저 설정"
      ]
    },
    {
      "cell_type": "code",
      "execution_count": 42,
      "metadata": {
        "id": "YHVVsWBPQmnv",
        "outputId": "6a7852ab-9974-4658-e472-f811af618241",
        "colab": {
          "base_uri": "https://localhost:8080/"
        }
      },
      "outputs": [
        {
          "output_type": "stream",
          "name": "stdout",
          "text": [
            "[LOG] vocab_size : 30522\n"
          ]
        }
      ],
      "source": [
        "print(f\"[LOG] vocab_size : {len(tokenizer)}\")\n",
        "\n",
        "model = TextClassifier(len(tokenizer), 32, 2, 32)\n",
        "lr = 0.001\n",
        "model = model.to('cuda')\n",
        "loss_fn = nn.CrossEntropyLoss() #[MYCODE] 과제적용 : 손실 함수 변경 이진 분류 -> 다중 클래스 분류\n",
        "\n",
        "optimizer = Adam(model.parameters(), lr=lr)"
      ]
    },
    {
      "cell_type": "markdown",
      "source": [
        "### 4.1. [MY_CODE] model의 정확도를 측정하는 함수"
      ],
      "metadata": {
        "id": "_cJFIoNT9srv"
      }
    },
    {
      "cell_type": "code",
      "execution_count": 43,
      "metadata": {
        "id": "r88BALxO1zc1"
      },
      "outputs": [],
      "source": [
        "def accuracy(model, dataloader):\n",
        "  model.eval()\n",
        "  cnt = 0\n",
        "  acc = 0\n",
        "\n",
        "  for data in dataloader:\n",
        "    inputs, labels = data\n",
        "    inputs, labels = inputs.to('cuda'), labels.to('cuda')\n",
        "\n",
        "    preds = model(inputs)\n",
        "    preds = torch.argmax(preds, dim=-1) #[MYCODE] 과제적용 : 손실 함수 변경 이진 분류 -> 다중 클래스 분류\n",
        "\n",
        "    cnt += labels.shape[0]\n",
        "    acc += (preds == labels).sum().item()\n",
        "\n",
        "  return acc / cnt"
      ]
    },
    {
      "cell_type": "markdown",
      "source": [
        "### 4.2. [MY_CODE] plot 함수"
      ],
      "metadata": {
        "id": "2xNGakvl_sOy"
      }
    },
    {
      "cell_type": "code",
      "source": [
        "def plot_acc(train_accs, test_accs, title, label1='train', label2='test'):\n",
        "    \"\"\"\n",
        "    학습 정확도 및 테스트 정확도를 시각화하는 함수\n",
        "    Args:\n",
        "        train_accs: 각 epoch별 학습 정확도 리스트\n",
        "        test_accs: 각 epoch별 테스트 정확도 리스트\n",
        "        title: 그래프 제목\n",
        "        label1: 학습 데이터 라벨\n",
        "        label2: 테스트 데이터 라벨\n",
        "    \"\"\"\n",
        "    plt.figure(figsize=(10, 5))\n",
        "    x = np.arange(len(train_accs))\n",
        "    plt.plot(x, train_accs, label=label1)\n",
        "    plt.plot(x, test_accs, label=label2)\n",
        "    plt.xlabel(\"Epochs\")\n",
        "    plt.ylabel(\"Accuracy\")\n",
        "    plt.legend()\n",
        "    plt.title(title)\n",
        "    plt.show()"
      ],
      "metadata": {
        "id": "cmQj0rFF_pOO"
      },
      "execution_count": 44,
      "outputs": []
    },
    {
      "cell_type": "markdown",
      "source": [
        "## 5. [MY_CODE] 학습"
      ],
      "metadata": {
        "id": "2b9jVkBUBB11"
      }
    },
    {
      "cell_type": "code",
      "execution_count": 46,
      "metadata": {
        "colab": {
          "base_uri": "https://localhost:8080/"
        },
        "id": "al_b56TYRILq",
        "outputId": "d9470238-9aa3-4092-bf92-96b85b7dc4fe"
      },
      "outputs": [
        {
          "output_type": "stream",
          "name": "stdout",
          "text": [
            "[LOG] Epoch 1 | Train Loss: 1045.1932 | Time: 31.23s\n",
            "[LOG] =========> Train acc: 0.559 | Test acc: 0.564 | Time: 31.23s\n",
            "[LOG] Epoch 2 | Train Loss: 1041.3792 | Time: 31.55s\n",
            "[LOG] =========> Train acc: 0.558 | Test acc: 0.564 | Time: 31.55s\n",
            "[LOG] Epoch 3 | Train Loss: 1036.1863 | Time: 31.25s\n",
            "[LOG] =========> Train acc: 0.558 | Test acc: 0.564 | Time: 31.25s\n",
            "[LOG] Epoch 4 | Train Loss: 1038.1696 | Time: 31.82s\n",
            "[LOG] =========> Train acc: 0.558 | Test acc: 0.564 | Time: 31.82s\n",
            "[LOG] Epoch 5 | Train Loss: 1034.4025 | Time: 31.57s\n",
            "[LOG] =========> Train acc: 0.560 | Test acc: 0.563 | Time: 31.57s\n",
            "[LOG] Epoch 6 | Train Loss: 1027.4351 | Time: 31.53s\n",
            "[LOG] =========> Train acc: 0.558 | Test acc: 0.561 | Time: 31.53s\n",
            "[LOG] Epoch 7 | Train Loss: 1023.1639 | Time: 31.45s\n",
            "[LOG] =========> Train acc: 0.558 | Test acc: 0.561 | Time: 31.45s\n",
            "[LOG] Epoch 8 | Train Loss: 1019.6999 | Time: 31.35s\n",
            "[LOG] =========> Train acc: 0.558 | Test acc: 0.562 | Time: 31.35s\n",
            "[LOG] Epoch 9 | Train Loss: 1014.7471 | Time: 31.32s\n",
            "[LOG] =========> Train acc: 0.560 | Test acc: 0.565 | Time: 31.32s\n",
            "[LOG] Epoch 10 | Train Loss: 1013.2313 | Time: 31.70s\n",
            "[LOG] =========> Train acc: 0.560 | Test acc: 0.564 | Time: 31.70s\n",
            "[LOG] Epoch 11 | Train Loss: 1010.1088 | Time: 31.74s\n",
            "[LOG] =========> Train acc: 0.557 | Test acc: 0.563 | Time: 31.74s\n",
            "[LOG] Epoch 12 | Train Loss: 1004.6837 | Time: 31.60s\n",
            "[LOG] =========> Train acc: 0.559 | Test acc: 0.564 | Time: 31.60s\n",
            "[LOG] Epoch 13 | Train Loss: 999.0555 | Time: 31.62s\n",
            "[LOG] =========> Train acc: 0.558 | Test acc: 0.564 | Time: 31.62s\n",
            "[LOG] Epoch 14 | Train Loss: 995.1066 | Time: 31.85s\n",
            "[LOG] =========> Train acc: 0.560 | Test acc: 0.564 | Time: 31.85s\n",
            "[LOG] Epoch 15 | Train Loss: 990.7086 | Time: 32.00s\n",
            "[LOG] =========> Train acc: 0.559 | Test acc: 0.563 | Time: 32.00s\n",
            "[LOG] Epoch 16 | Train Loss: 986.0334 | Time: 31.76s\n",
            "[LOG] =========> Train acc: 0.558 | Test acc: 0.564 | Time: 31.76s\n",
            "[LOG] Epoch 17 | Train Loss: 981.3186 | Time: 32.02s\n",
            "[LOG] =========> Train acc: 0.559 | Test acc: 0.562 | Time: 32.02s\n",
            "[LOG] Epoch 18 | Train Loss: 979.1311 | Time: 31.67s\n",
            "[LOG] =========> Train acc: 0.560 | Test acc: 0.564 | Time: 31.67s\n",
            "[LOG] Epoch 19 | Train Loss: 974.2044 | Time: 31.55s\n",
            "[LOG] =========> Train acc: 0.561 | Test acc: 0.565 | Time: 31.55s\n",
            "[LOG] Epoch 20 | Train Loss: 974.4984 | Time: 31.51s\n",
            "[LOG] =========> Train acc: 0.560 | Test acc: 0.564 | Time: 31.51s\n",
            "[LOG] Epoch 21 | Train Loss: 971.7189 | Time: 31.50s\n",
            "[LOG] =========> Train acc: 0.561 | Test acc: 0.564 | Time: 31.50s\n",
            "[LOG] Epoch 22 | Train Loss: 968.0409 | Time: 31.61s\n",
            "[LOG] =========> Train acc: 0.559 | Test acc: 0.564 | Time: 31.61s\n",
            "[LOG] Epoch 23 | Train Loss: 963.1065 | Time: 31.41s\n",
            "[LOG] =========> Train acc: 0.562 | Test acc: 0.564 | Time: 31.41s\n",
            "[LOG] Epoch 24 | Train Loss: 959.8188 | Time: 31.70s\n",
            "[LOG] =========> Train acc: 0.559 | Test acc: 0.564 | Time: 31.70s\n",
            "[LOG] Epoch 25 | Train Loss: 964.6791 | Time: 31.74s\n",
            "[LOG] =========> Train acc: 0.559 | Test acc: 0.564 | Time: 31.74s\n",
            "[LOG] Epoch 26 | Train Loss: 966.6252 | Time: 31.82s\n",
            "[LOG] =========> Train acc: 0.560 | Test acc: 0.563 | Time: 31.82s\n",
            "[LOG] Epoch 27 | Train Loss: 962.3235 | Time: 31.67s\n",
            "[LOG] =========> Train acc: 0.561 | Test acc: 0.564 | Time: 31.67s\n",
            "[LOG] Epoch 28 | Train Loss: 950.6735 | Time: 31.39s\n",
            "[LOG] =========> Train acc: 0.560 | Test acc: 0.561 | Time: 31.39s\n",
            "[LOG] Epoch 29 | Train Loss: 943.2972 | Time: 31.59s\n",
            "[LOG] =========> Train acc: 0.562 | Test acc: 0.565 | Time: 31.59s\n",
            "[LOG] Epoch 30 | Train Loss: 939.8574 | Time: 32.01s\n",
            "[LOG] =========> Train acc: 0.562 | Test acc: 0.563 | Time: 32.01s\n",
            "[LOG] Epoch 31 | Train Loss: 933.9791 | Time: 32.06s\n",
            "[LOG] =========> Train acc: 0.562 | Test acc: 0.562 | Time: 32.06s\n",
            "[LOG] Epoch 32 | Train Loss: 931.3024 | Time: 31.89s\n",
            "[LOG] =========> Train acc: 0.564 | Test acc: 0.563 | Time: 31.89s\n",
            "[LOG] Epoch 33 | Train Loss: 928.2894 | Time: 31.78s\n",
            "[LOG] =========> Train acc: 0.562 | Test acc: 0.562 | Time: 31.78s\n",
            "[LOG] Epoch 34 | Train Loss: 928.1775 | Time: 31.75s\n",
            "[LOG] =========> Train acc: 0.561 | Test acc: 0.562 | Time: 31.75s\n",
            "[LOG] Epoch 35 | Train Loss: 929.3597 | Time: 32.01s\n",
            "[LOG] =========> Train acc: 0.561 | Test acc: 0.564 | Time: 32.01s\n",
            "[LOG] Epoch 36 | Train Loss: 920.1634 | Time: 32.49s\n",
            "[LOG] =========> Train acc: 0.563 | Test acc: 0.563 | Time: 32.49s\n",
            "[LOG] Epoch 37 | Train Loss: 917.3661 | Time: 32.29s\n",
            "[LOG] =========> Train acc: 0.564 | Test acc: 0.564 | Time: 32.29s\n",
            "[LOG] Epoch 38 | Train Loss: 914.0135 | Time: 32.54s\n",
            "[LOG] =========> Train acc: 0.562 | Test acc: 0.563 | Time: 32.54s\n",
            "[LOG] Epoch 39 | Train Loss: 910.9704 | Time: 32.40s\n",
            "[LOG] =========> Train acc: 0.562 | Test acc: 0.559 | Time: 32.40s\n",
            "[LOG] Epoch 40 | Train Loss: 907.9335 | Time: 32.25s\n",
            "[LOG] =========> Train acc: 0.561 | Test acc: 0.562 | Time: 32.25s\n",
            "[LOG] Epoch 41 | Train Loss: 901.1313 | Time: 32.43s\n",
            "[LOG] =========> Train acc: 0.563 | Test acc: 0.563 | Time: 32.43s\n",
            "[LOG] Epoch 42 | Train Loss: 902.1344 | Time: 32.31s\n",
            "[LOG] =========> Train acc: 0.563 | Test acc: 0.563 | Time: 32.31s\n",
            "[LOG] Epoch 43 | Train Loss: 899.2255 | Time: 32.13s\n",
            "[LOG] =========> Train acc: 0.561 | Test acc: 0.559 | Time: 32.13s\n",
            "[LOG] Epoch 44 | Train Loss: 893.7954 | Time: 32.06s\n",
            "[LOG] =========> Train acc: 0.562 | Test acc: 0.561 | Time: 32.06s\n",
            "[LOG] Epoch 45 | Train Loss: 892.9349 | Time: 32.33s\n",
            "[LOG] =========> Train acc: 0.564 | Test acc: 0.560 | Time: 32.33s\n",
            "[LOG] Epoch 46 | Train Loss: 884.4015 | Time: 32.28s\n",
            "[LOG] =========> Train acc: 0.564 | Test acc: 0.557 | Time: 32.28s\n",
            "[LOG] Epoch 47 | Train Loss: 885.5676 | Time: 34.22s\n",
            "[LOG] =========> Train acc: 0.564 | Test acc: 0.563 | Time: 34.22s\n",
            "[LOG] Epoch 48 | Train Loss: 901.5501 | Time: 32.42s\n",
            "[LOG] =========> Train acc: 0.563 | Test acc: 0.562 | Time: 32.42s\n",
            "[LOG] Epoch 49 | Train Loss: 882.4626 | Time: 32.18s\n",
            "[LOG] =========> Train acc: 0.565 | Test acc: 0.560 | Time: 32.18s\n",
            "[LOG] Epoch 50 | Train Loss: 874.6812 | Time: 32.00s\n",
            "[LOG] =========> Train acc: 0.564 | Test acc: 0.561 | Time: 32.00s\n"
          ]
        }
      ],
      "source": [
        "# [MYCODE] 학습 루프에 정확도 및 손실 저장 추가\n",
        "n_epochs = 50\n",
        "train_acc_list = []\n",
        "test_acc_list = []\n",
        "train_loss_list = []\n",
        "\n",
        "for epoch in range(n_epochs):\n",
        "  epoch_start = time.time() #[MYCODE] 학습 시간 측정 시작\n",
        "  total_loss = 0.\n",
        "  model.train()\n",
        "  for data in train_loader:\n",
        "    model.zero_grad()\n",
        "    inputs, labels = data\n",
        "    inputs, labels = inputs.to('cuda'), labels.to('cuda')\n",
        "\n",
        "    preds = model(inputs) #[MYCODE] 과제적용 : 손실 함수 변경 이진 분류 -> 다중 클래스 분류\n",
        "    #[FEEDBACK] 기존 [..., 0] 제거하기 전에는 학습이 안되었음 둘의 차이점을 디버깅해봄\n",
        "    #print(f\"Preds Shape: {preds.shape}, Labels Shape: {labels.shape}\")  # 디버깅\n",
        "    #print(f\"Preds Sample: {preds[0]}, Label Sample: {labels[0]}\")  # 디버깅\n",
        "\n",
        "    loss = loss_fn(preds, labels)\n",
        "    loss.backward()\n",
        "    optimizer.step()\n",
        "\n",
        "    total_loss += loss.item()\n",
        "\n",
        "  epoch_time = time.time() - epoch_start #[MYCODE] 학습 시간 측정 종료\n",
        "  print(f\"[LOG] Epoch {epoch + 1} | Train Loss: {total_loss:.4f} | Time: {epoch_time:.2f}s\")\n",
        "\n",
        "  eval_start_time = time.time()  #[MYCODE] 평가 시간 측정 시작\n",
        "\n",
        "  with torch.no_grad():\n",
        "    #model.eval()\n",
        "    train_acc = accuracy(model, train_loader)\n",
        "    test_acc = accuracy(model, test_loader)\n",
        "\n",
        "    eval_time = time.time() - eval_start_time  #[MYCODE] 평가 시간 측정 종료\n",
        "    print(f\"[LOG] =========> Train acc: {train_acc:.3f} | Test acc: {test_acc:.3f} | Time: {epoch_time:.2f}s\")\n",
        "\n",
        "    # [MYCODE] 정확도 저장\n",
        "    train_acc_list.append(train_acc)\n",
        "    test_acc_list.append(test_acc)"
      ]
    },
    {
      "cell_type": "markdown",
      "metadata": {
        "id": "WqZays2yb8Ja"
      },
      "source": [
        "## 5.1 [MY_CODE] 그래프 출력"
      ]
    },
    {
      "cell_type": "code",
      "execution_count": 47,
      "metadata": {
        "id": "NAXB6GgIQy1S",
        "colab": {
          "base_uri": "https://localhost:8080/",
          "height": 487
        },
        "outputId": "d17b1302-cc17-4fb0-f477-b3a84c32af5d"
      },
      "outputs": [
        {
          "output_type": "display_data",
          "data": {
            "text/plain": [
              "<Figure size 1000x500 with 1 Axes>"
            ],
            "image/png": "[encoded data removed]"
          },
          "metadata": {}
        }
      ],
      "source": [
        "# [MYCODE] 학습 완료 후 그래프 출력\n",
        "plot_acc(train_acc_list, test_acc_list, title=\"Train vs Test Accuracy\")"
      ]
    },
    {
      "cell_type": "markdown",
      "source": [
        "## 6. Loss는 감소하는데 정확도가 오르지 않아서 추가 작업 시도"
      ],
      "metadata": {
        "id": "pmQjVpWazNMP"
      }
    },
    {
      "cell_type": "markdown",
      "source": [
        "### 6.1. 드롭아웃 추가"
      ],
      "metadata": {
        "id": "ugbcty1azQA3"
      }
    },
    {
      "cell_type": "code",
      "source": [
        "class TransformerLayerWithDropout(nn.Module):\n",
        "    def __init__(self, input_dim, d_model, dff):\n",
        "        super().__init__()\n",
        "        self.sa = SelfAttention(input_dim, d_model)\n",
        "        self.ffn = nn.Sequential(\n",
        "            nn.Linear(d_model, dff),\n",
        "            nn.ReLU(),\n",
        "            nn.Linear(dff, d_model),\n",
        "        )\n",
        "        self.dropout = nn.Dropout(0.1)  # [Add] 드롭아웃 추가\n",
        "\n",
        "    def forward(self, x, mask):\n",
        "        x = self.sa(x, mask) + x\n",
        "        x = self.ffn(x) + x\n",
        "        x = self.dropout(x)  # [Add] 드롭아웃 적용\n",
        "        return x"
      ],
      "metadata": {
        "id": "doibaZLPzYBb"
      },
      "execution_count": 48,
      "outputs": []
    },
    {
      "cell_type": "code",
      "source": [
        "class TextClassifierWithDropout(nn.Module):\n",
        "  def __init__(self, vocab_size, d_model, n_layers, dff):\n",
        "    super().__init__()\n",
        "\n",
        "    self.vocab_size = vocab_size\n",
        "    self.d_model = d_model\n",
        "    self.n_layers = n_layers\n",
        "    self.dff = dff\n",
        "\n",
        "    self.embedding = nn.Embedding(vocab_size, d_model)\n",
        "    self.pos_encoding = nn.parameter.Parameter(positional_encoding(max_len, d_model), requires_grad=False)\n",
        "    self.layers = nn.ModuleList([TransformerLayerWithDropout(d_model, d_model, dff) for _ in range(n_layers)])\n",
        "    self.classification = nn.Linear(d_model, vocab_size)\n",
        "\n",
        "  def forward(self, x):\n",
        "    mask = (x == tokenizer.pad_token_id)\n",
        "    mask = mask[:, None, :]\n",
        "    seq_len = x.shape[1]\n",
        "\n",
        "    x = self.embedding(x)\n",
        "    x = x * sqrt(self.d_model)\n",
        "    x = x + self.pos_encoding[:, :seq_len]\n",
        "\n",
        "    for layer in self.layers:\n",
        "      x = layer(x, mask)\n",
        "\n",
        "    x = x[:, 0]\n",
        "    x = self.classification(x)\n",
        "\n",
        "    return x"
      ],
      "metadata": {
        "id": "0DpJj714z4Ue"
      },
      "execution_count": 49,
      "outputs": []
    },
    {
      "cell_type": "markdown",
      "source": [
        "### 6.2. 임베딩 차원 조정"
      ],
      "metadata": {
        "id": "zwDU_1IYzpMJ"
      }
    },
    {
      "cell_type": "code",
      "source": [
        "# 모델 초기화\n",
        "model = TextClassifierWithDropout(len(tokenizer), 64, 3, 256)  # [Add] 차원조정\n",
        "model = model.to('cuda')"
      ],
      "metadata": {
        "id": "7EZDErVTzkG4"
      },
      "execution_count": 50,
      "outputs": []
    },
    {
      "cell_type": "markdown",
      "source": [
        "### 6.3. 학습률 스케줄러 추가"
      ],
      "metadata": {
        "id": "Ct__YzIJ0WRr"
      }
    },
    {
      "cell_type": "code",
      "source": [
        "from torch.optim.lr_scheduler import StepLR\n",
        "scheduler = StepLR(optimizer, step_size=10, gamma=0.5)"
      ],
      "metadata": {
        "id": "KStqVw9a0bIV"
      },
      "execution_count": 51,
      "outputs": []
    },
    {
      "cell_type": "markdown",
      "source": [
        "### 6.4. 학습시작"
      ],
      "metadata": {
        "id": "qYDUdO9t0i-G"
      }
    },
    {
      "cell_type": "code",
      "source": [
        "n_epochs = 5\n",
        "train_acc_list, test_acc_list = [], []\n",
        "for epoch in range(n_epochs):\n",
        "    model.train()\n",
        "    total_loss = 0\n",
        "    for data in train_loader:\n",
        "        inputs, labels = data\n",
        "        inputs, labels = inputs.to('cuda'), labels.to('cuda')\n",
        "        optimizer.zero_grad()\n",
        "        preds = model(inputs)\n",
        "        loss = loss_fn(preds, labels)\n",
        "        loss.backward()\n",
        "        optimizer.step()\n",
        "        total_loss += loss.item()\n",
        "\n",
        "    scheduler.step()\n",
        "\n",
        "    train_acc = accuracy(model, train_loader)\n",
        "    test_acc = accuracy(model, test_loader)\n",
        "    train_acc_list.append(train_acc)\n",
        "    test_acc_list.append(test_acc)\n",
        "    print(f\"Epoch {epoch + 1}, Loss: {total_loss:.4f}, Train Acc: {train_acc:.4f}, Test Acc: {test_acc:.4f}\")\n",
        "\n",
        "plt.plot(train_acc_list, label=\"Train Accuracy\")\n",
        "plt.plot(test_acc_list, label=\"Test Accuracy\")\n",
        "plt.xlabel(\"Epoch\")\n",
        "plt.ylabel(\"Accuracy\")\n",
        "plt.legend()\n",
        "plt.title(\"Train vs Test Accuracy\")\n",
        "plt.show()"
      ],
      "metadata": {
        "colab": {
          "base_uri": "https://localhost:8080/"
        },
        "id": "Yc2Pq52o0lq_",
        "outputId": "37435ad5-a143-4ee2-912a-4f59c4d4326d"
      },
      "execution_count": null,
      "outputs": [
        {
          "output_type": "stream",
          "name": "stdout",
          "text": [
            "Epoch 1, Loss: 9756.0938, Train Acc: 0.0000, Test Acc: 0.0000\n",
            "Epoch 2, Loss: 9744.5250, Train Acc: 0.0000, Test Acc: 0.0000\n"
          ]
        }
      ]
    },
    {
      "cell_type": "markdown",
      "source": [
        "### [FEEDBACK] 정확도를 높이려는 시도를 해봤지만 원하는 답을 얻지 못했습니다.\n",
        "\n",
        "해답이 있다면 알고싶습니다.\n",
        "1. 데이터가 너무 적음?\n",
        "2. 멀티헤드 어텐션의 부재?"
      ],
      "metadata": {
        "id": "MQ2k8k82UxKQ"
      }
    }
  ],
  "metadata": {
    "accelerator": "GPU",
    "colab": {
      "gpuType": "T4",
      "provenance": [],
      "machine_shape": "hm",
      "include_colab_link": true
    },
    "kernelspec": {
      "display_name": "Python 3",
      "name": "python3"
    },
    "language_info": {
      "codemirror_mode": {
        "name": "ipython",
        "version": 3
      },
      "file_extension": ".py",
      "mimetype": "text/x-python",
      "name": "python",
      "nbconvert_exporter": "python",
      "pygments_lexer": "ipython3",
      "version": "3.10.14"
    }
  },
  "nbformat": 4,
  "nbformat_minor": 0
}