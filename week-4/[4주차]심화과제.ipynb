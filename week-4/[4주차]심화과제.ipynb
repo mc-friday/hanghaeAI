{
  "cells": [
    {
      "cell_type": "markdown",
      "metadata": {
        "id": "view-in-github",
        "colab_type": "text"
      },
      "source": [
        "<a href=\"https://colab.research.google.com/github/mc-friday/hanghaeAI/blob/main/%5B4%EC%A3%BC%EC%B0%A8%5D%EC%8B%AC%ED%99%94%EA%B3%BC%EC%A0%9C.ipynb\" target=\"_parent\"><img src=\"https://colab.research.google.com/assets/colab-badge.svg\" alt=\"Open In Colab\"/></a>"
      ]
    },
    {
      "cell_type": "markdown",
      "source": [
        "# [4주차] 심화과제: 수능 국어 문제 GPT-4로 풀어보기"
      ],
      "metadata": {
        "id": "sbgz49PvHhLt"
      }
    },
    {
      "cell_type": "code",
      "execution_count": 1,
      "metadata": {
        "colab": {
          "base_uri": "https://localhost:8080/"
        },
        "id": "1LqgujQUbv6X",
        "outputId": "975819b1-b7ed-4422-e9e0-98424dac69f6",
        "collapsed": true
      },
      "outputs": [
        {
          "output_type": "stream",
          "name": "stdout",
          "text": [
            "Requirement already satisfied: openai in /usr/local/lib/python3.10/dist-packages (1.59.3)\n",
            "Requirement already satisfied: anyio<5,>=3.5.0 in /usr/local/lib/python3.10/dist-packages (from openai) (3.7.1)\n",
            "Requirement already satisfied: distro<2,>=1.7.0 in /usr/local/lib/python3.10/dist-packages (from openai) (1.9.0)\n",
            "Requirement already satisfied: httpx<1,>=0.23.0 in /usr/local/lib/python3.10/dist-packages (from openai) (0.28.1)\n",
            "Requirement already satisfied: jiter<1,>=0.4.0 in /usr/local/lib/python3.10/dist-packages (from openai) (0.8.2)\n",
            "Requirement already satisfied: pydantic<3,>=1.9.0 in /usr/local/lib/python3.10/dist-packages (from openai) (2.10.4)\n",
            "Requirement already satisfied: sniffio in /usr/local/lib/python3.10/dist-packages (from openai) (1.3.1)\n",
            "Requirement already satisfied: tqdm>4 in /usr/local/lib/python3.10/dist-packages (from openai) (4.67.1)\n",
            "Requirement already satisfied: typing-extensions<5,>=4.11 in /usr/local/lib/python3.10/dist-packages (from openai) (4.12.2)\n",
            "Requirement already satisfied: idna>=2.8 in /usr/local/lib/python3.10/dist-packages (from anyio<5,>=3.5.0->openai) (3.10)\n",
            "Requirement already satisfied: exceptiongroup in /usr/local/lib/python3.10/dist-packages (from anyio<5,>=3.5.0->openai) (1.2.2)\n",
            "Requirement already satisfied: certifi in /usr/local/lib/python3.10/dist-packages (from httpx<1,>=0.23.0->openai) (2024.12.14)\n",
            "Requirement already satisfied: httpcore==1.* in /usr/local/lib/python3.10/dist-packages (from httpx<1,>=0.23.0->openai) (1.0.7)\n",
            "Requirement already satisfied: h11<0.15,>=0.13 in /usr/local/lib/python3.10/dist-packages (from httpcore==1.*->httpx<1,>=0.23.0->openai) (0.14.0)\n",
            "Requirement already satisfied: annotated-types>=0.6.0 in /usr/local/lib/python3.10/dist-packages (from pydantic<3,>=1.9.0->openai) (0.7.0)\n",
            "Requirement already satisfied: pydantic-core==2.27.2 in /usr/local/lib/python3.10/dist-packages (from pydantic<3,>=1.9.0->openai) (2.27.2)\n"
          ]
        }
      ],
      "source": [
        "!pip install openai"
      ]
    },
    {
      "cell_type": "code",
      "execution_count": 2,
      "metadata": {
        "id": "6lGiZUoPby6e"
      },
      "outputs": [],
      "source": [
        "import openai\n",
        "import json\n",
        "import time\n",
        "\n",
        "openai.api_key = \"key\"\n",
        "client = openai.OpenAI(api_key=openai.api_key)"
      ]
    },
    {
      "cell_type": "markdown",
      "source": [
        "## 1. 수능 문제 JSON 데이터 로드 함수"
      ],
      "metadata": {
        "id": "Cvfl_uFLIMWO"
      }
    },
    {
      "cell_type": "code",
      "source": [
        "def load_data(file_path):\n",
        "    with open(file_path, 'r', encoding='utf-8') as file:\n",
        "        data = json.load(file)\n",
        "    return data"
      ],
      "metadata": {
        "id": "rE-y8sY9HuwP"
      },
      "execution_count": 3,
      "outputs": []
    },
    {
      "cell_type": "markdown",
      "source": [
        "## 2. 하나의 문제에 대해서 GPT-4의 예측 결과를 내놓는 함수"
      ],
      "metadata": {
        "id": "bF34XkoYIeEm"
      }
    },
    {
      "cell_type": "code",
      "execution_count": 4,
      "metadata": {
        "id": "HJaUp2Vob0U-"
      },
      "outputs": [],
      "source": [
        "def prediction(problem):\n",
        "    \"\"\"\n",
        "    문제 데이터를 받아 GPT-4가 답안을 예측하도록 하는 함수\n",
        "    \"\"\"\n",
        "    zero_shot_cot_en_prompt_plus = f\"\"\"\n",
        "    국어 시험 문제를 푸는 똑똑한 학생으로서 다음 문제의 답을 구하세요.\n",
        "    지문을 읽고, 질문에 대한 답을 1부터 5까지의 선택지 중에 한 개만 골라서 대답해야 합니다.\n",
        "    <보기>가 있으면 꼭 문제 풀이에 참고해야 합니다.\n",
        "\n",
        "    지문 :\n",
        "    {problem['paragraph']}\n",
        "\n",
        "    질문 :\n",
        "    {problem['question']}\n",
        "\n",
        "    <보기> :\n",
        "    {problem.get('question_plus', '')}\n",
        "\n",
        "    선택지 :\n",
        "    1 - {problem['choices'][0]}\n",
        "    2 - {problem['choices'][1]}\n",
        "    3 - {problem['choices'][2]}\n",
        "    4 - {problem['choices'][3]}\n",
        "    5 - {problem['choices'][4]}\n",
        "\n",
        "    1번, 2번, 3번, 4번, 5번 중에 하나를 정답으로 고르세요.\n",
        "    단계별로 생각하며 정답을 고르세요.\n",
        "    정답은 숫자만 답하세요.\n",
        "    정답:\n",
        "    \"\"\"\n",
        "\n",
        "     # 문제 풀이 시작 시간 기록\n",
        "    start_time = time.time()\n",
        "\n",
        "\n",
        "    # GPT-4 API 호출\n",
        "    try:\n",
        "        response = client.chat.completions.create(\n",
        "            model=\"gpt-4o\",\n",
        "            messages=[\n",
        "                {\"role\": \"system\", \"content\": \"You are a helpful assistant.\"},\n",
        "                {\"role\": \"user\", \"content\": zero_shot_cot_en_prompt_plus}\n",
        "            ]\n",
        "        )\n",
        "        # GPT-4의 답변에서 선택한 답안을 반환\n",
        "        predicted_answer = response.choices[0].message.content\n",
        "\n",
        "         # 문제 풀이 종료 시간 기록\n",
        "        end_time = time.time()\n",
        "        elapsed_time = end_time - start_time\n",
        "\n",
        "        print(f\"[LOG] 문제 풀이 시간: {elapsed_time:.2f}초, 예측된 정답: {predicted_answer}\")\n",
        "\n",
        "        return predicted_answer\n",
        "    except Exception as e:\n",
        "        print(f\"Error during GPT-4 prediction: {e}\")\n",
        "        return None\n"
      ]
    },
    {
      "cell_type": "markdown",
      "source": [
        "## 3. 모든 문제를 평가하고 점수를 계산하는 함수"
      ],
      "metadata": {
        "id": "uh-tqY8WInQt"
      }
    },
    {
      "cell_type": "code",
      "execution_count": 5,
      "metadata": {
        "id": "xW7ETZQzzNp2"
      },
      "outputs": [],
      "source": [
        "def evaluate_all_problems(data):\n",
        "    \"\"\"\n",
        "    JSON 데이터의 모든 문제를 평가하고 점수를 계산하는 함수\n",
        "    \"\"\"\n",
        "    total_score = 0  # 총 점수\n",
        "    possible_score = 0  # 가능한 총 점수\n",
        "    correct_count = 0  # 정답 개수\n",
        "    total_count = 0  # 전체 문제 수\n",
        "\n",
        "    for item in data:\n",
        "        paragraph = item[\"paragraph\"]\n",
        "        for problem in item[\"problems\"]:\n",
        "            total_count += 1\n",
        "            possible_score += problem[\"score\"]  # 가능한 점수 누적\n",
        "\n",
        "            # 문제 데이터 준비\n",
        "            problem_data = {\n",
        "                \"paragraph\": paragraph,\n",
        "                \"question\": problem[\"question\"],\n",
        "                \"choices\": problem[\"choices\"],\n",
        "                \"question_plus\": problem.get(\"question_plus\", \"\"),\n",
        "            }\n",
        "\n",
        "            # GPT-4 답안 예측\n",
        "            predicted_answer = prediction(problem_data)\n",
        "\n",
        "            # 실제 정답과 비교\n",
        "            if str(predicted_answer) == str(problem[\"answer\"]):  # 정답 비교\n",
        "                total_score += problem[\"score\"]\n",
        "                correct_count += 1\n",
        "\n",
        "    # 결과 출력\n",
        "    print(f\"총 문제 수: {total_count}\")\n",
        "    print(f\"정답 개수: {correct_count}/{total_count}\")\n",
        "    print(f\"정확도: {correct_count / total_count:.2%}\")\n",
        "    print(f\"총 점수: {total_score}/{possible_score}\")\n",
        "    return total_score, possible_score, correct_count, total_count"
      ]
    },
    {
      "cell_type": "markdown",
      "source": [
        "## 4. 평가 실행"
      ],
      "metadata": {
        "id": "_hFvSis0JLju"
      }
    },
    {
      "cell_type": "code",
      "execution_count": 6,
      "metadata": {
        "id": "uyTciaPZ0KYo",
        "colab": {
          "base_uri": "https://localhost:8080/"
        },
        "outputId": "cf44733a-8b61-469d-c1d4-be6b6b75046d"
      },
      "outputs": [
        {
          "output_type": "stream",
          "name": "stdout",
          "text": [
            "[LOG] 문제 풀이 시간: 0.51초, 예측된 정답: 4\n",
            "[LOG] 문제 풀이 시간: 0.43초, 예측된 정답: 5\n",
            "[LOG] 문제 풀이 시간: 0.56초, 예측된 정답: 1\n",
            "[LOG] 문제 풀이 시간: 0.57초, 예측된 정답: 4\n",
            "[LOG] 문제 풀이 시간: 0.76초, 예측된 정답: 5\n",
            "[LOG] 문제 풀이 시간: 0.51초, 예측된 정답: 3\n",
            "[LOG] 문제 풀이 시간: 0.64초, 예측된 정답: 2\n",
            "[LOG] 문제 풀이 시간: 1.02초, 예측된 정답: 3\n",
            "[LOG] 문제 풀이 시간: 0.48초, 예측된 정답: 2\n",
            "[LOG] 문제 풀이 시간: 2.19초, 예측된 정답: 1\n",
            "\n",
            "선택지 1번은 틀렸습니다. 법령의 요건과 효과 모두에 불확정 개념이 사용될 수 있다는 주장은 지문에서 지지되지 않으며, 이러한 공통적 특성이 조문에 항상 나타나는 것으로 설명하지 않습니다.\n",
            "[LOG] 문제 풀이 시간: 2.95초, 예측된 정답: 5\n",
            "[LOG] 문제 풀이 시간: 0.52초, 예측된 정답: 2\n",
            "[LOG] 문제 풀이 시간: 2.68초, 예측된 정답: 1\n",
            "[LOG] 문제 풀이 시간: 2.80초, 예측된 정답: 3\n",
            "[LOG] 문제 풀이 시간: 3.83초, 예측된 정답: 5\n",
            "\n",
            "(클라이버의 법칙에 따라 기초 대사량은 (체중)^0.75에 비례하며, 이는 초기 연구에서 바랐던 (체중)^0.67에 비례하는 것과 다르지만, 체중이 증가하면 대사량 증가율은 초기 연구자들이 예상한 것보다 더 낮습니다. 따라서 예상보다 많은 양의 에너지가 필요하지 않다는 것이 적절하지 않은 추론입니다.)\n",
            "[LOG] 문제 풀이 시간: 0.62초, 예측된 정답: 4\n",
            "[LOG] 문제 풀이 시간: 0.60초, 예측된 정답: 1\n",
            "[LOG] 문제 풀이 시간: 0.61초, 예측된 정답: 4\n",
            "[LOG] 문제 풀이 시간: 0.86초, 예측된 정답: 3\n",
            "[LOG] 문제 풀이 시간: 0.45초, 예측된 정답: 3\n",
            "[LOG] 문제 풀이 시간: 0.50초, 예측된 정답: 5\n",
            "[LOG] 문제 풀이 시간: 1.20초, 예측된 정답: 1\n",
            "[LOG] 문제 풀이 시간: 0.55초, 예측된 정답: 5\n",
            "[LOG] 문제 풀이 시간: 7.93초, 예측된 정답: 질문과 보기를 통해 정보를 분석해보겠습니다. \n",
            "\n",
            "(가) 지문에서는 자연과 인간의 이치가 일치된 이상적 공간을 이야기하고 있으며, 화자는 자연과 하나가 된 상태를 지향하고 있습니다. \n",
            "- 여기서 초야우생은 그러한 공간에 있는 화자를 나타내는 표현입니다.\n",
            "- 천석고황은 옛 표현으로 자연과 하나가 되고 싶은 마음이 강해 고칠 수 없는 상태를 의미합니다. \n",
            "\n",
            "(나) 지문에서는 화자가 자연 속에서 새롭게 발견한 자연의 가치를 이야기합니다. 무릉도원은 이를 이상적인 공간으로 인식하는 화자의 마음을 나타냅니다.\n",
            "\n",
            "선택지에서 보면:\n",
            "1 - (가)의 ‘초야우생’은 자연의 이치와 인간의 이치가 일치된 공간에 속한 화자를 나타내는 것이 맞습니다.\n",
            "2 - (나)의 ‘내 혼자 알았노라’는 자연의 가치를 발견한 화자의 심정을 드러내는 것이 맞습니다.\n",
            "3 - (가)의 ‘천석고황’은 자연과 하나가 되고 싶은 화자의 아쉬움을 나타내는 것이 아니며, 자연과 떨어지기 어려운 마음을 뜻합니다. 이는 결국 자연과 하나가 되고 싶은 마음을 가지게 되는 걸 표현합니다. (나)의 ‘무릉도원’은 화자가 발견한 이상적인 자연의 실체로 인식합니다.\n",
            "4 - (가)의 ‘사람과 한가지라’는 자연과 인간의 이치가 일치함을 나타내며, (나)의 '가지가지 다 좋구나'는 자연의 가치 확인입니다.\n",
            "5 - (가)의 ‘춘풍에 화만산하고 추야에 월만대라’는 자연을 묘사하며 이상적인 자연 공간을 말합니다. (나)의 ‘벽류는 콸콸 흘러 옥 술잔을 때리는 듯’은 화자가 발견한 자연의 아름다운 모습입니다.\n",
            "\n",
            "따라서 적절하지 않은 것은 3번이며, 정답은 3입니다.\n",
            "[LOG] 문제 풀이 시간: 0.69초, 예측된 정답: 3\n",
            "[LOG] 문제 풀이 시간: 0.70초, 예측된 정답: 4\n",
            "[LOG] 문제 풀이 시간: 0.69초, 예측된 정답: 1\n",
            "[LOG] 문제 풀이 시간: 0.55초, 예측된 정답: 2\n",
            "[LOG] 문제 풀이 시간: 0.51초, 예측된 정답: 1\n",
            "[LOG] 문제 풀이 시간: 1.13초, 예측된 정답: 2\n",
            "[LOG] 문제 풀이 시간: 1.78초, 예측된 정답: 1\n",
            "[LOG] 문제 풀이 시간: 1.97초, 예측된 정답: 4\n",
            "[LOG] 문제 풀이 시간: 1.95초, 예측된 정답: 3\n",
            "[LOG] 문제 풀이 시간: 2.38초, 예측된 정답: 3\n",
            "[LOG] 문제 풀이 시간: 2.39초, 예측된 정답: 1\n",
            "[LOG] 문제 풀이 시간: 2.61초, 예측된 정답: 5\n",
            "[LOG] 문제 풀이 시간: 2.20초, 예측된 정답: 3\n",
            "[LOG] 문제 풀이 시간: 3.52초, 예측된 정답: 4\n",
            "[LOG] 문제 풀이 시간: 3.43초, 예측된 정답: 4\n",
            "[LOG] 문제 풀이 시간: 3.44초, 예측된 정답: 3\n",
            "[LOG] 문제 풀이 시간: 3.57초, 예측된 정답: 4\n",
            "[LOG] 문제 풀이 시간: 3.93초, 예측된 정답: 4\n",
            "[LOG] 문제 풀이 시간: 1.92초, 예측된 정답: 5\n",
            "[LOG] 문제 풀이 시간: 2.07초, 예측된 정답: 2\n",
            "[LOG] 문제 풀이 시간: 2.53초, 예측된 정답: 1\n",
            "총 문제 수: 45\n",
            "정답 개수: 37/45\n",
            "정확도: 82.22%\n",
            "총 점수: 81/100\n"
          ]
        }
      ],
      "source": [
        "file_path = \"./data/2023_11_KICE.json\"  # Colab에 업로드한 JSON 파일 경로\n",
        "\n",
        "# 데이터 로드\n",
        "data = load_data(file_path)\n",
        "\n",
        "# 모든 문제 평가 실행\n",
        "total_score, possible_score, correct_count, total_count = evaluate_all_problems(data)"
      ]
    }
  ],
  "metadata": {
    "accelerator": "GPU",
    "colab": {
      "gpuType": "T4",
      "provenance": [],
      "machine_shape": "hm",
      "include_colab_link": true
    },
    "kernelspec": {
      "display_name": "Python 3",
      "name": "python3"
    },
    "language_info": {
      "name": "python"
    }
  },
  "nbformat": 4,
  "nbformat_minor": 0
}